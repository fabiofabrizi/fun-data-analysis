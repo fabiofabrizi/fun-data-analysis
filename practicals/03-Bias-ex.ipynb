{
 "cells": [
  {
   "cell_type": "markdown",
   "id": "58d3b303",
   "metadata": {},
   "source": [
    "## Bias - Topic 3 from 'Fundamentals of Data Analysis'\n",
    "\n",
    "### Exercise: Give three real-world examples of different types of cognitive bias."
   ]
  },
  {
   "cell_type": "markdown",
   "id": "3d07da89",
   "metadata": {},
   "source": [
    "### Anchoring Bias"
   ]
  },
  {
   "cell_type": "markdown",
   "id": "f890ca25",
   "metadata": {},
   "source": [
    "An anchor is a reference point around which future decisions are made.<br> \n",
    "Purchasing a car exploits this bias, because the majority of prospective customers will try to negotiate lower than the price (the anchor).\n",
    "In this example, the car salesperson has set the anchor and therefore is trying to steer future decisions in their favour.\n",
    "See [Judgement under Uncertainty: Heuristics and Biases](https://www2.psych.ubc.ca/~schaller/Psyc590Readings/TverskyKahneman1974.pdf) for more information on anchoring"
   ]
  },
  {
   "cell_type": "markdown",
   "id": "d90928ef",
   "metadata": {},
   "source": [
    "### The Bandwagon Effect"
   ]
  },
  {
   "cell_type": "markdown",
   "id": "30c284fd",
   "metadata": {},
   "source": [
    "This bias implies that you're more likely to hold a belief if it's held by the majority of people.<br>\n",
    "\n",
    "*If many people believe it, how can it not be true?*<br>\n",
    "\n",
    "In fact, there's an old saying in the financial markets where if someone on the street gives you tips on what stocks to buy, then it's actually time to sell them.\n",
    "This is because the stock of a company is overvalued if everyone is buying it and they don't know why."
   ]
  },
  {
   "cell_type": "markdown",
   "id": "ccf8e704",
   "metadata": {},
   "source": [
    "### Stereotyping"
   ]
  },
  {
   "cell_type": "markdown",
   "id": "c974b88c",
   "metadata": {},
   "source": [
    "A bias where someone is expected to have the traits of the social and/or racial group that they belong to. In many cases, these traits are often false, but far-right groups have exploited this to come to prominence again in continental Europe in recent years."
   ]
  },
  {
   "cell_type": "markdown",
   "id": "a0ef628f",
   "metadata": {},
   "source": [
    "### Conclusion"
   ]
  },
  {
   "cell_type": "markdown",
   "id": "ffea74c3",
   "metadata": {},
   "source": [
    "I found this assignment an interesting one - I got to see my own biases.\n",
    "Whilst reading around biases I also saw the biases that the Brexit 'Leave' campaign used to successfully win the referendum:\n",
    "- Confirmation bias\n",
    "- Conservatism bias\n",
    "- Bandwagon effect\n",
    "- Dunning Kruger effect\n",
    "- Strawman bias\n",
    "\n",
    "Because the more popular examples of confirmation bias and Dunning-Kruger effect were spoken about in the lecture videos, I chose to leave them out."
   ]
  },
  {
   "cell_type": "markdown",
   "id": "d4d697bd",
   "metadata": {},
   "source": [
    "### References"
   ]
  },
  {
   "cell_type": "markdown",
   "id": "cbd770d1",
   "metadata": {},
   "source": [
    "1. [Cognitive bias examples from Psychmechanics](https://www.psychmechanics.com/cognitive-biases-examples/)\n",
    "2. [Judgement under Uncertainty: Heuristics and Biases](https://www2.psych.ubc.ca/~schaller/Psyc590Readings/TverskyKahneman1974.pdf) by Amos Tversky and Daniel Kahneman\n",
    "3. [An example of the Bandwagon effect from the financial world](https://archive.fortune.com/magazines/fortune/fortune_archive/1996/04/15/211503/index.htm)\n",
    "4. [Cognitive bias Codex](https://upload.wikimedia.org/wikipedia/commons/c/ce/Cognitive_Bias_Codex_With_Definitions%2C_an_Extension_of_the_work_of_John_Manoogian_by_Brian_Morrissette.jpg)\n",
    "5. [Cognitive bias examples from Positive Psychology](https://positivepsychology.com/cognitive-biases/)\n",
    "6. [Ian's notebook on statistical and cognitive bias](https://github.com/ianmcloughlin/2223-S1-fund-data-analysis/blob/main/notebooks/03-bias.ipynb)"
   ]
  }
 ],
 "metadata": {
  "kernelspec": {
   "display_name": "Python 3 (ipykernel)",
   "language": "python",
   "name": "python3"
  },
  "language_info": {
   "codemirror_mode": {
    "name": "ipython",
    "version": 3
   },
   "file_extension": ".py",
   "mimetype": "text/x-python",
   "name": "python",
   "nbconvert_exporter": "python",
   "pygments_lexer": "ipython3",
   "version": "3.9.13"
  }
 },
 "nbformat": 4,
 "nbformat_minor": 5
}
