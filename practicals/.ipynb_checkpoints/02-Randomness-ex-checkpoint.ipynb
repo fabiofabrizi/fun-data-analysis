{
 "cells": [
  {
   "cell_type": "markdown",
   "id": "83db00e3",
   "metadata": {},
   "source": [
    "<h1 style=\"color: #005b5e;\">Exercises on Randomness</h1>\n",
    "\n",
    "<hr style=\"border-top: 1px solid #000000;\" />\n",
    "\n",
    "\n",
    "This notebook contains the exercises on topic 2: Randomness:\n",
    "\n",
    "1. It is somewhat interesting that `(5 * 4 * 3 * 2 * 1)` perfectly divides `(10 * 9 * 8 * 7 * 6)` - there's no remainder.\n",
    "    If we only wanted exactly four heads as opposed to five, the equivalent calculation would be:<br> `(10 * 9 * 8 * 7) / (4 * 3 * 2 * 1)`.<br>\n",
    "    - Does 4 heads divide evenly?<br>\n",
    "    - What the formula is in general.<br>\n",
    "    - Does the division always come out as a positive whole number?<br>\n",
    "2. There are the same number of ways to get 4 tails as there to get 4 heads. Explain why this is.\n",
    "\n",
    "\n",
    "\n",
    "<hr style=\"border-top: 1px solid #000000;\" />\n"
   ]
  },
  {
   "cell_type": "markdown",
   "id": "dc38f48e",
   "metadata": {},
   "source": [
    "### Exercise 1\n",
    "Note that there are the same number of ways to get 4 tails as there to get 4 heads. Explain why this is."
   ]
  },
  {
   "cell_type": "markdown",
   "id": "c4483512",
   "metadata": {},
   "source": [
    "This area of mathematics is called combinatorics - See the 'References' section below for a more detailed explanation."
   ]
  },
  {
   "cell_type": "code",
   "execution_count": 19,
   "id": "d7ff120e",
   "metadata": {},
   "outputs": [
    {
     "data": {
      "text/plain": [
       "210"
      ]
     },
     "execution_count": 19,
     "metadata": {},
     "output_type": "execute_result"
    }
   ],
   "source": [
    "(10 * 9 * 8 * 7) // (4 * 3 * 2 * 1)"
   ]
  },
  {
   "cell_type": "markdown",
   "id": "21dc3637",
   "metadata": {},
   "source": [
    "As can be seen above, there's 210 different ways to get 4 heads, and it divides evenly because the numerator and denominator are both positive integers.\n",
    "When flipping a coin, there's 2 states: Heads or Tails (1 or 0)\n",
    "\n",
    "As the formula above was concerned with one outcome, then it also applies to tails."
   ]
  },
  {
   "cell_type": "markdown",
   "id": "2b523dcc",
   "metadata": {},
   "source": [
    "The formula for working out the probability of a particular outcome is known as the *Binomial Function* and is shown below."
   ]
  },
  {
   "cell_type": "markdown",
   "id": "268aa826",
   "metadata": {},
   "source": [
    "$\\binom{n}{k}$ = $\\frac{n!}{k!(n-k)!}$"
   ]
  },
  {
   "cell_type": "markdown",
   "id": "87b27cfb",
   "metadata": {},
   "source": [
    "*k* is always between 0 and n and so the division will always be a positive whole number."
   ]
  },
  {
   "cell_type": "markdown",
   "id": "433f843e",
   "metadata": {},
   "source": [
    "### Exercise 2\n",
    "There are the same number of ways to get 4 tails as there are to get 4 heads."
   ]
  },
  {
   "cell_type": "markdown",
   "id": "7acfdcba",
   "metadata": {},
   "source": [
    "The outcomes are binary - i.e. 1 or 0 (heads or tails).\n",
    "Therefore, the calculations that apply to working out how many different ways there are to get heads also apply to getting tails.\n",
    "\n",
    "If we flip a coin ten times, the total number of combinations is:"
   ]
  },
  {
   "cell_type": "code",
   "execution_count": 18,
   "id": "7dc50e5c",
   "metadata": {},
   "outputs": [
    {
     "data": {
      "text/plain": [
       "1024"
      ]
     },
     "execution_count": 18,
     "metadata": {},
     "output_type": "execute_result"
    }
   ],
   "source": [
    "# Total number of outcomes\n",
    "2 ** 10"
   ]
  },
  {
   "cell_type": "markdown",
   "id": "7a21a674",
   "metadata": {},
   "source": [
    "The formula for working out the probability of a particular outcome is known as the *Binomial Function* and is shown below."
   ]
  },
  {
   "cell_type": "markdown",
   "id": "4308e41b",
   "metadata": {},
   "source": [
    "$\\binom{n}{k}$ = $\\frac{n!}{k!(n-k)!}$"
   ]
  },
  {
   "cell_type": "markdown",
   "id": "fe659577",
   "metadata": {},
   "source": [
    "Where *n* is the number of flips and *k* is the number of outcomes. *k* can be heads or tails. "
   ]
  },
  {
   "cell_type": "markdown",
   "id": "3560337f",
   "metadata": {},
   "source": [
    "P(*k* heads, (*n-k*) tails) = $\\binom{n}{k}$/2<sup>n</sup>"
   ]
  },
  {
   "cell_type": "markdown",
   "id": "1bdf38d1",
   "metadata": {},
   "source": [
    "Work out $\\binom{n}{k}$ first:\n"
   ]
  },
  {
   "cell_type": "markdown",
   "id": "ce7861ea",
   "metadata": {},
   "source": [
    "$\\frac{10!}{4!(10-4)!}$ = $\\frac{10!}{4!(6)!}$"
   ]
  },
  {
   "cell_type": "code",
   "execution_count": 65,
   "id": "cad4622c",
   "metadata": {},
   "outputs": [
    {
     "name": "stdout",
     "output_type": "stream",
     "text": [
      "3628800\n",
      "24\n",
      "720\n"
     ]
    }
   ],
   "source": [
    "# Figure out the factorials:\n",
    "import math\n",
    "print(math.factorial(10))\n",
    "print(math.factorial(4))\n",
    "print(math.factorial(6))"
   ]
  },
  {
   "cell_type": "code",
   "execution_count": 66,
   "id": "cc583b82",
   "metadata": {},
   "outputs": [
    {
     "data": {
      "text/plain": [
       "210"
      ]
     },
     "execution_count": 66,
     "metadata": {},
     "output_type": "execute_result"
    }
   ],
   "source": [
    "math.factorial(10) // (math.factorial(4) * math.factorial(6))"
   ]
  },
  {
   "cell_type": "markdown",
   "id": "8566680a",
   "metadata": {},
   "source": [
    "Remember:\n",
    "P(*k* heads, (*n-k*) tails) = $\\binom{n}{k}$/2<sup>n</sup>"
   ]
  },
  {
   "cell_type": "code",
   "execution_count": 68,
   "id": "b79fe69b",
   "metadata": {},
   "outputs": [
    {
     "name": "stdout",
     "output_type": "stream",
     "text": [
      "0.205078125\n"
     ]
    }
   ],
   "source": [
    "P = 210/(2**10)\n",
    "print(P)"
   ]
  },
  {
   "cell_type": "markdown",
   "id": "938e61f5",
   "metadata": {},
   "source": [
    "At the start, *k* was given a value for heads - but it doesn't have to be that way.\n",
    "*k* can be given a value for tails and the number would be the same."
   ]
  },
  {
   "cell_type": "markdown",
   "id": "da3e86b8",
   "metadata": {},
   "source": [
    "Below is a plot of the probability of the two outcomes of a coin flip (heads or tails).\n",
    "Note as the 'size' variable increases it gets closer to 50/50.\n",
    "The variable 'size' determines how many times the coin was flipped."
   ]
  },
  {
   "cell_type": "code",
   "execution_count": 56,
   "id": "b243ffee",
   "metadata": {},
   "outputs": [
    {
     "data": {
      "image/png": "[encoded data removed]",
      "text/plain": [
       "<Figure size 640x480 with 1 Axes>"
      ]
     },
     "metadata": {},
     "output_type": "display_data"
    }
   ],
   "source": [
    "from numpy import random\n",
    "import matplotlib.pyplot as plt\n",
    "import seaborn as sns\n",
    "\n",
    "# Flip 1 coin 100 times with a probability of 50% \n",
    "x = random.binomial(1, p=0.5, size=100)\n",
    "\n",
    "sns.distplot(x, hist=True, kde=False)\n",
    "\n",
    "# Plot the graph\n",
    "plt.show()"
   ]
  },
  {
   "cell_type": "code",
   "execution_count": null,
   "id": "07c08931",
   "metadata": {},
   "outputs": [],
   "source": []
  },
  {
   "cell_type": "code",
   "execution_count": null,
   "id": "8a5016dc",
   "metadata": {},
   "outputs": [],
   "source": []
  },
  {
   "cell_type": "code",
   "execution_count": null,
   "id": "b5ef4b57",
   "metadata": {},
   "outputs": [],
   "source": []
  },
  {
   "cell_type": "markdown",
   "id": "8d5069e7",
   "metadata": {},
   "source": [
    "### References"
   ]
  },
  {
   "cell_type": "markdown",
   "id": "ee5077f9",
   "metadata": {},
   "source": [
    "1. [Definition and explantion of combinatorics from Wikipedia](https://en.wikipedia.org/wiki/Combinatorics)"
   ]
  }
 ],
 "metadata": {
  "kernelspec": {
   "display_name": "Python 3 (ipykernel)",
   "language": "python",
   "name": "python3"
  },
  "language_info": {
   "codemirror_mode": {
    "name": "ipython",
    "version": 3
   },
   "file_extension": ".py",
   "mimetype": "text/x-python",
   "name": "python",
   "nbconvert_exporter": "python",
   "pygments_lexer": "ipython3",
   "version": "3.9.13"
  }
 },
 "nbformat": 4,
 "nbformat_minor": 5
}
