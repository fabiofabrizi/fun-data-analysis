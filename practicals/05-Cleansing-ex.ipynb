{
 "cells": [
  {
   "cell_type": "markdown",
   "id": "f8aa0e2f",
   "metadata": {},
   "source": [
    "## Exercise 1\n",
    "\n",
    "***\n",
    "Write a Python function to remove all non-alphanumeric characters from a string.\n",
    "\n",
    "<hr style=\"border-top: 1px solid #001a79;\" />"
   ]
  },
  {
   "cell_type": "markdown",
   "id": "1fec2552",
   "metadata": {},
   "source": [
    "An alphanumeric character is a letter, digit or underscore - in the ASCII character set this is:<br>\n",
    "\n",
    "[a-zA-Z0-9_]<br>\n",
    "\n",
    "Which covers lower and upper-case letters and digits 0-9 as well as underscore."
   ]
  },
  {
   "cell_type": "code",
   "execution_count": 63,
   "id": "1fba33b1",
   "metadata": {},
   "outputs": [],
   "source": [
    "# Import the regex library\n",
    "import re\n",
    "\n",
    "# For exercise 2\n",
    "import urllib.request"
   ]
  },
  {
   "cell_type": "code",
   "execution_count": 3,
   "id": "8af0b7e1",
   "metadata": {},
   "outputs": [
    {
     "data": {
      "text/plain": [
       "44"
      ]
     },
     "execution_count": 3,
     "metadata": {},
     "output_type": "execute_result"
    }
   ],
   "source": [
    "# Example string - a pangram - contains all the letters of the alphabet.\n",
    "s = 'The quick brown fox jumps over the lazy dog '\n",
    "len(s)"
   ]
  },
  {
   "cell_type": "code",
   "execution_count": 4,
   "id": "88b83bd3",
   "metadata": {},
   "outputs": [],
   "source": [
    "# Now make the string 'ugly' by adding non-alphanumeric characters:\n",
    "non_alpha = '£&$#~@?'\n",
    "# &$#~@?"
   ]
  },
  {
   "cell_type": "code",
   "execution_count": 5,
   "id": "90da78fe",
   "metadata": {
    "scrolled": true
   },
   "outputs": [],
   "source": [
    "# insert non-alphanumeric characters into string:\n",
    "# Count every 3 chars, use the length of the original string s as the range\n",
    "newString = non_alpha.join(s[i:i+1] for i in range(0, len(s) - 1))"
   ]
  },
  {
   "cell_type": "markdown",
   "id": "2ef412c9",
   "metadata": {},
   "source": [
    "So now, we need to get from here:"
   ]
  },
  {
   "cell_type": "code",
   "execution_count": 6,
   "id": "42d90586",
   "metadata": {},
   "outputs": [
    {
     "name": "stdout",
     "output_type": "stream",
     "text": [
      "T£&$#~@?h£&$#~@?e£&$#~@? £&$#~@?q£&$#~@?u£&$#~@?i£&$#~@?c£&$#~@?k£&$#~@? £&$#~@?b£&$#~@?r£&$#~@?o£&$#~@?w£&$#~@?n£&$#~@? £&$#~@?f£&$#~@?o£&$#~@?x£&$#~@? £&$#~@?j£&$#~@?u£&$#~@?m£&$#~@?p£&$#~@?s£&$#~@? £&$#~@?o£&$#~@?v£&$#~@?e£&$#~@?r£&$#~@? £&$#~@?t£&$#~@?h£&$#~@?e£&$#~@? £&$#~@?l£&$#~@?a£&$#~@?z£&$#~@?y£&$#~@? £&$#~@?d£&$#~@?o£&$#~@?g\n"
     ]
    }
   ],
   "source": [
    "print(newString)"
   ]
  },
  {
   "cell_type": "markdown",
   "id": "27c29230",
   "metadata": {},
   "source": [
    "to here:"
   ]
  },
  {
   "cell_type": "code",
   "execution_count": 7,
   "id": "e4e61ac3",
   "metadata": {},
   "outputs": [
    {
     "name": "stdout",
     "output_type": "stream",
     "text": [
      "The quick brown fox jumps over the lazy dog \n"
     ]
    }
   ],
   "source": [
    "print(s)"
   ]
  },
  {
   "cell_type": "markdown",
   "id": "ffa95cac",
   "metadata": {},
   "source": [
    "Using regular expressions to remove all the non-alphanumeric characters."
   ]
  },
  {
   "cell_type": "code",
   "execution_count": 50,
   "id": "214ffbf0",
   "metadata": {},
   "outputs": [
    {
     "name": "stdout",
     "output_type": "stream",
     "text": [
      "The quick brown fox jumps over the lazy dog\n"
     ]
    }
   ],
   "source": [
    "#final = re.sub(r'\\W+', '', newString)\n",
    "#final = ''.join(filter(str.isalnum, s))\n",
    "\n",
    "#final = re.search(r'(\\w+)+', newString)\n",
    "\n",
    "# Remove the chars, split into characters\n",
    "final = re.split('[£&$#~@?]+', newString, flags=re.IGNORECASE)\n",
    "\n",
    "# Join the characters back together, preserving the space\n",
    "final = ''.join(final)\n",
    "print(final)"
   ]
  },
  {
   "cell_type": "markdown",
   "id": "d0629e9f",
   "metadata": {},
   "source": [
    "All the added characters were filtered out, but so was the space between words.<br>\n",
    "As space isn't considered an alphanumeric character, that's satisfies the exercise, but it would be good to get back the original sentence.\n",
    "\n",
    "Edit 12/12/22:\n",
    "Got back to the original sentence, lecture this week helped. Thanks!"
   ]
  },
  {
   "cell_type": "code",
   "execution_count": null,
   "id": "87fd9223",
   "metadata": {},
   "outputs": [],
   "source": []
  },
  {
   "cell_type": "markdown",
   "id": "800f9445",
   "metadata": {},
   "source": [
    "\n",
    "## Exercise 2:\n",
    "\n",
    "***\n",
    "### Adapt the code below to capitalise the first letter of the iris species, using regular expressions, after the species name is placed first.\n",
    "<hr style=\"border-top: 1px solid #001a79;\" />"
   ]
  },
  {
   "cell_type": "code",
   "execution_count": null,
   "id": "717f27df",
   "metadata": {},
   "outputs": [],
   "source": [
    "# Import the file\n",
    "# Do all the code, including swap\n",
    "# Do the easy way\n",
    "# Then do the way that's asked in the exercise"
   ]
  },
  {
   "cell_type": "code",
   "execution_count": 86,
   "id": "6a633676",
   "metadata": {},
   "outputs": [
    {
     "data": {
      "text/plain": [
       "['5.1,3.5,1.4,0.2,Iris-setosa',\n",
       " '4.9,3.0,1.4,0.2,Iris-setosa',\n",
       " '4.7,3.2,1.3,0.2,Iris-setosa',\n",
       " '4.6,3.1,1.5,0.2,Iris-setosa',\n",
       " '5.0,3.6,1.4,0.2,Iris-setosa',\n",
       " '5.4,3.9,1.7,0.4,Iris-setosa',\n",
       " '4.6,3.4,1.4,0.3,Iris-setosa',\n",
       " '5.0,3.4,1.5,0.2,Iris-setosa',\n",
       " '4.4,2.9,1.4,0.2,Iris-setosa',\n",
       " '4.9,3.1,1.5,0.1,Iris-setosa',\n",
       " '5.4,3.7,1.5,0.2,Iris-setosa',\n",
       " '4.8,3.4,1.6,0.2,Iris-setosa',\n",
       " '4.8,3.0,1.4,0.1,Iris-setosa',\n",
       " '4.3,3.0,1.1,0.1,Iris-setosa',\n",
       " '5.8,4.0,1.2,0.2,Iris-setosa',\n",
       " '5.7,4.4,1.5,0.4,Iris-setosa',\n",
       " '5.4,3.9,1.3,0.4,Iris-setosa',\n",
       " '5.1,3.5,1.4,0.3,Iris-setosa',\n",
       " '5.7,3.8,1.7,0.3,Iris-setosa',\n",
       " '5.1,3.8,1.5,0.3,Iris-setosa',\n",
       " '5.4,3.4,1.7,0.2,Iris-setosa',\n",
       " '5.1,3.7,1.5,0.4,Iris-setosa',\n",
       " '4.6,3.6,1.0,0.2,Iris-setosa',\n",
       " '5.1,3.3,1.7,0.5,Iris-setosa',\n",
       " '4.8,3.4,1.9,0.2,Iris-setosa',\n",
       " '5.0,3.0,1.6,0.2,Iris-setosa',\n",
       " '5.0,3.4,1.6,0.4,Iris-setosa',\n",
       " '5.2,3.5,1.5,0.2,Iris-setosa',\n",
       " '5.2,3.4,1.4,0.2,Iris-setosa',\n",
       " '4.7,3.2,1.6,0.2,Iris-setosa',\n",
       " '4.8,3.1,1.6,0.2,Iris-setosa',\n",
       " '5.4,3.4,1.5,0.4,Iris-setosa',\n",
       " '5.2,4.1,1.5,0.1,Iris-setosa',\n",
       " '5.5,4.2,1.4,0.2,Iris-setosa',\n",
       " '4.9,3.1,1.5,0.1,Iris-setosa',\n",
       " '5.0,3.2,1.2,0.2,Iris-setosa',\n",
       " '5.5,3.5,1.3,0.2,Iris-setosa',\n",
       " '4.9,3.1,1.5,0.1,Iris-setosa',\n",
       " '4.4,3.0,1.3,0.2,Iris-setosa',\n",
       " '5.1,3.4,1.5,0.2,Iris-setosa',\n",
       " '5.0,3.5,1.3,0.3,Iris-setosa',\n",
       " '4.5,2.3,1.3,0.3,Iris-setosa',\n",
       " '4.4,3.2,1.3,0.2,Iris-setosa',\n",
       " '5.0,3.5,1.6,0.6,Iris-setosa',\n",
       " '5.1,3.8,1.9,0.4,Iris-setosa',\n",
       " '4.8,3.0,1.4,0.3,Iris-setosa',\n",
       " '5.1,3.8,1.6,0.2,Iris-setosa',\n",
       " '4.6,3.2,1.4,0.2,Iris-setosa',\n",
       " '5.3,3.7,1.5,0.2,Iris-setosa',\n",
       " '5.0,3.3,1.4,0.2,Iris-setosa',\n",
       " '7.0,3.2,4.7,1.4,Iris-versicolor',\n",
       " '6.4,3.2,4.5,1.5,Iris-versicolor',\n",
       " '6.9,3.1,4.9,1.5,Iris-versicolor',\n",
       " '5.5,2.3,4.0,1.3,Iris-versicolor',\n",
       " '6.5,2.8,4.6,1.5,Iris-versicolor',\n",
       " '5.7,2.8,4.5,1.3,Iris-versicolor',\n",
       " '6.3,3.3,4.7,1.6,Iris-versicolor',\n",
       " '4.9,2.4,3.3,1.0,Iris-versicolor',\n",
       " '6.6,2.9,4.6,1.3,Iris-versicolor',\n",
       " '5.2,2.7,3.9,1.4,Iris-versicolor',\n",
       " '5.0,2.0,3.5,1.0,Iris-versicolor',\n",
       " '5.9,3.0,4.2,1.5,Iris-versicolor',\n",
       " '6.0,2.2,4.0,1.0,Iris-versicolor',\n",
       " '6.1,2.9,4.7,1.4,Iris-versicolor',\n",
       " '5.6,2.9,3.6,1.3,Iris-versicolor',\n",
       " '6.7,3.1,4.4,1.4,Iris-versicolor',\n",
       " '5.6,3.0,4.5,1.5,Iris-versicolor',\n",
       " '5.8,2.7,4.1,1.0,Iris-versicolor',\n",
       " '6.2,2.2,4.5,1.5,Iris-versicolor',\n",
       " '5.6,2.5,3.9,1.1,Iris-versicolor',\n",
       " '5.9,3.2,4.8,1.8,Iris-versicolor',\n",
       " '6.1,2.8,4.0,1.3,Iris-versicolor',\n",
       " '6.3,2.5,4.9,1.5,Iris-versicolor',\n",
       " '6.1,2.8,4.7,1.2,Iris-versicolor',\n",
       " '6.4,2.9,4.3,1.3,Iris-versicolor',\n",
       " '6.6,3.0,4.4,1.4,Iris-versicolor',\n",
       " '6.8,2.8,4.8,1.4,Iris-versicolor',\n",
       " '6.7,3.0,5.0,1.7,Iris-versicolor',\n",
       " '6.0,2.9,4.5,1.5,Iris-versicolor',\n",
       " '5.7,2.6,3.5,1.0,Iris-versicolor',\n",
       " '5.5,2.4,3.8,1.1,Iris-versicolor',\n",
       " '5.5,2.4,3.7,1.0,Iris-versicolor',\n",
       " '5.8,2.7,3.9,1.2,Iris-versicolor',\n",
       " '6.0,2.7,5.1,1.6,Iris-versicolor',\n",
       " '5.4,3.0,4.5,1.5,Iris-versicolor',\n",
       " '6.0,3.4,4.5,1.6,Iris-versicolor',\n",
       " '6.7,3.1,4.7,1.5,Iris-versicolor',\n",
       " '6.3,2.3,4.4,1.3,Iris-versicolor',\n",
       " '5.6,3.0,4.1,1.3,Iris-versicolor',\n",
       " '5.5,2.5,4.0,1.3,Iris-versicolor',\n",
       " '5.5,2.6,4.4,1.2,Iris-versicolor',\n",
       " '6.1,3.0,4.6,1.4,Iris-versicolor',\n",
       " '5.8,2.6,4.0,1.2,Iris-versicolor',\n",
       " '5.0,2.3,3.3,1.0,Iris-versicolor',\n",
       " '5.6,2.7,4.2,1.3,Iris-versicolor',\n",
       " '5.7,3.0,4.2,1.2,Iris-versicolor',\n",
       " '5.7,2.9,4.2,1.3,Iris-versicolor',\n",
       " '6.2,2.9,4.3,1.3,Iris-versicolor',\n",
       " '5.1,2.5,3.0,1.1,Iris-versicolor',\n",
       " '5.7,2.8,4.1,1.3,Iris-versicolor',\n",
       " '6.3,3.3,6.0,2.5,Iris-virginica',\n",
       " '5.8,2.7,5.1,1.9,Iris-virginica',\n",
       " '7.1,3.0,5.9,2.1,Iris-virginica',\n",
       " '6.3,2.9,5.6,1.8,Iris-virginica',\n",
       " '6.5,3.0,5.8,2.2,Iris-virginica',\n",
       " '7.6,3.0,6.6,2.1,Iris-virginica',\n",
       " '4.9,2.5,4.5,1.7,Iris-virginica',\n",
       " '7.3,2.9,6.3,1.8,Iris-virginica',\n",
       " '6.7,2.5,5.8,1.8,Iris-virginica',\n",
       " '7.2,3.6,6.1,2.5,Iris-virginica',\n",
       " '6.5,3.2,5.1,2.0,Iris-virginica',\n",
       " '6.4,2.7,5.3,1.9,Iris-virginica',\n",
       " '6.8,3.0,5.5,2.1,Iris-virginica',\n",
       " '5.7,2.5,5.0,2.0,Iris-virginica',\n",
       " '5.8,2.8,5.1,2.4,Iris-virginica',\n",
       " '6.4,3.2,5.3,2.3,Iris-virginica',\n",
       " '6.5,3.0,5.5,1.8,Iris-virginica',\n",
       " '7.7,3.8,6.7,2.2,Iris-virginica',\n",
       " '7.7,2.6,6.9,2.3,Iris-virginica',\n",
       " '6.0,2.2,5.0,1.5,Iris-virginica',\n",
       " '6.9,3.2,5.7,2.3,Iris-virginica',\n",
       " '5.6,2.8,4.9,2.0,Iris-virginica',\n",
       " '7.7,2.8,6.7,2.0,Iris-virginica',\n",
       " '6.3,2.7,4.9,1.8,Iris-virginica',\n",
       " '6.7,3.3,5.7,2.1,Iris-virginica',\n",
       " '7.2,3.2,6.0,1.8,Iris-virginica',\n",
       " '6.2,2.8,4.8,1.8,Iris-virginica',\n",
       " '6.1,3.0,4.9,1.8,Iris-virginica',\n",
       " '6.4,2.8,5.6,2.1,Iris-virginica',\n",
       " '7.2,3.0,5.8,1.6,Iris-virginica',\n",
       " '7.4,2.8,6.1,1.9,Iris-virginica',\n",
       " '7.9,3.8,6.4,2.0,Iris-virginica',\n",
       " '6.4,2.8,5.6,2.2,Iris-virginica',\n",
       " '6.3,2.8,5.1,1.5,Iris-virginica',\n",
       " '6.1,2.6,5.6,1.4,Iris-virginica',\n",
       " '7.7,3.0,6.1,2.3,Iris-virginica',\n",
       " '6.3,3.4,5.6,2.4,Iris-virginica',\n",
       " '6.4,3.1,5.5,1.8,Iris-virginica',\n",
       " '6.0,3.0,4.8,1.8,Iris-virginica',\n",
       " '6.9,3.1,5.4,2.1,Iris-virginica',\n",
       " '6.7,3.1,5.6,2.4,Iris-virginica',\n",
       " '6.9,3.1,5.1,2.3,Iris-virginica',\n",
       " '5.8,2.7,5.1,1.9,Iris-virginica',\n",
       " '6.8,3.2,5.9,2.3,Iris-virginica',\n",
       " '6.7,3.3,5.7,2.5,Iris-virginica',\n",
       " '6.7,3.0,5.2,2.3,Iris-virginica',\n",
       " '6.3,2.5,5.0,1.9,Iris-virginica',\n",
       " '6.5,3.0,5.2,2.0,Iris-virginica',\n",
       " '6.2,3.4,5.4,2.3,Iris-virginica',\n",
       " '5.9,3.0,5.1,1.8,Iris-virginica',\n",
       " '']"
      ]
     },
     "execution_count": 86,
     "metadata": {},
     "output_type": "execute_result"
    }
   ],
   "source": [
    "# This cell was done in the lecture by Ian\n",
    "# https://stackoverflow.com/a/1393367\n",
    "\n",
    "\n",
    "\n",
    "url = r'https://archive.ics.uci.edu/ml/machine-learning-databases/iris/iris.data'\n",
    "\n",
    "iris = [line.decode('utf-8').strip() for line in urllib.request.urlopen(url)]\n",
    "\n",
    "iris"
   ]
  },
  {
   "cell_type": "code",
   "execution_count": 54,
   "id": "d411b5fc",
   "metadata": {},
   "outputs": [
    {
     "data": {
      "text/plain": [
       "re.compile(r'([0-9]\\.[0-9]),([0-9]\\.[0-9]),([0-9]\\.[0-9]),([0-9]\\.[0-9]),Iris-([a-z]+)',\n",
       "           re.UNICODE)"
      ]
     },
     "execution_count": 54,
     "metadata": {},
     "output_type": "execute_result"
    }
   ],
   "source": [
    "# Create a compiled regex.\n",
    "# 4 variables of type floating point with 1 decimal place\n",
    "# 4 x 2 = 8, all 8 digits need to be matched, followed by 'Iris-' to strip out.\n",
    "\n",
    "strip_iris = re.compile(r'([0-9]\\.[0-9]),([0-9]\\.[0-9]),([0-9]\\.[0-9]),([0-9]\\.[0-9]),Iris-([a-z]+)')\n",
    "strip_iris"
   ]
  },
  {
   "cell_type": "code",
   "execution_count": 77,
   "id": "9c023a1b",
   "metadata": {},
   "outputs": [
    {
     "data": {
      "text/plain": [
       "['setosa,0.2,1.4,3.5,5.1',\n",
       " 'setosa,0.2,1.4,3.0,4.9',\n",
       " 'setosa,0.2,1.3,3.2,4.7',\n",
       " 'setosa,0.2,1.5,3.1,4.6',\n",
       " 'setosa,0.2,1.4,3.6,5.0',\n",
       " 'setosa,0.4,1.7,3.9,5.4',\n",
       " 'setosa,0.3,1.4,3.4,4.6',\n",
       " 'setosa,0.2,1.5,3.4,5.0',\n",
       " 'setosa,0.2,1.4,2.9,4.4',\n",
       " 'setosa,0.1,1.5,3.1,4.9',\n",
       " 'setosa,0.2,1.5,3.7,5.4',\n",
       " 'setosa,0.2,1.6,3.4,4.8',\n",
       " 'setosa,0.1,1.4,3.0,4.8',\n",
       " 'setosa,0.1,1.1,3.0,4.3',\n",
       " 'setosa,0.2,1.2,4.0,5.8',\n",
       " 'setosa,0.4,1.5,4.4,5.7',\n",
       " 'setosa,0.4,1.3,3.9,5.4',\n",
       " 'setosa,0.3,1.4,3.5,5.1',\n",
       " 'setosa,0.3,1.7,3.8,5.7',\n",
       " 'setosa,0.3,1.5,3.8,5.1',\n",
       " 'setosa,0.2,1.7,3.4,5.4',\n",
       " 'setosa,0.4,1.5,3.7,5.1',\n",
       " 'setosa,0.2,1.0,3.6,4.6',\n",
       " 'setosa,0.5,1.7,3.3,5.1',\n",
       " 'setosa,0.2,1.9,3.4,4.8',\n",
       " 'setosa,0.2,1.6,3.0,5.0',\n",
       " 'setosa,0.4,1.6,3.4,5.0',\n",
       " 'setosa,0.2,1.5,3.5,5.2',\n",
       " 'setosa,0.2,1.4,3.4,5.2',\n",
       " 'setosa,0.2,1.6,3.2,4.7',\n",
       " 'setosa,0.2,1.6,3.1,4.8',\n",
       " 'setosa,0.4,1.5,3.4,5.4',\n",
       " 'setosa,0.1,1.5,4.1,5.2',\n",
       " 'setosa,0.2,1.4,4.2,5.5',\n",
       " 'setosa,0.1,1.5,3.1,4.9',\n",
       " 'setosa,0.2,1.2,3.2,5.0',\n",
       " 'setosa,0.2,1.3,3.5,5.5',\n",
       " 'setosa,0.1,1.5,3.1,4.9',\n",
       " 'setosa,0.2,1.3,3.0,4.4',\n",
       " 'setosa,0.2,1.5,3.4,5.1',\n",
       " 'setosa,0.3,1.3,3.5,5.0',\n",
       " 'setosa,0.3,1.3,2.3,4.5',\n",
       " 'setosa,0.2,1.3,3.2,4.4',\n",
       " 'setosa,0.6,1.6,3.5,5.0',\n",
       " 'setosa,0.4,1.9,3.8,5.1',\n",
       " 'setosa,0.3,1.4,3.0,4.8',\n",
       " 'setosa,0.2,1.6,3.8,5.1',\n",
       " 'setosa,0.2,1.4,3.2,4.6',\n",
       " 'setosa,0.2,1.5,3.7,5.3',\n",
       " 'setosa,0.2,1.4,3.3,5.0',\n",
       " 'versicolor,1.4,4.7,3.2,7.0',\n",
       " 'versicolor,1.5,4.5,3.2,6.4',\n",
       " 'versicolor,1.5,4.9,3.1,6.9',\n",
       " 'versicolor,1.3,4.0,2.3,5.5',\n",
       " 'versicolor,1.5,4.6,2.8,6.5',\n",
       " 'versicolor,1.3,4.5,2.8,5.7',\n",
       " 'versicolor,1.6,4.7,3.3,6.3',\n",
       " 'versicolor,1.0,3.3,2.4,4.9',\n",
       " 'versicolor,1.3,4.6,2.9,6.6',\n",
       " 'versicolor,1.4,3.9,2.7,5.2',\n",
       " 'versicolor,1.0,3.5,2.0,5.0',\n",
       " 'versicolor,1.5,4.2,3.0,5.9',\n",
       " 'versicolor,1.0,4.0,2.2,6.0',\n",
       " 'versicolor,1.4,4.7,2.9,6.1',\n",
       " 'versicolor,1.3,3.6,2.9,5.6',\n",
       " 'versicolor,1.4,4.4,3.1,6.7',\n",
       " 'versicolor,1.5,4.5,3.0,5.6',\n",
       " 'versicolor,1.0,4.1,2.7,5.8',\n",
       " 'versicolor,1.5,4.5,2.2,6.2',\n",
       " 'versicolor,1.1,3.9,2.5,5.6',\n",
       " 'versicolor,1.8,4.8,3.2,5.9',\n",
       " 'versicolor,1.3,4.0,2.8,6.1',\n",
       " 'versicolor,1.5,4.9,2.5,6.3',\n",
       " 'versicolor,1.2,4.7,2.8,6.1',\n",
       " 'versicolor,1.3,4.3,2.9,6.4',\n",
       " 'versicolor,1.4,4.4,3.0,6.6',\n",
       " 'versicolor,1.4,4.8,2.8,6.8',\n",
       " 'versicolor,1.7,5.0,3.0,6.7',\n",
       " 'versicolor,1.5,4.5,2.9,6.0',\n",
       " 'versicolor,1.0,3.5,2.6,5.7',\n",
       " 'versicolor,1.1,3.8,2.4,5.5',\n",
       " 'versicolor,1.0,3.7,2.4,5.5',\n",
       " 'versicolor,1.2,3.9,2.7,5.8',\n",
       " 'versicolor,1.6,5.1,2.7,6.0',\n",
       " 'versicolor,1.5,4.5,3.0,5.4',\n",
       " 'versicolor,1.6,4.5,3.4,6.0',\n",
       " 'versicolor,1.5,4.7,3.1,6.7',\n",
       " 'versicolor,1.3,4.4,2.3,6.3',\n",
       " 'versicolor,1.3,4.1,3.0,5.6',\n",
       " 'versicolor,1.3,4.0,2.5,5.5',\n",
       " 'versicolor,1.2,4.4,2.6,5.5',\n",
       " 'versicolor,1.4,4.6,3.0,6.1',\n",
       " 'versicolor,1.2,4.0,2.6,5.8',\n",
       " 'versicolor,1.0,3.3,2.3,5.0',\n",
       " 'versicolor,1.3,4.2,2.7,5.6',\n",
       " 'versicolor,1.2,4.2,3.0,5.7',\n",
       " 'versicolor,1.3,4.2,2.9,5.7',\n",
       " 'versicolor,1.3,4.3,2.9,6.2',\n",
       " 'versicolor,1.1,3.0,2.5,5.1',\n",
       " 'versicolor,1.3,4.1,2.8,5.7',\n",
       " 'virginica,2.5,6.0,3.3,6.3',\n",
       " 'virginica,1.9,5.1,2.7,5.8',\n",
       " 'virginica,2.1,5.9,3.0,7.1',\n",
       " 'virginica,1.8,5.6,2.9,6.3',\n",
       " 'virginica,2.2,5.8,3.0,6.5',\n",
       " 'virginica,2.1,6.6,3.0,7.6',\n",
       " 'virginica,1.7,4.5,2.5,4.9',\n",
       " 'virginica,1.8,6.3,2.9,7.3',\n",
       " 'virginica,1.8,5.8,2.5,6.7',\n",
       " 'virginica,2.5,6.1,3.6,7.2',\n",
       " 'virginica,2.0,5.1,3.2,6.5',\n",
       " 'virginica,1.9,5.3,2.7,6.4',\n",
       " 'virginica,2.1,5.5,3.0,6.8',\n",
       " 'virginica,2.0,5.0,2.5,5.7',\n",
       " 'virginica,2.4,5.1,2.8,5.8',\n",
       " 'virginica,2.3,5.3,3.2,6.4',\n",
       " 'virginica,1.8,5.5,3.0,6.5',\n",
       " 'virginica,2.2,6.7,3.8,7.7',\n",
       " 'virginica,2.3,6.9,2.6,7.7',\n",
       " 'virginica,1.5,5.0,2.2,6.0',\n",
       " 'virginica,2.3,5.7,3.2,6.9',\n",
       " 'virginica,2.0,4.9,2.8,5.6',\n",
       " 'virginica,2.0,6.7,2.8,7.7',\n",
       " 'virginica,1.8,4.9,2.7,6.3',\n",
       " 'virginica,2.1,5.7,3.3,6.7',\n",
       " 'virginica,1.8,6.0,3.2,7.2',\n",
       " 'virginica,1.8,4.8,2.8,6.2',\n",
       " 'virginica,1.8,4.9,3.0,6.1',\n",
       " 'virginica,2.1,5.6,2.8,6.4',\n",
       " 'virginica,1.6,5.8,3.0,7.2',\n",
       " 'virginica,1.9,6.1,2.8,7.4',\n",
       " 'virginica,2.0,6.4,3.8,7.9',\n",
       " 'virginica,2.2,5.6,2.8,6.4',\n",
       " 'virginica,1.5,5.1,2.8,6.3',\n",
       " 'virginica,1.4,5.6,2.6,6.1',\n",
       " 'virginica,2.3,6.1,3.0,7.7',\n",
       " 'virginica,2.4,5.6,3.4,6.3',\n",
       " 'virginica,1.8,5.5,3.1,6.4',\n",
       " 'virginica,1.8,4.8,3.0,6.0',\n",
       " 'virginica,2.1,5.4,3.1,6.9',\n",
       " 'virginica,2.4,5.6,3.1,6.7',\n",
       " 'virginica,2.3,5.1,3.1,6.9',\n",
       " 'virginica,1.9,5.1,2.7,5.8',\n",
       " 'virginica,2.3,5.9,3.2,6.8',\n",
       " 'virginica,2.5,5.7,3.3,6.7',\n",
       " 'virginica,2.3,5.2,3.0,6.7',\n",
       " 'virginica,1.9,5.0,2.5,6.3',\n",
       " 'virginica,2.0,5.2,3.0,6.5',\n",
       " 'virginica,2.3,5.4,3.4,6.2',\n",
       " 'virginica,1.8,5.1,3.0,5.9']"
      ]
     },
     "execution_count": 77,
     "metadata": {},
     "output_type": "execute_result"
    }
   ],
   "source": [
    "# Strip out 'Iris' and place the last piece of information first - in this case, the species name\n",
    "# Continue the order with the rest of the variables.\n",
    "small_cap = [strip_iris.sub(r'\\5,\\4,\\3,\\2,\\1', line) for line in iris if line]\n",
    "small_cap"
   ]
  },
  {
   "cell_type": "code",
   "execution_count": 57,
   "id": "569f7f0e",
   "metadata": {},
   "outputs": [
    {
     "name": "stdout",
     "output_type": "stream",
     "text": [
      "Setosa,0.2,1.4,3.5,5.1\n",
      "Setosa,0.2,1.4,3.0,4.9\n",
      "Setosa,0.2,1.3,3.2,4.7\n",
      "Setosa,0.2,1.5,3.1,4.6\n",
      "Setosa,0.2,1.4,3.6,5.0\n",
      "Setosa,0.4,1.7,3.9,5.4\n",
      "Setosa,0.3,1.4,3.4,4.6\n",
      "Setosa,0.2,1.5,3.4,5.0\n",
      "Setosa,0.2,1.4,2.9,4.4\n",
      "Setosa,0.1,1.5,3.1,4.9\n",
      "Setosa,0.2,1.5,3.7,5.4\n",
      "Setosa,0.2,1.6,3.4,4.8\n",
      "Setosa,0.1,1.4,3.0,4.8\n",
      "Setosa,0.1,1.1,3.0,4.3\n",
      "Setosa,0.2,1.2,4.0,5.8\n",
      "Setosa,0.4,1.5,4.4,5.7\n",
      "Setosa,0.4,1.3,3.9,5.4\n",
      "Setosa,0.3,1.4,3.5,5.1\n",
      "Setosa,0.3,1.7,3.8,5.7\n",
      "Setosa,0.3,1.5,3.8,5.1\n",
      "Setosa,0.2,1.7,3.4,5.4\n",
      "Setosa,0.4,1.5,3.7,5.1\n",
      "Setosa,0.2,1.0,3.6,4.6\n",
      "Setosa,0.5,1.7,3.3,5.1\n",
      "Setosa,0.2,1.9,3.4,4.8\n",
      "Setosa,0.2,1.6,3.0,5.0\n",
      "Setosa,0.4,1.6,3.4,5.0\n",
      "Setosa,0.2,1.5,3.5,5.2\n",
      "Setosa,0.2,1.4,3.4,5.2\n",
      "Setosa,0.2,1.6,3.2,4.7\n",
      "Setosa,0.2,1.6,3.1,4.8\n",
      "Setosa,0.4,1.5,3.4,5.4\n",
      "Setosa,0.1,1.5,4.1,5.2\n",
      "Setosa,0.2,1.4,4.2,5.5\n",
      "Setosa,0.1,1.5,3.1,4.9\n",
      "Setosa,0.2,1.2,3.2,5.0\n",
      "Setosa,0.2,1.3,3.5,5.5\n",
      "Setosa,0.1,1.5,3.1,4.9\n",
      "Setosa,0.2,1.3,3.0,4.4\n",
      "Setosa,0.2,1.5,3.4,5.1\n",
      "Setosa,0.3,1.3,3.5,5.0\n",
      "Setosa,0.3,1.3,2.3,4.5\n",
      "Setosa,0.2,1.3,3.2,4.4\n",
      "Setosa,0.6,1.6,3.5,5.0\n",
      "Setosa,0.4,1.9,3.8,5.1\n",
      "Setosa,0.3,1.4,3.0,4.8\n",
      "Setosa,0.2,1.6,3.8,5.1\n",
      "Setosa,0.2,1.4,3.2,4.6\n",
      "Setosa,0.2,1.5,3.7,5.3\n",
      "Setosa,0.2,1.4,3.3,5.0\n",
      "Versicolor,1.4,4.7,3.2,7.0\n",
      "Versicolor,1.5,4.5,3.2,6.4\n",
      "Versicolor,1.5,4.9,3.1,6.9\n",
      "Versicolor,1.3,4.0,2.3,5.5\n",
      "Versicolor,1.5,4.6,2.8,6.5\n",
      "Versicolor,1.3,4.5,2.8,5.7\n",
      "Versicolor,1.6,4.7,3.3,6.3\n",
      "Versicolor,1.0,3.3,2.4,4.9\n",
      "Versicolor,1.3,4.6,2.9,6.6\n",
      "Versicolor,1.4,3.9,2.7,5.2\n",
      "Versicolor,1.0,3.5,2.0,5.0\n",
      "Versicolor,1.5,4.2,3.0,5.9\n",
      "Versicolor,1.0,4.0,2.2,6.0\n",
      "Versicolor,1.4,4.7,2.9,6.1\n",
      "Versicolor,1.3,3.6,2.9,5.6\n",
      "Versicolor,1.4,4.4,3.1,6.7\n",
      "Versicolor,1.5,4.5,3.0,5.6\n",
      "Versicolor,1.0,4.1,2.7,5.8\n",
      "Versicolor,1.5,4.5,2.2,6.2\n",
      "Versicolor,1.1,3.9,2.5,5.6\n",
      "Versicolor,1.8,4.8,3.2,5.9\n",
      "Versicolor,1.3,4.0,2.8,6.1\n",
      "Versicolor,1.5,4.9,2.5,6.3\n",
      "Versicolor,1.2,4.7,2.8,6.1\n",
      "Versicolor,1.3,4.3,2.9,6.4\n",
      "Versicolor,1.4,4.4,3.0,6.6\n",
      "Versicolor,1.4,4.8,2.8,6.8\n",
      "Versicolor,1.7,5.0,3.0,6.7\n",
      "Versicolor,1.5,4.5,2.9,6.0\n",
      "Versicolor,1.0,3.5,2.6,5.7\n",
      "Versicolor,1.1,3.8,2.4,5.5\n",
      "Versicolor,1.0,3.7,2.4,5.5\n",
      "Versicolor,1.2,3.9,2.7,5.8\n",
      "Versicolor,1.6,5.1,2.7,6.0\n",
      "Versicolor,1.5,4.5,3.0,5.4\n",
      "Versicolor,1.6,4.5,3.4,6.0\n",
      "Versicolor,1.5,4.7,3.1,6.7\n",
      "Versicolor,1.3,4.4,2.3,6.3\n",
      "Versicolor,1.3,4.1,3.0,5.6\n",
      "Versicolor,1.3,4.0,2.5,5.5\n",
      "Versicolor,1.2,4.4,2.6,5.5\n",
      "Versicolor,1.4,4.6,3.0,6.1\n",
      "Versicolor,1.2,4.0,2.6,5.8\n",
      "Versicolor,1.0,3.3,2.3,5.0\n",
      "Versicolor,1.3,4.2,2.7,5.6\n",
      "Versicolor,1.2,4.2,3.0,5.7\n",
      "Versicolor,1.3,4.2,2.9,5.7\n",
      "Versicolor,1.3,4.3,2.9,6.2\n",
      "Versicolor,1.1,3.0,2.5,5.1\n",
      "Versicolor,1.3,4.1,2.8,5.7\n",
      "Virginica,2.5,6.0,3.3,6.3\n",
      "Virginica,1.9,5.1,2.7,5.8\n",
      "Virginica,2.1,5.9,3.0,7.1\n",
      "Virginica,1.8,5.6,2.9,6.3\n",
      "Virginica,2.2,5.8,3.0,6.5\n",
      "Virginica,2.1,6.6,3.0,7.6\n",
      "Virginica,1.7,4.5,2.5,4.9\n",
      "Virginica,1.8,6.3,2.9,7.3\n",
      "Virginica,1.8,5.8,2.5,6.7\n",
      "Virginica,2.5,6.1,3.6,7.2\n",
      "Virginica,2.0,5.1,3.2,6.5\n",
      "Virginica,1.9,5.3,2.7,6.4\n",
      "Virginica,2.1,5.5,3.0,6.8\n",
      "Virginica,2.0,5.0,2.5,5.7\n",
      "Virginica,2.4,5.1,2.8,5.8\n",
      "Virginica,2.3,5.3,3.2,6.4\n",
      "Virginica,1.8,5.5,3.0,6.5\n",
      "Virginica,2.2,6.7,3.8,7.7\n",
      "Virginica,2.3,6.9,2.6,7.7\n",
      "Virginica,1.5,5.0,2.2,6.0\n",
      "Virginica,2.3,5.7,3.2,6.9\n",
      "Virginica,2.0,4.9,2.8,5.6\n",
      "Virginica,2.0,6.7,2.8,7.7\n",
      "Virginica,1.8,4.9,2.7,6.3\n",
      "Virginica,2.1,5.7,3.3,6.7\n",
      "Virginica,1.8,6.0,3.2,7.2\n",
      "Virginica,1.8,4.8,2.8,6.2\n",
      "Virginica,1.8,4.9,3.0,6.1\n",
      "Virginica,2.1,5.6,2.8,6.4\n",
      "Virginica,1.6,5.8,3.0,7.2\n",
      "Virginica,1.9,6.1,2.8,7.4\n",
      "Virginica,2.0,6.4,3.8,7.9\n",
      "Virginica,2.2,5.6,2.8,6.4\n",
      "Virginica,1.5,5.1,2.8,6.3\n",
      "Virginica,1.4,5.6,2.6,6.1\n",
      "Virginica,2.3,6.1,3.0,7.7\n",
      "Virginica,2.4,5.6,3.4,6.3\n",
      "Virginica,1.8,5.5,3.1,6.4\n",
      "Virginica,1.8,4.8,3.0,6.0\n",
      "Virginica,2.1,5.4,3.1,6.9\n",
      "Virginica,2.4,5.6,3.1,6.7\n",
      "Virginica,2.3,5.1,3.1,6.9\n",
      "Virginica,1.9,5.1,2.7,5.8\n",
      "Virginica,2.3,5.9,3.2,6.8\n",
      "Virginica,2.5,5.7,3.3,6.7\n",
      "Virginica,2.3,5.2,3.0,6.7\n",
      "Virginica,1.9,5.0,2.5,6.3\n",
      "Virginica,2.0,5.2,3.0,6.5\n",
      "Virginica,2.3,5.4,3.4,6.2\n",
      "Virginica,1.8,5.1,3.0,5.9\n"
     ]
    }
   ],
   "source": [
    "# There's a way to do it in Python, using title() to \n",
    "# capitalise the first letter of every word\n",
    "# Seeing as there's only 1 word per line, this works\n",
    "for line in small_cap:\n",
    "      \n",
    "    # This will convert the content\n",
    "    # of that line with capitalized\n",
    "    # first letter of every word\n",
    "    first_cap = line.title()\n",
    "      \n",
    "    # This will print the output\n",
    "    print(first_cap)"
   ]
  },
  {
   "cell_type": "code",
   "execution_count": 212,
   "id": "80324a0b",
   "metadata": {},
   "outputs": [
    {
     "ename": "TypeError",
     "evalue": "expected string or bytes-like object",
     "output_type": "error",
     "traceback": [
      "\u001b[1;31m---------------------------------------------------------------------------\u001b[0m",
      "\u001b[1;31mTypeError\u001b[0m                                 Traceback (most recent call last)",
      "Cell \u001b[1;32mIn [212], line 10\u001b[0m\n\u001b[0;32m      8\u001b[0m final_ans \u001b[38;5;241m=\u001b[39m [seto_regex \u001b[38;5;28;01mfor\u001b[39;00m line \u001b[38;5;129;01min\u001b[39;00m final_ans \u001b[38;5;28;01mif\u001b[39;00m line]\n\u001b[0;32m      9\u001b[0m \u001b[38;5;66;03m#final_ans = [re.sub(r'\\b[setosa]+\\b', 'Setosa', line) for line in final_ans if line]\u001b[39;00m\n\u001b[1;32m---> 10\u001b[0m final_ans \u001b[38;5;241m=\u001b[39m [re\u001b[38;5;241m.\u001b[39msub(\u001b[38;5;124mr\u001b[39m\u001b[38;5;124m'\u001b[39m\u001b[38;5;124m\\\u001b[39m\u001b[38;5;124mb[versicolor]+\u001b[39m\u001b[38;5;124m\\\u001b[39m\u001b[38;5;124mb\u001b[39m\u001b[38;5;124m'\u001b[39m, \u001b[38;5;124m'\u001b[39m\u001b[38;5;124mVersicolor\u001b[39m\u001b[38;5;124m'\u001b[39m, line) \u001b[38;5;28;01mfor\u001b[39;00m line \u001b[38;5;129;01min\u001b[39;00m final_ans \u001b[38;5;28;01mif\u001b[39;00m line]\n\u001b[0;32m     11\u001b[0m final_ans \u001b[38;5;241m=\u001b[39m [re\u001b[38;5;241m.\u001b[39msub(\u001b[38;5;124mr\u001b[39m\u001b[38;5;124m'\u001b[39m\u001b[38;5;124m\\\u001b[39m\u001b[38;5;124mb[virginica]+\u001b[39m\u001b[38;5;124m\\\u001b[39m\u001b[38;5;124mb\u001b[39m\u001b[38;5;124m'\u001b[39m, \u001b[38;5;124m'\u001b[39m\u001b[38;5;124mVirginica\u001b[39m\u001b[38;5;124m'\u001b[39m, line) \u001b[38;5;28;01mfor\u001b[39;00m line \u001b[38;5;129;01min\u001b[39;00m final_ans \u001b[38;5;28;01mif\u001b[39;00m line]\n\u001b[0;32m     13\u001b[0m \u001b[38;5;66;03m# Below fixes the ugly output by inserting a newline char for every space\u001b[39;00m\n\u001b[0;32m     14\u001b[0m \u001b[38;5;66;03m#print(final_ans)\u001b[39;00m\n",
      "Cell \u001b[1;32mIn [212], line 10\u001b[0m, in \u001b[0;36m<listcomp>\u001b[1;34m(.0)\u001b[0m\n\u001b[0;32m      8\u001b[0m final_ans \u001b[38;5;241m=\u001b[39m [seto_regex \u001b[38;5;28;01mfor\u001b[39;00m line \u001b[38;5;129;01min\u001b[39;00m final_ans \u001b[38;5;28;01mif\u001b[39;00m line]\n\u001b[0;32m      9\u001b[0m \u001b[38;5;66;03m#final_ans = [re.sub(r'\\b[setosa]+\\b', 'Setosa', line) for line in final_ans if line]\u001b[39;00m\n\u001b[1;32m---> 10\u001b[0m final_ans \u001b[38;5;241m=\u001b[39m [\u001b[43mre\u001b[49m\u001b[38;5;241;43m.\u001b[39;49m\u001b[43msub\u001b[49m\u001b[43m(\u001b[49m\u001b[38;5;124;43mr\u001b[39;49m\u001b[38;5;124;43m'\u001b[39;49m\u001b[38;5;124;43m\\\u001b[39;49m\u001b[38;5;124;43mb[versicolor]+\u001b[39;49m\u001b[38;5;124;43m\\\u001b[39;49m\u001b[38;5;124;43mb\u001b[39;49m\u001b[38;5;124;43m'\u001b[39;49m\u001b[43m,\u001b[49m\u001b[43m \u001b[49m\u001b[38;5;124;43m'\u001b[39;49m\u001b[38;5;124;43mVersicolor\u001b[39;49m\u001b[38;5;124;43m'\u001b[39;49m\u001b[43m,\u001b[49m\u001b[43m \u001b[49m\u001b[43mline\u001b[49m\u001b[43m)\u001b[49m \u001b[38;5;28;01mfor\u001b[39;00m line \u001b[38;5;129;01min\u001b[39;00m final_ans \u001b[38;5;28;01mif\u001b[39;00m line]\n\u001b[0;32m     11\u001b[0m final_ans \u001b[38;5;241m=\u001b[39m [re\u001b[38;5;241m.\u001b[39msub(\u001b[38;5;124mr\u001b[39m\u001b[38;5;124m'\u001b[39m\u001b[38;5;124m\\\u001b[39m\u001b[38;5;124mb[virginica]+\u001b[39m\u001b[38;5;124m\\\u001b[39m\u001b[38;5;124mb\u001b[39m\u001b[38;5;124m'\u001b[39m, \u001b[38;5;124m'\u001b[39m\u001b[38;5;124mVirginica\u001b[39m\u001b[38;5;124m'\u001b[39m, line) \u001b[38;5;28;01mfor\u001b[39;00m line \u001b[38;5;129;01min\u001b[39;00m final_ans \u001b[38;5;28;01mif\u001b[39;00m line]\n\u001b[0;32m     13\u001b[0m \u001b[38;5;66;03m# Below fixes the ugly output by inserting a newline char for every space\u001b[39;00m\n\u001b[0;32m     14\u001b[0m \u001b[38;5;66;03m#print(final_ans)\u001b[39;00m\n",
      "File \u001b[1;32m~\\anaconda3\\lib\\re.py:210\u001b[0m, in \u001b[0;36msub\u001b[1;34m(pattern, repl, string, count, flags)\u001b[0m\n\u001b[0;32m    203\u001b[0m \u001b[38;5;28;01mdef\u001b[39;00m \u001b[38;5;21msub\u001b[39m(pattern, repl, string, count\u001b[38;5;241m=\u001b[39m\u001b[38;5;241m0\u001b[39m, flags\u001b[38;5;241m=\u001b[39m\u001b[38;5;241m0\u001b[39m):\n\u001b[0;32m    204\u001b[0m     \u001b[38;5;124;03m\"\"\"Return the string obtained by replacing the leftmost\u001b[39;00m\n\u001b[0;32m    205\u001b[0m \u001b[38;5;124;03m    non-overlapping occurrences of the pattern in string by the\u001b[39;00m\n\u001b[0;32m    206\u001b[0m \u001b[38;5;124;03m    replacement repl.  repl can be either a string or a callable;\u001b[39;00m\n\u001b[0;32m    207\u001b[0m \u001b[38;5;124;03m    if a string, backslash escapes in it are processed.  If it is\u001b[39;00m\n\u001b[0;32m    208\u001b[0m \u001b[38;5;124;03m    a callable, it's passed the Match object and must return\u001b[39;00m\n\u001b[0;32m    209\u001b[0m \u001b[38;5;124;03m    a replacement string to be used.\"\"\"\u001b[39;00m\n\u001b[1;32m--> 210\u001b[0m     \u001b[38;5;28;01mreturn\u001b[39;00m \u001b[43m_compile\u001b[49m\u001b[43m(\u001b[49m\u001b[43mpattern\u001b[49m\u001b[43m,\u001b[49m\u001b[43m \u001b[49m\u001b[43mflags\u001b[49m\u001b[43m)\u001b[49m\u001b[38;5;241;43m.\u001b[39;49m\u001b[43msub\u001b[49m\u001b[43m(\u001b[49m\u001b[43mrepl\u001b[49m\u001b[43m,\u001b[49m\u001b[43m \u001b[49m\u001b[43mstring\u001b[49m\u001b[43m,\u001b[49m\u001b[43m \u001b[49m\u001b[43mcount\u001b[49m\u001b[43m)\u001b[49m\n",
      "\u001b[1;31mTypeError\u001b[0m: expected string or bytes-like object"
     ]
    }
   ],
   "source": [
    "# Assign small_cap to a new variable.\n",
    "final_ans = small_cap\n",
    "\n",
    "# Compile regexes so they don't have to be done each time\n",
    "seto_regex = re.compile(re.sub(r'\\b[setosa]+\\b', 'Setosa', line))\n",
    "\n",
    "# This is messy - but it's what worked for me\n",
    "final_ans = [seto_regex for line in final_ans if line]\n",
    "#final_ans = [re.sub(r'\\b[setosa]+\\b', 'Setosa', line) for line in final_ans if line]\n",
    "final_ans = [re.sub(r'\\b[versicolor]+\\b', 'Versicolor', line) for line in final_ans if line]\n",
    "final_ans = [re.sub(r'\\b[virginica]+\\b', 'Virginica', line) for line in final_ans if line]\n",
    "\n",
    "# Below fixes the ugly output by inserting a newline char for every space\n",
    "#print(final_ans)\n",
    "print('\\n'.join(map(str, final_ans)))"
   ]
  },
  {
   "cell_type": "markdown",
   "id": "e5c99d91",
   "metadata": {},
   "source": [
    "Below are examples of what didn't work for me. I decided to include them in the solution to show my thought process"
   ]
  },
  {
   "cell_type": "code",
   "execution_count": 211,
   "id": "c6d58396",
   "metadata": {},
   "outputs": [
    {
     "name": "stdout",
     "output_type": "stream",
     "text": [
      "['setosa,0.2,1.4,3.5,5.1', 'setosa,0.2,1.4,3.0,4.9', 'setosa,0.2,1.3,3.2,4.7', 'setosa,0.2,1.5,3.1,4.6', 'setosa,0.2,1.4,3.6,5.0', 'setosa,0.4,1.7,3.9,5.4', 'setosa,0.3,1.4,3.4,4.6', 'setosa,0.2,1.5,3.4,5.0', 'setosa,0.2,1.4,2.9,4.4', 'setosa,0.1,1.5,3.1,4.9', 'setosa,0.2,1.5,3.7,5.4', 'setosa,0.2,1.6,3.4,4.8', 'setosa,0.1,1.4,3.0,4.8', 'setosa,0.1,1.1,3.0,4.3', 'setosa,0.2,1.2,4.0,5.8', 'setosa,0.4,1.5,4.4,5.7', 'setosa,0.4,1.3,3.9,5.4', 'setosa,0.3,1.4,3.5,5.1', 'setosa,0.3,1.7,3.8,5.7', 'setosa,0.3,1.5,3.8,5.1', 'setosa,0.2,1.7,3.4,5.4', 'setosa,0.4,1.5,3.7,5.1', 'setosa,0.2,1.0,3.6,4.6', 'setosa,0.5,1.7,3.3,5.1', 'setosa,0.2,1.9,3.4,4.8', 'setosa,0.2,1.6,3.0,5.0', 'setosa,0.4,1.6,3.4,5.0', 'setosa,0.2,1.5,3.5,5.2', 'setosa,0.2,1.4,3.4,5.2', 'setosa,0.2,1.6,3.2,4.7', 'setosa,0.2,1.6,3.1,4.8', 'setosa,0.4,1.5,3.4,5.4', 'setosa,0.1,1.5,4.1,5.2', 'setosa,0.2,1.4,4.2,5.5', 'setosa,0.1,1.5,3.1,4.9', 'setosa,0.2,1.2,3.2,5.0', 'setosa,0.2,1.3,3.5,5.5', 'setosa,0.1,1.5,3.1,4.9', 'setosa,0.2,1.3,3.0,4.4', 'setosa,0.2,1.5,3.4,5.1', 'setosa,0.3,1.3,3.5,5.0', 'setosa,0.3,1.3,2.3,4.5', 'setosa,0.2,1.3,3.2,4.4', 'setosa,0.6,1.6,3.5,5.0', 'setosa,0.4,1.9,3.8,5.1', 'setosa,0.3,1.4,3.0,4.8', 'setosa,0.2,1.6,3.8,5.1', 'setosa,0.2,1.4,3.2,4.6', 'setosa,0.2,1.5,3.7,5.3', 'setosa,0.2,1.4,3.3,5.0', 'versicolor,1.4,4.7,3.2,7.0', 'versicolor,1.5,4.5,3.2,6.4', 'versicolor,1.5,4.9,3.1,6.9', 'versicolor,1.3,4.0,2.3,5.5', 'versicolor,1.5,4.6,2.8,6.5', 'versicolor,1.3,4.5,2.8,5.7', 'versicolor,1.6,4.7,3.3,6.3', 'versicolor,1.0,3.3,2.4,4.9', 'versicolor,1.3,4.6,2.9,6.6', 'versicolor,1.4,3.9,2.7,5.2', 'versicolor,1.0,3.5,2.0,5.0', 'versicolor,1.5,4.2,3.0,5.9', 'versicolor,1.0,4.0,2.2,6.0', 'versicolor,1.4,4.7,2.9,6.1', 'versicolor,1.3,3.6,2.9,5.6', 'versicolor,1.4,4.4,3.1,6.7', 'versicolor,1.5,4.5,3.0,5.6', 'versicolor,1.0,4.1,2.7,5.8', 'versicolor,1.5,4.5,2.2,6.2', 'versicolor,1.1,3.9,2.5,5.6', 'versicolor,1.8,4.8,3.2,5.9', 'versicolor,1.3,4.0,2.8,6.1', 'versicolor,1.5,4.9,2.5,6.3', 'versicolor,1.2,4.7,2.8,6.1', 'versicolor,1.3,4.3,2.9,6.4', 'versicolor,1.4,4.4,3.0,6.6', 'versicolor,1.4,4.8,2.8,6.8', 'versicolor,1.7,5.0,3.0,6.7', 'versicolor,1.5,4.5,2.9,6.0', 'versicolor,1.0,3.5,2.6,5.7', 'versicolor,1.1,3.8,2.4,5.5', 'versicolor,1.0,3.7,2.4,5.5', 'versicolor,1.2,3.9,2.7,5.8', 'versicolor,1.6,5.1,2.7,6.0', 'versicolor,1.5,4.5,3.0,5.4', 'versicolor,1.6,4.5,3.4,6.0', 'versicolor,1.5,4.7,3.1,6.7', 'versicolor,1.3,4.4,2.3,6.3', 'versicolor,1.3,4.1,3.0,5.6', 'versicolor,1.3,4.0,2.5,5.5', 'versicolor,1.2,4.4,2.6,5.5', 'versicolor,1.4,4.6,3.0,6.1', 'versicolor,1.2,4.0,2.6,5.8', 'versicolor,1.0,3.3,2.3,5.0', 'versicolor,1.3,4.2,2.7,5.6', 'versicolor,1.2,4.2,3.0,5.7', 'versicolor,1.3,4.2,2.9,5.7', 'versicolor,1.3,4.3,2.9,6.2', 'versicolor,1.1,3.0,2.5,5.1', 'versicolor,1.3,4.1,2.8,5.7', 'virginica,2.5,6.0,3.3,6.3', 'virginica,1.9,5.1,2.7,5.8', 'virginica,2.1,5.9,3.0,7.1', 'virginica,1.8,5.6,2.9,6.3', 'virginica,2.2,5.8,3.0,6.5', 'virginica,2.1,6.6,3.0,7.6', 'virginica,1.7,4.5,2.5,4.9', 'virginica,1.8,6.3,2.9,7.3', 'virginica,1.8,5.8,2.5,6.7', 'virginica,2.5,6.1,3.6,7.2', 'virginica,2.0,5.1,3.2,6.5', 'virginica,1.9,5.3,2.7,6.4', 'virginica,2.1,5.5,3.0,6.8', 'virginica,2.0,5.0,2.5,5.7', 'virginica,2.4,5.1,2.8,5.8', 'virginica,2.3,5.3,3.2,6.4', 'virginica,1.8,5.5,3.0,6.5', 'virginica,2.2,6.7,3.8,7.7', 'virginica,2.3,6.9,2.6,7.7', 'virginica,1.5,5.0,2.2,6.0', 'virginica,2.3,5.7,3.2,6.9', 'virginica,2.0,4.9,2.8,5.6', 'virginica,2.0,6.7,2.8,7.7', 'virginica,1.8,4.9,2.7,6.3', 'virginica,2.1,5.7,3.3,6.7', 'virginica,1.8,6.0,3.2,7.2', 'virginica,1.8,4.8,2.8,6.2', 'virginica,1.8,4.9,3.0,6.1', 'virginica,2.1,5.6,2.8,6.4', 'virginica,1.6,5.8,3.0,7.2', 'virginica,1.9,6.1,2.8,7.4', 'virginica,2.0,6.4,3.8,7.9', 'virginica,2.2,5.6,2.8,6.4', 'virginica,1.5,5.1,2.8,6.3', 'virginica,1.4,5.6,2.6,6.1', 'virginica,2.3,6.1,3.0,7.7', 'virginica,2.4,5.6,3.4,6.3', 'virginica,1.8,5.5,3.1,6.4', 'virginica,1.8,4.8,3.0,6.0', 'virginica,2.1,5.4,3.1,6.9', 'virginica,2.4,5.6,3.1,6.7', 'virginica,2.3,5.1,3.1,6.9', 'virginica,1.9,5.1,2.7,5.8', 'virginica,2.3,5.9,3.2,6.8', 'virginica,2.5,5.7,3.3,6.7', 'virginica,2.3,5.2,3.0,6.7', 'virginica,1.9,5.0,2.5,6.3', 'virginica,2.0,5.2,3.0,6.5', 'virginica,2.3,5.4,3.4,6.2', 'virginica,1.8,5.1,3.0,5.9']\n"
     ]
    }
   ],
   "source": [
    "# With the below, I was using \\b to match the exact word length\n",
    "\n",
    "final_ans = small_cap\n",
    "final_ans\n",
    "\n",
    "matches = re.finditer(r'\\[setosa]+', line)\n",
    "#matches\n",
    "\n",
    "for match in matches:\n",
    "    final_ans = re.sub(r'\\b[setosa]+\\b', 'Setosa', line)\n",
    "print(final_ans)"
   ]
  },
  {
   "cell_type": "code",
   "execution_count": 210,
   "id": "d2b7fe61",
   "metadata": {},
   "outputs": [
    {
     "name": "stdout",
     "output_type": "stream",
     "text": [
      "[]\n"
     ]
    }
   ],
   "source": [
    "final_ans = small_cap\n",
    "final_ans\n",
    "for line in final_ans:\n",
    "    new_string = re.findall(r'\\b[setosa]+\\b' 'Setosa', line)\n",
    "    print(new_string)\n",
    "    #print(final_ans)"
   ]
  },
  {
   "cell_type": "code",
   "execution_count": 96,
   "id": "8906dd0d",
   "metadata": {},
   "outputs": [
    {
     "ename": "AttributeError",
     "evalue": "'list' object has no attribute 'my_regex'",
     "output_type": "error",
     "traceback": [
      "\u001b[1;31m---------------------------------------------------------------------------\u001b[0m",
      "\u001b[1;31mAttributeError\u001b[0m                            Traceback (most recent call last)",
      "Cell \u001b[1;32mIn [96], line 9\u001b[0m\n\u001b[0;32m      7\u001b[0m my_regex \u001b[38;5;241m=\u001b[39m re\u001b[38;5;241m.\u001b[39mcompile(\u001b[38;5;124mr\u001b[39m\u001b[38;5;124m'\u001b[39m\u001b[38;5;124m([setosa]+)\u001b[39m\u001b[38;5;124m'\u001b[39m)\n\u001b[0;32m      8\u001b[0m \u001b[38;5;28;01mfor\u001b[39;00m line \u001b[38;5;129;01min\u001b[39;00m final_ans:\n\u001b[1;32m----> 9\u001b[0m     \u001b[43mfinal_ans\u001b[49m\u001b[38;5;241;43m.\u001b[39;49m\u001b[43mmy_regex\u001b[49m(\u001b[38;5;124m'\u001b[39m\u001b[38;5;124mSetosa\u001b[39m\u001b[38;5;124m'\u001b[39m)\n\u001b[0;32m     10\u001b[0m     \u001b[38;5;28mprint\u001b[39m(final_ans)\n",
      "\u001b[1;31mAttributeError\u001b[0m: 'list' object has no attribute 'my_regex'"
     ]
    }
   ],
   "source": [
    "# Get to doing it the regex way\n",
    "final_ans = small_cap\n",
    "final_ans\n",
    "#str(final_ans)\n",
    "#final_ans.replace('setosa', 'Setosa')\n",
    "#[re.sub(r'\\setosa' 'Setosa', line) for line in final_ans if line]\n",
    "#my_regex = re.compile(r'([setosa]+)')\n",
    "for line in final_ans:\n",
    "    final_ans.my_regex('Setosa')\n",
    "    print(final_ans)"
   ]
  },
  {
   "cell_type": "code",
   "execution_count": 88,
   "id": "68ae09e5",
   "metadata": {},
   "outputs": [
    {
     "ename": "TypeError",
     "evalue": "sub() missing 1 required positional argument: 'string'",
     "output_type": "error",
     "traceback": [
      "\u001b[1;31m---------------------------------------------------------------------------\u001b[0m",
      "\u001b[1;31mTypeError\u001b[0m                                 Traceback (most recent call last)",
      "Cell \u001b[1;32mIn [88], line 2\u001b[0m\n\u001b[0;32m      1\u001b[0m my_regex \u001b[38;5;241m=\u001b[39m re\u001b[38;5;241m.\u001b[39mcompile(\u001b[38;5;124mr\u001b[39m\u001b[38;5;124m'\u001b[39m\u001b[38;5;124m([setosa]+)\u001b[39m\u001b[38;5;124m'\u001b[39m)\n\u001b[1;32m----> 2\u001b[0m [re\u001b[38;5;241m.\u001b[39msub(\u001b[38;5;124mr\u001b[39m\u001b[38;5;124m'\u001b[39m\u001b[38;5;124m\\\u001b[39m\u001b[38;5;124msetosa\u001b[39m\u001b[38;5;124m'\u001b[39m \u001b[38;5;124m'\u001b[39m\u001b[38;5;124mSetosa\u001b[39m\u001b[38;5;124m'\u001b[39m, line) \u001b[38;5;28;01mfor\u001b[39;00m line \u001b[38;5;129;01min\u001b[39;00m small_cap \u001b[38;5;28;01mif\u001b[39;00m line]\n",
      "Cell \u001b[1;32mIn [88], line 2\u001b[0m, in \u001b[0;36m<listcomp>\u001b[1;34m(.0)\u001b[0m\n\u001b[0;32m      1\u001b[0m my_regex \u001b[38;5;241m=\u001b[39m re\u001b[38;5;241m.\u001b[39mcompile(\u001b[38;5;124mr\u001b[39m\u001b[38;5;124m'\u001b[39m\u001b[38;5;124m([setosa]+)\u001b[39m\u001b[38;5;124m'\u001b[39m)\n\u001b[1;32m----> 2\u001b[0m [\u001b[43mre\u001b[49m\u001b[38;5;241;43m.\u001b[39;49m\u001b[43msub\u001b[49m\u001b[43m(\u001b[49m\u001b[38;5;124;43mr\u001b[39;49m\u001b[38;5;124;43m'\u001b[39;49m\u001b[38;5;124;43m\\\u001b[39;49m\u001b[38;5;124;43msetosa\u001b[39;49m\u001b[38;5;124;43m'\u001b[39;49m\u001b[43m \u001b[49m\u001b[38;5;124;43m'\u001b[39;49m\u001b[38;5;124;43mSetosa\u001b[39;49m\u001b[38;5;124;43m'\u001b[39;49m\u001b[43m,\u001b[49m\u001b[43m \u001b[49m\u001b[43mline\u001b[49m\u001b[43m)\u001b[49m \u001b[38;5;28;01mfor\u001b[39;00m line \u001b[38;5;129;01min\u001b[39;00m small_cap \u001b[38;5;28;01mif\u001b[39;00m line]\n",
      "\u001b[1;31mTypeError\u001b[0m: sub() missing 1 required positional argument: 'string'"
     ]
    }
   ],
   "source": [
    "my_regex = re.compile(r'([setosa]+)')\n",
    "[re.sub(r'\\setosa' 'Setosa', line) for line in small_cap if line] \n"
   ]
  },
  {
   "cell_type": "markdown",
   "id": "ba9fe66b",
   "metadata": {},
   "source": [
    "## References"
   ]
  },
  {
   "cell_type": "markdown",
   "id": "5b2d4346",
   "metadata": {},
   "source": [
    "1. [Python Regex library documentation](https://docs.python.org/3/library/re.html)<br>\n",
    "2. [Wikipedia example of a pangram](https://en.wikipedia.org/wiki/The_quick_brown_fox_jumps_over_the_lazy_dog)<br>\n",
    "3. [Ian McLoughlin's lecture notebook on data cleansing](https://github.com/ianmcloughlin/2223-S1-fund-data-analysis/blob/main/notebooks/05-cleansing.ipynb)<br>"
   ]
  }
 ],
 "metadata": {
  "kernelspec": {
   "display_name": "Python 3 (ipykernel)",
   "language": "python",
   "name": "python3"
  },
  "language_info": {
   "codemirror_mode": {
    "name": "ipython",
    "version": 3
   },
   "file_extension": ".py",
   "mimetype": "text/x-python",
   "name": "python",
   "nbconvert_exporter": "python",
   "pygments_lexer": "ipython3",
   "version": "3.9.13"
  }
 },
 "nbformat": 4,
 "nbformat_minor": 5
}
