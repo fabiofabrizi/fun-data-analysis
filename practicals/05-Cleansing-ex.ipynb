{
 "cells": [
  {
   "cell_type": "markdown",
   "id": "f8aa0e2f",
   "metadata": {},
   "source": [
    "## Exercise 1\n",
    "\n",
    "***\n",
    "Write a Python function to remove all non-alphanumeric characters from a string.\n",
    "\n",
    "<hr style=\"border-top: 1px solid #001a79;\" />"
   ]
  },
  {
   "cell_type": "markdown",
   "id": "1fec2552",
   "metadata": {},
   "source": [
    "An alphanumeric character is a letter, digit or underscore - in the ASCII character set this is:<br>\n",
    "\n",
    "[a-zA-Z0-9_]<br>\n",
    "\n",
    "Which covers lower and upper-case letters and digits 0-9 as well as underscore."
   ]
  },
  {
   "cell_type": "code",
   "execution_count": 2,
   "id": "1fba33b1",
   "metadata": {},
   "outputs": [],
   "source": [
    "# Import the regex library\n",
    "import re"
   ]
  },
  {
   "cell_type": "code",
   "execution_count": 3,
   "id": "8af0b7e1",
   "metadata": {},
   "outputs": [
    {
     "data": {
      "text/plain": [
       "44"
      ]
     },
     "execution_count": 3,
     "metadata": {},
     "output_type": "execute_result"
    }
   ],
   "source": [
    "# Example string - a pangram - contains all the letters of the alphabet.\n",
    "s = 'The quick brown fox jumps over the lazy dog '\n",
    "len(s)"
   ]
  },
  {
   "cell_type": "code",
   "execution_count": 4,
   "id": "88b83bd3",
   "metadata": {},
   "outputs": [],
   "source": [
    "# Now make the string 'ugly' by adding non-alphanumeric characters:\n",
    "non_alpha = '£&$#~@?'\n",
    "# &$#~@?"
   ]
  },
  {
   "cell_type": "code",
   "execution_count": 5,
   "id": "90da78fe",
   "metadata": {
    "scrolled": true
   },
   "outputs": [],
   "source": [
    "# insert non-alphanumeric characters into string:\n",
    "# Count every 3 chars, use the length of the original string s as the range\n",
    "newString = non_alpha.join(s[i:i+1] for i in range(0, len(s) - 1))"
   ]
  },
  {
   "cell_type": "markdown",
   "id": "2ef412c9",
   "metadata": {},
   "source": [
    "So now, we need to get from here:"
   ]
  },
  {
   "cell_type": "code",
   "execution_count": 6,
   "id": "42d90586",
   "metadata": {},
   "outputs": [
    {
     "name": "stdout",
     "output_type": "stream",
     "text": [
      "T£&$#~@?h£&$#~@?e£&$#~@? £&$#~@?q£&$#~@?u£&$#~@?i£&$#~@?c£&$#~@?k£&$#~@? £&$#~@?b£&$#~@?r£&$#~@?o£&$#~@?w£&$#~@?n£&$#~@? £&$#~@?f£&$#~@?o£&$#~@?x£&$#~@? £&$#~@?j£&$#~@?u£&$#~@?m£&$#~@?p£&$#~@?s£&$#~@? £&$#~@?o£&$#~@?v£&$#~@?e£&$#~@?r£&$#~@? £&$#~@?t£&$#~@?h£&$#~@?e£&$#~@? £&$#~@?l£&$#~@?a£&$#~@?z£&$#~@?y£&$#~@? £&$#~@?d£&$#~@?o£&$#~@?g\n"
     ]
    }
   ],
   "source": [
    "print(newString)"
   ]
  },
  {
   "cell_type": "markdown",
   "id": "27c29230",
   "metadata": {},
   "source": [
    "to here:"
   ]
  },
  {
   "cell_type": "code",
   "execution_count": 7,
   "id": "e4e61ac3",
   "metadata": {},
   "outputs": [
    {
     "name": "stdout",
     "output_type": "stream",
     "text": [
      "The quick brown fox jumps over the lazy dog \n"
     ]
    }
   ],
   "source": [
    "print(s)"
   ]
  },
  {
   "cell_type": "markdown",
   "id": "ffa95cac",
   "metadata": {},
   "source": [
    "Using regular expressions to remove all the non-alphanumeric characters."
   ]
  },
  {
   "cell_type": "code",
   "execution_count": 50,
   "id": "214ffbf0",
   "metadata": {},
   "outputs": [
    {
     "name": "stdout",
     "output_type": "stream",
     "text": [
      "The quick brown fox jumps over the lazy dog\n"
     ]
    }
   ],
   "source": [
    "#final = re.sub(r'\\W+', '', newString)\n",
    "#final = ''.join(filter(str.isalnum, s))\n",
    "\n",
    "#final = re.search(r'(\\w+)+', newString)\n",
    "\n",
    "# Remove the chars, split into characters\n",
    "final = re.split('[£&$#~@?]+', newString, flags=re.IGNORECASE)\n",
    "\n",
    "# Join the characters back together, preserving the space\n",
    "final = ''.join(final)\n",
    "print(final)"
   ]
  },
  {
   "cell_type": "markdown",
   "id": "d0629e9f",
   "metadata": {},
   "source": [
    "All the added characters were filtered out, but so was the space between words.<br>\n",
    "As space isn't considered an alphanumeric character, that's satisfies the exercise, but it would be good to get back the original sentence.\n",
    "\n",
    "Edit 12/12/22:\n",
    "Got back to the original sentence, lecture this week helped. Thanks!"
   ]
  },
  {
   "cell_type": "code",
   "execution_count": null,
   "id": "87fd9223",
   "metadata": {},
   "outputs": [],
   "source": []
  },
  {
   "cell_type": "markdown",
   "id": "af39aa33",
   "metadata": {},
   "source": [
    "## Exercise 2:\n",
    "\n",
    "### Adapt the code below to capitalise the first letter of the iris species, using regular expressions"
   ]
  },
  {
   "cell_type": "code",
   "execution_count": null,
   "id": "ba89d2f3",
   "metadata": {},
   "outputs": [],
   "source": [
    "# Import the file\n",
    "# Do all the code, including swap\n",
    "# Do the easy way\n",
    "# Then do the way that's asked in the exercise"
   ]
  },
  {
   "cell_type": "code",
   "execution_count": null,
   "id": "d8c70ece",
   "metadata": {},
   "outputs": [],
   "source": []
  },
  {
   "cell_type": "code",
   "execution_count": null,
   "id": "689cba05",
   "metadata": {},
   "outputs": [],
   "source": []
  },
  {
   "cell_type": "code",
   "execution_count": null,
   "id": "3f078efe",
   "metadata": {},
   "outputs": [],
   "source": []
  },
  {
   "cell_type": "code",
   "execution_count": null,
   "id": "cf7a39c5",
   "metadata": {},
   "outputs": [],
   "source": []
  },
  {
   "cell_type": "code",
   "execution_count": null,
   "id": "07da5491",
   "metadata": {},
   "outputs": [],
   "source": []
  },
  {
   "cell_type": "code",
   "execution_count": null,
   "id": "c9a34984",
   "metadata": {},
   "outputs": [],
   "source": []
  },
  {
   "cell_type": "markdown",
   "id": "ba9fe66b",
   "metadata": {},
   "source": [
    "## References"
   ]
  },
  {
   "cell_type": "markdown",
   "id": "5b2d4346",
   "metadata": {},
   "source": [
    "1. [Python Regex library documentation](https://docs.python.org/3/library/re.html)\n",
    "2. [Wikipedia example of a pangram](https://en.wikipedia.org/wiki/The_quick_brown_fox_jumps_over_the_lazy_dog)"
   ]
  }
 ],
 "metadata": {
  "kernelspec": {
   "display_name": "Python 3 (ipykernel)",
   "language": "python",
   "name": "python3"
  },
  "language_info": {
   "codemirror_mode": {
    "name": "ipython",
    "version": 3
   },
   "file_extension": ".py",
   "mimetype": "text/x-python",
   "name": "python",
   "nbconvert_exporter": "python",
   "pygments_lexer": "ipython3",
   "version": "3.9.13"
  }
 },
 "nbformat": 4,
 "nbformat_minor": 5
}
