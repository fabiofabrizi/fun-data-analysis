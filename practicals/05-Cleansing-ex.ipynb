{
 "cells": [
  {
   "cell_type": "markdown",
   "id": "fe7a6d50",
   "metadata": {},
   "source": [
    "## Exercise 1\n",
    "\n",
    "***\n",
    "Write a Python function to remove all non-alphanumeric characters from a string.\n",
    "\n",
    "<hr style=\"border-top: 1px solid #001a79;\" />"
   ]
  },
  {
   "cell_type": "markdown",
   "id": "27716c9c",
   "metadata": {},
   "source": [
    "An alphanumeric character is a letter, digit or underscore - in the ASCII character set this is:<br>\n",
    "\n",
    "[a-zA-Z0-9_]<br>\n",
    "\n",
    "Which covers lower and upper-case letters and digits 0-9 as well as underscore."
   ]
  },
  {
   "cell_type": "code",
   "execution_count": 19,
   "id": "71a76e05",
   "metadata": {},
   "outputs": [],
   "source": [
    "# Import the regex library\n",
    "import re"
   ]
  },
  {
   "cell_type": "code",
   "execution_count": 44,
   "id": "7fe42a74",
   "metadata": {},
   "outputs": [
    {
     "data": {
      "text/plain": [
       "44"
      ]
     },
     "execution_count": 44,
     "metadata": {},
     "output_type": "execute_result"
    }
   ],
   "source": [
    "# Example string - a pangram - contains all the letters of the alphabet.\n",
    "s = 'The quick brown fox jumps over the lazy dog '\n",
    "len(s)"
   ]
  },
  {
   "cell_type": "code",
   "execution_count": 50,
   "id": "a4eba4b2",
   "metadata": {},
   "outputs": [],
   "source": [
    "# Now make the string 'ugly' by adding non-alphanumeric characters:\n",
    "non_alpha = '£&$#~@?'\n",
    "# &$#~@?"
   ]
  },
  {
   "cell_type": "code",
   "execution_count": 51,
   "id": "90d39024",
   "metadata": {
    "scrolled": true
   },
   "outputs": [],
   "source": [
    "# insert non-alphanumeric characters into string:\n",
    "# Count every 3 chars, use the length of the original string s as the range\n",
    "newString = non_alpha.join(s[i:i+1] for i in range(0, len(s) - 1))"
   ]
  },
  {
   "cell_type": "markdown",
   "id": "270f5bd4",
   "metadata": {},
   "source": [
    "So now, we need to get from here:"
   ]
  },
  {
   "cell_type": "code",
   "execution_count": 52,
   "id": "b12b2b23",
   "metadata": {},
   "outputs": [
    {
     "name": "stdout",
     "output_type": "stream",
     "text": [
      "T£&$#~@?h£&$#~@?e£&$#~@? £&$#~@?q£&$#~@?u£&$#~@?i£&$#~@?c£&$#~@?k£&$#~@? £&$#~@?b£&$#~@?r£&$#~@?o£&$#~@?w£&$#~@?n£&$#~@? £&$#~@?f£&$#~@?o£&$#~@?x£&$#~@? £&$#~@?j£&$#~@?u£&$#~@?m£&$#~@?p£&$#~@?s£&$#~@? £&$#~@?o£&$#~@?v£&$#~@?e£&$#~@?r£&$#~@? £&$#~@?t£&$#~@?h£&$#~@?e£&$#~@? £&$#~@?l£&$#~@?a£&$#~@?z£&$#~@?y£&$#~@? £&$#~@?d£&$#~@?o£&$#~@?g\n"
     ]
    }
   ],
   "source": [
    "print(newString)"
   ]
  },
  {
   "cell_type": "markdown",
   "id": "25360101",
   "metadata": {},
   "source": [
    "to here:"
   ]
  },
  {
   "cell_type": "code",
   "execution_count": 53,
   "id": "7ef907ed",
   "metadata": {},
   "outputs": [
    {
     "name": "stdout",
     "output_type": "stream",
     "text": [
      "The quick brown fox jumps over the lazy dog \n"
     ]
    }
   ],
   "source": [
    "print(s)"
   ]
  },
  {
   "cell_type": "markdown",
   "id": "12bd8314",
   "metadata": {},
   "source": [
    "Using regular expressions to remove all the non-alphanumeric characters."
   ]
  },
  {
   "cell_type": "code",
   "execution_count": 55,
   "id": "8731baca",
   "metadata": {},
   "outputs": [
    {
     "name": "stdout",
     "output_type": "stream",
     "text": [
      "Thequickbrownfoxjumpsoverthelazydog\n"
     ]
    }
   ],
   "source": [
    "final = re.sub(r'\\W+', '', newString)\n",
    "print(final)"
   ]
  },
  {
   "cell_type": "markdown",
   "id": "a6d2ef33",
   "metadata": {},
   "source": [
    "All the added characters were filtered out, but so was the space between words.\n",
    "Need to revise this to include the spaces."
   ]
  },
  {
   "cell_type": "code",
   "execution_count": null,
   "id": "0567b1cc",
   "metadata": {},
   "outputs": [],
   "source": []
  },
  {
   "cell_type": "code",
   "execution_count": null,
   "id": "58b0492c",
   "metadata": {},
   "outputs": [],
   "source": []
  },
  {
   "cell_type": "markdown",
   "id": "e1531930",
   "metadata": {},
   "source": [
    "## References"
   ]
  },
  {
   "cell_type": "markdown",
   "id": "20499734",
   "metadata": {},
   "source": [
    "1. [Python Regex library documentation](https://docs.python.org/3/library/re.html)\n",
    "2. [Wikipedia example of a pangram](https://en.wikipedia.org/wiki/The_quick_brown_fox_jumps_over_the_lazy_dog)"
   ]
  }
 ],
 "metadata": {
  "kernelspec": {
   "display_name": "Python 3 (ipykernel)",
   "language": "python",
   "name": "python3"
  },
  "language_info": {
   "codemirror_mode": {
    "name": "ipython",
    "version": 3
   },
   "file_extension": ".py",
   "mimetype": "text/x-python",
   "name": "python",
   "nbconvert_exporter": "python",
   "pygments_lexer": "ipython3",
   "version": "3.9.13"
  }
 },
 "nbformat": 4,
 "nbformat_minor": 5
}
