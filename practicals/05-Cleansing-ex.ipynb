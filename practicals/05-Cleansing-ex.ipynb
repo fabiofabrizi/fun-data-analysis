{
 "cells": [
  {
   "cell_type": "markdown",
   "id": "fe5d138e",
   "metadata": {},
   "source": [
    "## Exercise 1\n",
    "\n",
    "***\n",
    "Write a Python function to remove all non-alphanumeric characters from a string.\n",
    "\n",
    "<hr style=\"border-top: 1px solid #001a79;\" />"
   ]
  },
  {
   "cell_type": "markdown",
   "id": "4a9b0c35",
   "metadata": {},
   "source": [
    "An alphanumeric character is a letter, digit or underscore - in the ASCII character set this is:<br>\n",
    "\n",
    "[a-zA-Z0-9_]<br>\n",
    "\n",
    "Which covers lower and upper-case letters and digits 0-9 as well as underscore."
   ]
  },
  {
   "cell_type": "code",
   "execution_count": 19,
   "id": "8eaeaee9",
   "metadata": {},
   "outputs": [],
   "source": [
    "# Import the regex library\n",
    "import re"
   ]
  },
  {
   "cell_type": "code",
   "execution_count": 44,
   "id": "98749bb2",
   "metadata": {},
   "outputs": [
    {
     "data": {
      "text/plain": [
       "44"
      ]
     },
     "execution_count": 44,
     "metadata": {},
     "output_type": "execute_result"
    }
   ],
   "source": [
    "# Example string - a pangram - contains all the letters of the alphabet.\n",
    "s = 'The quick brown fox jumps over the lazy dog '\n",
    "len(s)"
   ]
  },
  {
   "cell_type": "code",
   "execution_count": 50,
   "id": "a1928664",
   "metadata": {},
   "outputs": [],
   "source": [
    "# Now make the string 'ugly' by adding non-alphanumeric characters:\n",
    "non_alpha = '£&$#~@?'\n",
    "# &$#~@?"
   ]
  },
  {
   "cell_type": "code",
   "execution_count": 51,
   "id": "619f337d",
   "metadata": {
    "scrolled": true
   },
   "outputs": [],
   "source": [
    "# insert non-alphanumeric characters into string:\n",
    "# Count every 3 chars, use the length of the original string s as the range\n",
    "newString = non_alpha.join(s[i:i+1] for i in range(0, len(s) - 1))"
   ]
  },
  {
   "cell_type": "markdown",
   "id": "bc7d3736",
   "metadata": {},
   "source": [
    "So now, we need to get from here:"
   ]
  },
  {
   "cell_type": "code",
   "execution_count": 52,
   "id": "ae713d80",
   "metadata": {},
   "outputs": [
    {
     "name": "stdout",
     "output_type": "stream",
     "text": [
      "T£&$#~@?h£&$#~@?e£&$#~@? £&$#~@?q£&$#~@?u£&$#~@?i£&$#~@?c£&$#~@?k£&$#~@? £&$#~@?b£&$#~@?r£&$#~@?o£&$#~@?w£&$#~@?n£&$#~@? £&$#~@?f£&$#~@?o£&$#~@?x£&$#~@? £&$#~@?j£&$#~@?u£&$#~@?m£&$#~@?p£&$#~@?s£&$#~@? £&$#~@?o£&$#~@?v£&$#~@?e£&$#~@?r£&$#~@? £&$#~@?t£&$#~@?h£&$#~@?e£&$#~@? £&$#~@?l£&$#~@?a£&$#~@?z£&$#~@?y£&$#~@? £&$#~@?d£&$#~@?o£&$#~@?g\n"
     ]
    }
   ],
   "source": [
    "print(newString)"
   ]
  },
  {
   "cell_type": "markdown",
   "id": "01eae926",
   "metadata": {},
   "source": [
    "to here:"
   ]
  },
  {
   "cell_type": "code",
   "execution_count": 53,
   "id": "96388084",
   "metadata": {},
   "outputs": [
    {
     "name": "stdout",
     "output_type": "stream",
     "text": [
      "The quick brown fox jumps over the lazy dog \n"
     ]
    }
   ],
   "source": [
    "print(s)"
   ]
  },
  {
   "cell_type": "markdown",
   "id": "48a0b131",
   "metadata": {},
   "source": [
    "Using regular expressions to remove all the non-alphanumeric characters."
   ]
  },
  {
   "cell_type": "code",
   "execution_count": 61,
   "id": "2f7b5710",
   "metadata": {},
   "outputs": [
    {
     "name": "stdout",
     "output_type": "stream",
     "text": [
      "Thequickbrownfoxjumpsoverthelazydog\n"
     ]
    }
   ],
   "source": [
    "final = re.sub(r'\\W+', '', newString)\n",
    "#final = ''.join(filter(str.isalnum, s))\n",
    "print(final)"
   ]
  },
  {
   "cell_type": "markdown",
   "id": "d9d6ff81",
   "metadata": {},
   "source": [
    "All the added characters were filtered out, but so was the space between words.\n",
    "As space isn't cons"
   ]
  },
  {
   "cell_type": "code",
   "execution_count": null,
   "id": "7748046b",
   "metadata": {},
   "outputs": [],
   "source": []
  },
  {
   "cell_type": "code",
   "execution_count": null,
   "id": "0b3c9306",
   "metadata": {},
   "outputs": [],
   "source": []
  },
  {
   "cell_type": "markdown",
   "id": "bab47734",
   "metadata": {},
   "source": [
    "## References"
   ]
  },
  {
   "cell_type": "markdown",
   "id": "8f647dc6",
   "metadata": {},
   "source": [
    "1. [Python Regex library documentation](https://docs.python.org/3/library/re.html)\n",
    "2. [Wikipedia example of a pangram](https://en.wikipedia.org/wiki/The_quick_brown_fox_jumps_over_the_lazy_dog)"
   ]
  }
 ],
 "metadata": {
  "kernelspec": {
   "display_name": "Python 3 (ipykernel)",
   "language": "python",
   "name": "python3"
  },
  "language_info": {
   "codemirror_mode": {
    "name": "ipython",
    "version": 3
   },
   "file_extension": ".py",
   "mimetype": "text/x-python",
   "name": "python",
   "nbconvert_exporter": "python",
   "pygments_lexer": "ipython3",
   "version": "3.9.13"
  }
 },
 "nbformat": 4,
 "nbformat_minor": 5
}
