{
 "cells": [
  {
   "cell_type": "markdown",
   "id": "c81944b5",
   "metadata": {},
   "source": [
    "<h1 style=\"color: rgb(0, 0, 0);\">Outliers</h1>\n",
    "\n",
    "<hr style=\"border-top: 1px solid rgb(0, 91, 94);\" />\n",
    "\n",
    "\n",
    "This notebook contains the exercises for the topic on Outliers"
   ]
  },
  {
   "cell_type": "code",
   "execution_count": 96,
   "id": "c5193712",
   "metadata": {},
   "outputs": [],
   "source": [
    "# Numerical arrays\n",
    "import numpy as np\n",
    "\n",
    "# Plotting\n",
    "import matplotlib.pyplot as plt\n",
    "import seaborn as sns\n",
    "\n",
    "# Statistics\n",
    "import scipy.stats as ss\n",
    "\n",
    "# csv, tabular data\n",
    "import csv\n",
    "import pandas as pd"
   ]
  },
  {
   "cell_type": "markdown",
   "id": "324cdcba",
   "metadata": {},
   "source": [
    "## Exercise 1\n",
    "### Box plots of the Morley data set\n",
    "\n",
    "Create box plots on a single set of axes for all five experiments in the morley data set."
   ]
  },
  {
   "cell_type": "code",
   "execution_count": 3,
   "id": "2dadb340",
   "metadata": {},
   "outputs": [
    {
     "data": {
      "text/plain": [
       "array([ 850.,  740.,  900., 1070.,  930.,  850.,  950.,  980.,  980.,\n",
       "        880., 1000.,  980.,  930.,  650.,  760.,  810., 1000., 1000.,\n",
       "        960.,  960.])"
      ]
     },
     "execution_count": 3,
     "metadata": {},
     "output_type": "execute_result"
    }
   ],
   "source": [
    "# An explanation of the dataset:\n",
    "# https://stat.ethz.ch/R-manual/R-devel/library/datasets/html/morley.html\n",
    "\n",
    "# The below code breaks when reading the header line, so we need to pass parameter skip header\n",
    "file = 'https://vincentarelbundock.github.io/Rdatasets/csv/datasets/morley.csv'\n",
    "\n",
    "# Read in Morley data.\n",
    "data = np.genfromtxt(file, skip_header=1, delimiter=',')\n",
    "# Remove the first column.\n",
    "# : means 'this is what I want from first index' - which is outer array.\n",
    "# 1: means 'this is what I want from second index' - which is inner array.\n",
    "data = data[:,1:]\n",
    "#print(data)\n",
    "\n",
    "# Select the data for the first experiment - column at index 2. First 20 values\n",
    "# Because there were 20 runs and 5 experiments\n",
    "# Code below is up to, not including 20 (0 - 19)\n",
    "exper_1 = data[:20, 2]\n",
    "\n",
    "exper_1"
   ]
  },
  {
   "cell_type": "code",
   "execution_count": 4,
   "id": "21da021d",
   "metadata": {},
   "outputs": [
    {
     "data": {
      "text/plain": [
       "array([960., 940., 960., 940., 880., 800., 850., 880., 900., 840., 830.,\n",
       "       790., 810., 880., 880., 830., 800., 790., 760., 800.])"
      ]
     },
     "execution_count": 4,
     "metadata": {},
     "output_type": "execute_result"
    }
   ],
   "source": [
    "# Select the data for the second experiment\n",
    "exper_2 = data[20:40, 2]\n",
    "exper_2"
   ]
  },
  {
   "cell_type": "code",
   "execution_count": 5,
   "id": "cd511a2f",
   "metadata": {},
   "outputs": [
    {
     "data": {
      "text/plain": [
       "array([880., 880., 880., 860., 720., 720., 620., 860., 970., 950., 880.,\n",
       "       910., 850., 870., 840., 840., 850., 840., 840., 840.])"
      ]
     },
     "execution_count": 5,
     "metadata": {},
     "output_type": "execute_result"
    }
   ],
   "source": [
    "# Select the data for the third experiment\n",
    "exper_3 = data[40:60, 2]\n",
    "exper_3"
   ]
  },
  {
   "cell_type": "code",
   "execution_count": 6,
   "id": "420f1dd0",
   "metadata": {},
   "outputs": [
    {
     "data": {
      "text/plain": [
       "array([890., 810., 810., 820., 800., 770., 760., 740., 750., 760., 910.,\n",
       "       920., 890., 860., 880., 720., 840., 850., 850., 780.])"
      ]
     },
     "execution_count": 6,
     "metadata": {},
     "output_type": "execute_result"
    }
   ],
   "source": [
    "# Select the data for the fourth experiment\n",
    "exper_4 = data[60:80, 2]\n",
    "exper_4"
   ]
  },
  {
   "cell_type": "code",
   "execution_count": 7,
   "id": "957b8518",
   "metadata": {},
   "outputs": [
    {
     "data": {
      "text/plain": [
       "array([890., 840., 780., 810., 760., 810., 790., 810., 820., 850., 870.,\n",
       "       870., 810., 740., 810., 940., 950., 800., 810., 870.])"
      ]
     },
     "execution_count": 7,
     "metadata": {},
     "output_type": "execute_result"
    }
   ],
   "source": [
    "# Select the data for the fifth experiment\n",
    "exper_5 = data[80:100, 2]\n",
    "exper_5"
   ]
  },
  {
   "cell_type": "code",
   "execution_count": 9,
   "id": "ae97399d",
   "metadata": {},
   "outputs": [
    {
     "data": {
      "image/png": "[encoded data removed]",
      "text/plain": [
       "<Figure size 640x480 with 1 Axes>"
      ]
     },
     "metadata": {},
     "output_type": "display_data"
    }
   ],
   "source": [
    "# Create a box plot\n",
    "# ; at end of line stops the object details being printed\n",
    "#plt.boxplot(exper_1);\n",
    "# .T means transpose\n",
    "plt.boxplot(np.array([exper_1, exper_2, exper_3, exper_4, exper_5]).T);"
   ]
  },
  {
   "cell_type": "markdown",
   "id": "8ad8e6a2",
   "metadata": {},
   "source": [
    "Although the plot above shows the outliers, we can also go a step further and display the maximum and minimum whisker length for each box plot. To do this we need the inter-quartile range for each experiment."
   ]
  },
  {
   "cell_type": "markdown",
   "id": "84cf20f9",
   "metadata": {},
   "source": [
    "### Inter-Quartile Range of Experiment 1"
   ]
  },
  {
   "cell_type": "code",
   "execution_count": 30,
   "id": "158e2464",
   "metadata": {},
   "outputs": [
    {
     "data": {
      "text/plain": [
       "720.0"
      ]
     },
     "execution_count": 30,
     "metadata": {},
     "output_type": "execute_result"
    }
   ],
   "source": [
    "# Inter-quartile range of experiment 1.\n",
    "iqr_ex1 = np.percentile(exper_1, 75) - np.percentile(exper_1, 25)\n",
    "\n",
    "# Upper Quartile value\n",
    "q3_ex1 = np.percentile(exper_1, 75)\n",
    "\n",
    "# lower quartile value:\n",
    "q1_ex1 = np.percentile(exper_1, 25)\n",
    "\n",
    "# Max upper whisker:\n",
    "q3_ex1 + iqr_ex1\n",
    "\n",
    "# Min lower whisker:\n",
    "q1_ex1 - iqr_ex1"
   ]
  },
  {
   "cell_type": "markdown",
   "id": "42859a1c",
   "metadata": {},
   "source": [
    "### Inter-Quartile Range of Experiment 2"
   ]
  },
  {
   "cell_type": "code",
   "execution_count": 31,
   "id": "8b61e1f4",
   "metadata": {},
   "outputs": [
    {
     "data": {
      "text/plain": [
       "715.0"
      ]
     },
     "execution_count": 31,
     "metadata": {},
     "output_type": "execute_result"
    }
   ],
   "source": [
    "# Inter-quartile range of experiment 2.\n",
    "iqr_ex2 = np.percentile(exper_2, 75) - np.percentile(exper_2, 25)\n",
    "\n",
    "# Upper Quartile value\n",
    "q3_ex2 = np.percentile(exper_2, 75)\n",
    "\n",
    "# lower quartile value:\n",
    "q1_ex2 = np.percentile(exper_2, 25)\n",
    "\n",
    "# Max upper whisker:\n",
    "q3_ex2 + iqr_ex2\n",
    "\n",
    "# Min lower whisker:\n",
    "q1_ex2 - iqr_ex2"
   ]
  },
  {
   "cell_type": "markdown",
   "id": "7bd7066e",
   "metadata": {},
   "source": [
    "### Inter-Quartile Range of Experiment 3"
   ]
  },
  {
   "cell_type": "code",
   "execution_count": 35,
   "id": "b38cd19c",
   "metadata": {},
   "outputs": [
    {
     "data": {
      "text/plain": [
       "800.0"
      ]
     },
     "execution_count": 35,
     "metadata": {},
     "output_type": "execute_result"
    }
   ],
   "source": [
    "# Inter-quartile range of experiment 3.\n",
    "iqr_ex3 = np.percentile(exper_3, 75) - np.percentile(exper_3, 25)\n",
    "\n",
    "# Upper Quartile value\n",
    "q3_ex3 = np.percentile(exper_3, 75)\n",
    "\n",
    "# lower quartile value:\n",
    "q1_ex3= np.percentile(exper_3, 25)\n",
    "\n",
    "# Max upper whisker:\n",
    "q3_ex3 + iqr_ex3\n",
    "\n",
    "# Min lower whisker:\n",
    "q1_ex3 - iqr_ex3"
   ]
  },
  {
   "cell_type": "markdown",
   "id": "04da6bfd",
   "metadata": {},
   "source": [
    "### Inter-Quartile Range of Experiment 4"
   ]
  },
  {
   "cell_type": "code",
   "execution_count": 37,
   "id": "a8825e32",
   "metadata": {},
   "outputs": [
    {
     "data": {
      "text/plain": [
       "670.0"
      ]
     },
     "execution_count": 37,
     "metadata": {},
     "output_type": "execute_result"
    }
   ],
   "source": [
    "# Inter-quartile range of experiment 4.\n",
    "iqr_ex4 = np.percentile(exper_4, 75) - np.percentile(exper_4, 25)\n",
    "\n",
    "# Upper Quartile value\n",
    "q3_ex4 = np.percentile(exper_4, 75)\n",
    "\n",
    "# lower quartile value:\n",
    "q1_ex4= np.percentile(exper_4, 25)\n",
    "\n",
    "# Max upper whisker:\n",
    "q3_ex4 + iqr_ex4\n",
    "\n",
    "# Min lower whisker:\n",
    "q1_ex4 - iqr_ex4"
   ]
  },
  {
   "cell_type": "markdown",
   "id": "007f4221",
   "metadata": {},
   "source": [
    "### Inter-Quartile Range of Experiment 5"
   ]
  },
  {
   "cell_type": "code",
   "execution_count": 39,
   "id": "d3e7cd38",
   "metadata": {},
   "outputs": [
    {
     "data": {
      "text/plain": [
       "745.0"
      ]
     },
     "execution_count": 39,
     "metadata": {},
     "output_type": "execute_result"
    }
   ],
   "source": [
    "# Inter-quartile range of experiment 5.\n",
    "iqr_ex5 = np.percentile(exper_5, 75) - np.percentile(exper_5, 25)\n",
    "\n",
    "# Upper Quartile value\n",
    "q3_ex5 = np.percentile(exper_5, 75)\n",
    "\n",
    "# lower quartile value:\n",
    "q1_ex5= np.percentile(exper_5, 25)\n",
    "\n",
    "# Max upper whisker:\n",
    "q3_ex5 + iqr_ex5\n",
    "\n",
    "# Min lower whisker:\n",
    "q1_ex5 - iqr_ex5"
   ]
  },
  {
   "cell_type": "code",
   "execution_count": 40,
   "id": "ba6e8ac1",
   "metadata": {
    "scrolled": false
   },
   "outputs": [
    {
     "data": {
      "image/png": "[encoded data removed]",
      "text/plain": [
       "<Figure size 1200x800 with 1 Axes>"
      ]
     },
     "metadata": {},
     "output_type": "display_data"
    }
   ],
   "source": [
    "# Another way to plot the box plots \n",
    "data = [exper_1, exper_2, exper_3, exper_4, exper_5]\n",
    "\n",
    "# Bigger plot\n",
    "fig = plt.figure(figsize =(12, 8))\n",
    " \n",
    "# Creating axes instance\n",
    "ax = fig.add_axes([0, 0, 1, 1])\n",
    "\n",
    "# Add the data for experiment 1\n",
    "ax.plot([1.0, 1.0], [q1_ex1 - iqr_ex1, q3_ex1 + iqr_ex1], 'bx'); \n",
    "\n",
    "# Add the data for experiment 2\n",
    "ax.plot([2.0, 2.0], [q1_ex2 - iqr_ex2, q3_ex2 + iqr_ex2], 'bx'); \n",
    "\n",
    "# Add the data for experiment 3\n",
    "ax.plot([3.0, 3.0], [q1_ex3 - iqr_ex3, q3_ex3 + iqr_ex3], 'bx'); \n",
    "\n",
    "# Add the data for experiment 4\n",
    "ax.plot([4.0, 4.0], [q1_ex4 - iqr_ex4, q3_ex4 + iqr_ex4], 'bx');\n",
    "\n",
    "# Add the data for experiment 5\n",
    "ax.plot([5.0, 5.0], [q1_ex5 - iqr_ex5, q3_ex5 + iqr_ex5], 'bx');\n",
    "\n",
    "# Creating plot\n",
    "bp = ax.boxplot(data)\n",
    " \n",
    "# show plot\n",
    "plt.show()"
   ]
  },
  {
   "cell_type": "markdown",
   "id": "70c8680c",
   "metadata": {},
   "source": [
    "So above we have the box plots for all the experiments as well as the theoretical maximum and minimum values for the whiskers (blue crosses)."
   ]
  },
  {
   "cell_type": "markdown",
   "id": "21f67e5f",
   "metadata": {},
   "source": [
    "## Exercise 2\n",
    "\n",
    "Create box plots for all of the numerical variables in Fisher's Iris Data Set.\n",
    "The first way will use pandas to illustrate the speed/minimal code.\n",
    "\n",
    "The second way will do it as it was done in the lecture."
   ]
  },
  {
   "cell_type": "code",
   "execution_count": 92,
   "id": "56ef5893",
   "metadata": {
    "scrolled": false
   },
   "outputs": [],
   "source": [
    "# Import csv\n",
    "#iris = 'https://vincentarelbundock.github.io/Rdatasets/csv/datasets/iris.csv'\n",
    "\n",
    "iris = 'data/iris.csv'\n",
    "#data = np.genfromtxt(iris,delimiter='')\n",
    "\n",
    "#data\n",
    "# go through each variable\n",
    "# box plots"
   ]
  },
  {
   "cell_type": "code",
   "execution_count": 94,
   "id": "6f3b991b",
   "metadata": {},
   "outputs": [
    {
     "data": {
      "text/html": [
       "<div>\n",
       "<style scoped>\n",
       "    .dataframe tbody tr th:only-of-type {\n",
       "        vertical-align: middle;\n",
       "    }\n",
       "\n",
       "    .dataframe tbody tr th {\n",
       "        vertical-align: top;\n",
       "    }\n",
       "\n",
       "    .dataframe thead th {\n",
       "        text-align: right;\n",
       "    }\n",
       "</style>\n",
       "<table border=\"1\" class=\"dataframe\">\n",
       "  <thead>\n",
       "    <tr style=\"text-align: right;\">\n",
       "      <th></th>\n",
       "      <th>Unnamed: 0</th>\n",
       "      <th>Sepal.Length</th>\n",
       "      <th>Sepal.Width</th>\n",
       "      <th>Petal.Length</th>\n",
       "      <th>Petal.Width</th>\n",
       "      <th>Species</th>\n",
       "    </tr>\n",
       "  </thead>\n",
       "  <tbody>\n",
       "    <tr>\n",
       "      <th>0</th>\n",
       "      <td>1</td>\n",
       "      <td>5.1</td>\n",
       "      <td>3.5</td>\n",
       "      <td>1.4</td>\n",
       "      <td>0.2</td>\n",
       "      <td>setosa</td>\n",
       "    </tr>\n",
       "    <tr>\n",
       "      <th>1</th>\n",
       "      <td>2</td>\n",
       "      <td>4.9</td>\n",
       "      <td>3.0</td>\n",
       "      <td>1.4</td>\n",
       "      <td>0.2</td>\n",
       "      <td>setosa</td>\n",
       "    </tr>\n",
       "    <tr>\n",
       "      <th>2</th>\n",
       "      <td>3</td>\n",
       "      <td>4.7</td>\n",
       "      <td>3.2</td>\n",
       "      <td>1.3</td>\n",
       "      <td>0.2</td>\n",
       "      <td>setosa</td>\n",
       "    </tr>\n",
       "    <tr>\n",
       "      <th>3</th>\n",
       "      <td>4</td>\n",
       "      <td>4.6</td>\n",
       "      <td>3.1</td>\n",
       "      <td>1.5</td>\n",
       "      <td>0.2</td>\n",
       "      <td>setosa</td>\n",
       "    </tr>\n",
       "    <tr>\n",
       "      <th>4</th>\n",
       "      <td>5</td>\n",
       "      <td>5.0</td>\n",
       "      <td>3.6</td>\n",
       "      <td>1.4</td>\n",
       "      <td>0.2</td>\n",
       "      <td>setosa</td>\n",
       "    </tr>\n",
       "    <tr>\n",
       "      <th>...</th>\n",
       "      <td>...</td>\n",
       "      <td>...</td>\n",
       "      <td>...</td>\n",
       "      <td>...</td>\n",
       "      <td>...</td>\n",
       "      <td>...</td>\n",
       "    </tr>\n",
       "    <tr>\n",
       "      <th>145</th>\n",
       "      <td>146</td>\n",
       "      <td>6.7</td>\n",
       "      <td>3.0</td>\n",
       "      <td>5.2</td>\n",
       "      <td>2.3</td>\n",
       "      <td>virginica</td>\n",
       "    </tr>\n",
       "    <tr>\n",
       "      <th>146</th>\n",
       "      <td>147</td>\n",
       "      <td>6.3</td>\n",
       "      <td>2.5</td>\n",
       "      <td>5.0</td>\n",
       "      <td>1.9</td>\n",
       "      <td>virginica</td>\n",
       "    </tr>\n",
       "    <tr>\n",
       "      <th>147</th>\n",
       "      <td>148</td>\n",
       "      <td>6.5</td>\n",
       "      <td>3.0</td>\n",
       "      <td>5.2</td>\n",
       "      <td>2.0</td>\n",
       "      <td>virginica</td>\n",
       "    </tr>\n",
       "    <tr>\n",
       "      <th>148</th>\n",
       "      <td>149</td>\n",
       "      <td>6.2</td>\n",
       "      <td>3.4</td>\n",
       "      <td>5.4</td>\n",
       "      <td>2.3</td>\n",
       "      <td>virginica</td>\n",
       "    </tr>\n",
       "    <tr>\n",
       "      <th>149</th>\n",
       "      <td>150</td>\n",
       "      <td>5.9</td>\n",
       "      <td>3.0</td>\n",
       "      <td>5.1</td>\n",
       "      <td>1.8</td>\n",
       "      <td>virginica</td>\n",
       "    </tr>\n",
       "  </tbody>\n",
       "</table>\n",
       "<p>150 rows × 6 columns</p>\n",
       "</div>"
      ],
      "text/plain": [
       "     Unnamed: 0  Sepal.Length  Sepal.Width  Petal.Length  Petal.Width  \\\n",
       "0             1           5.1          3.5           1.4          0.2   \n",
       "1             2           4.9          3.0           1.4          0.2   \n",
       "2             3           4.7          3.2           1.3          0.2   \n",
       "3             4           4.6          3.1           1.5          0.2   \n",
       "4             5           5.0          3.6           1.4          0.2   \n",
       "..          ...           ...          ...           ...          ...   \n",
       "145         146           6.7          3.0           5.2          2.3   \n",
       "146         147           6.3          2.5           5.0          1.9   \n",
       "147         148           6.5          3.0           5.2          2.0   \n",
       "148         149           6.2          3.4           5.4          2.3   \n",
       "149         150           5.9          3.0           5.1          1.8   \n",
       "\n",
       "       Species  \n",
       "0       setosa  \n",
       "1       setosa  \n",
       "2       setosa  \n",
       "3       setosa  \n",
       "4       setosa  \n",
       "..         ...  \n",
       "145  virginica  \n",
       "146  virginica  \n",
       "147  virginica  \n",
       "148  virginica  \n",
       "149  virginica  \n",
       "\n",
       "[150 rows x 6 columns]"
      ]
     },
     "execution_count": 94,
     "metadata": {},
     "output_type": "execute_result"
    }
   ],
   "source": [
    "df = pd.read_csv(iris)\n",
    "df"
   ]
  },
  {
   "cell_type": "code",
   "execution_count": 106,
   "id": "0166fc8e",
   "metadata": {},
   "outputs": [
    {
     "data": {
      "text/html": [
       "<div>\n",
       "<style scoped>\n",
       "    .dataframe tbody tr th:only-of-type {\n",
       "        vertical-align: middle;\n",
       "    }\n",
       "\n",
       "    .dataframe tbody tr th {\n",
       "        vertical-align: top;\n",
       "    }\n",
       "\n",
       "    .dataframe thead th {\n",
       "        text-align: right;\n",
       "    }\n",
       "</style>\n",
       "<table border=\"1\" class=\"dataframe\">\n",
       "  <thead>\n",
       "    <tr style=\"text-align: right;\">\n",
       "      <th></th>\n",
       "      <th>Unnamed: 0</th>\n",
       "      <th>Sepal.Length</th>\n",
       "      <th>Sepal.Width</th>\n",
       "      <th>Petal.Length</th>\n",
       "      <th>Petal.Width</th>\n",
       "    </tr>\n",
       "  </thead>\n",
       "  <tbody>\n",
       "    <tr>\n",
       "      <th>count</th>\n",
       "      <td>150.000000</td>\n",
       "      <td>150.000000</td>\n",
       "      <td>150.000000</td>\n",
       "      <td>150.000000</td>\n",
       "      <td>150.000000</td>\n",
       "    </tr>\n",
       "    <tr>\n",
       "      <th>mean</th>\n",
       "      <td>75.500000</td>\n",
       "      <td>5.843333</td>\n",
       "      <td>3.057333</td>\n",
       "      <td>3.758000</td>\n",
       "      <td>1.199333</td>\n",
       "    </tr>\n",
       "    <tr>\n",
       "      <th>std</th>\n",
       "      <td>43.445368</td>\n",
       "      <td>0.828066</td>\n",
       "      <td>0.435866</td>\n",
       "      <td>1.765298</td>\n",
       "      <td>0.762238</td>\n",
       "    </tr>\n",
       "    <tr>\n",
       "      <th>min</th>\n",
       "      <td>1.000000</td>\n",
       "      <td>4.300000</td>\n",
       "      <td>2.000000</td>\n",
       "      <td>1.000000</td>\n",
       "      <td>0.100000</td>\n",
       "    </tr>\n",
       "    <tr>\n",
       "      <th>25%</th>\n",
       "      <td>38.250000</td>\n",
       "      <td>5.100000</td>\n",
       "      <td>2.800000</td>\n",
       "      <td>1.600000</td>\n",
       "      <td>0.300000</td>\n",
       "    </tr>\n",
       "    <tr>\n",
       "      <th>50%</th>\n",
       "      <td>75.500000</td>\n",
       "      <td>5.800000</td>\n",
       "      <td>3.000000</td>\n",
       "      <td>4.350000</td>\n",
       "      <td>1.300000</td>\n",
       "    </tr>\n",
       "    <tr>\n",
       "      <th>75%</th>\n",
       "      <td>112.750000</td>\n",
       "      <td>6.400000</td>\n",
       "      <td>3.300000</td>\n",
       "      <td>5.100000</td>\n",
       "      <td>1.800000</td>\n",
       "    </tr>\n",
       "    <tr>\n",
       "      <th>max</th>\n",
       "      <td>150.000000</td>\n",
       "      <td>7.900000</td>\n",
       "      <td>4.400000</td>\n",
       "      <td>6.900000</td>\n",
       "      <td>2.500000</td>\n",
       "    </tr>\n",
       "  </tbody>\n",
       "</table>\n",
       "</div>"
      ],
      "text/plain": [
       "       Unnamed: 0  Sepal.Length  Sepal.Width  Petal.Length  Petal.Width\n",
       "count  150.000000    150.000000   150.000000    150.000000   150.000000\n",
       "mean    75.500000      5.843333     3.057333      3.758000     1.199333\n",
       "std     43.445368      0.828066     0.435866      1.765298     0.762238\n",
       "min      1.000000      4.300000     2.000000      1.000000     0.100000\n",
       "25%     38.250000      5.100000     2.800000      1.600000     0.300000\n",
       "50%     75.500000      5.800000     3.000000      4.350000     1.300000\n",
       "75%    112.750000      6.400000     3.300000      5.100000     1.800000\n",
       "max    150.000000      7.900000     4.400000      6.900000     2.500000"
      ]
     },
     "execution_count": 106,
     "metadata": {},
     "output_type": "execute_result"
    }
   ],
   "source": [
    "# Basic statistics for each variable.\n",
    "df.describe()"
   ]
  },
  {
   "cell_type": "code",
   "execution_count": 75,
   "id": "a90ec08d",
   "metadata": {},
   "outputs": [
    {
     "data": {
      "image/png": "[encoded data removed]",
      "text/plain": [
       "<Figure size 1600x900 with 4 Axes>"
      ]
     },
     "metadata": {},
     "output_type": "display_data"
    }
   ],
   "source": [
    "# Box plots to show the median and the quartiles of each variable.\n",
    "sns.set(style=\"darkgrid\")\n",
    "#sns.set_palette(\"husl\")\n",
    "fig, axes = plt.subplots(2, 2, figsize=(16,9))\n",
    "fig.suptitle(\"Box Plots to show the min, max, median and quartiles of each variable\", fontsize = 16, fontweight='bold')\n",
    "sns.boxplot( y='Petal.Width', x= 'Species', data=df, orient='v' , ax=axes[0, 0])\n",
    "sns.boxplot( y='Petal.Length', x= 'Species', data=df, orient='v' , ax=axes[0, 1])\n",
    "sns.boxplot( y='Sepal.Length', x= 'Species', data=df, orient='v' , ax=axes[1, 0])\n",
    "sns.boxplot( y='Sepal.Width', x= 'Species', data=df, orient='v' , ax=axes[1, 1])\n",
    "plt.show()"
   ]
  },
  {
   "cell_type": "markdown",
   "id": "841650ae",
   "metadata": {},
   "source": [
    "Now for the second way as per lectures"
   ]
  },
  {
   "cell_type": "code",
   "execution_count": 98,
   "id": "5c636c52",
   "metadata": {
    "scrolled": false
   },
   "outputs": [],
   "source": [
    "with open(\"data/iris.csv\", 'r') as x:\n",
    "    iris_data = list(csv.reader(x, delimiter=\",\"))\n",
    "\n",
    "# Convert to numpy array\n",
    "iris_data = np.array(iris_data)\n",
    "#iris_data"
   ]
  },
  {
   "cell_type": "code",
   "execution_count": 102,
   "id": "f2da1090",
   "metadata": {},
   "outputs": [
    {
     "data": {
      "text/plain": [
       "array(['Sepal.Length', '5.1', '4.9', '4.7', '4.6', '5', '5.4', '4.6', '5',\n",
       "       '4.4', '4.9', '5.4', '4.8', '4.8', '4.3', '5.8', '5.7', '5.4',\n",
       "       '5.1', '5.7', '5.1', '5.4', '5.1', '4.6', '5.1', '4.8', '5', '5',\n",
       "       '5.2', '5.2', '4.7', '4.8', '5.4', '5.2', '5.5', '4.9', '5', '5.5',\n",
       "       '4.9', '4.4', '5.1', '5', '4.5', '4.4', '5', '5.1', '4.8', '5.1',\n",
       "       '4.6', '5.3'], dtype='<U12')"
      ]
     },
     "execution_count": 102,
     "metadata": {},
     "output_type": "execute_result"
    }
   ],
   "source": [
    "# First 50 rows\n",
    "fisher1 = iris_data[0:50, 1]\n",
    "fisher1"
   ]
  },
  {
   "cell_type": "markdown",
   "id": "8d39668e",
   "metadata": {},
   "source": [
    "Below variables are grouped by species"
   ]
  },
  {
   "cell_type": "code",
   "execution_count": 203,
   "id": "7065baae",
   "metadata": {},
   "outputs": [],
   "source": [
    "# Group by variables/species\n",
    "\n",
    "# Sepal Length - Species\n",
    "sepal_length_setosa = iris_data[1:50, 1]\n",
    "sepal_length_versicolor = iris_data[50:100, 1]\n",
    "sepal_length_virginica = iris_data[100:150, 1]\n",
    "\n",
    "# Sepal Width - Species\n",
    "sepal_width_setosa = iris_data[1:50, 2]\n",
    "sepal_width_versicolor = iris_data[50:100, 2]\n",
    "sepal_width_virginica = iris_data[100:150, 2]\n",
    "\n",
    "# Petal Length - Species\n",
    "petal_length_setosa = iris_data[1:50, 3]\n",
    "petal_length_versicolor = iris_data[50:100, 3]\n",
    "petal_length_virginica = iris_data[100:150, 3]\n",
    "\n",
    "# Petal Width - Species\n",
    "petal_width_setosa = iris_data[1:50, 4]\n",
    "petal_width_versicolor = iris_data[50:100, 4]\n",
    "petal_width_virginica = iris_data[100:150, 4]"
   ]
  },
  {
   "cell_type": "markdown",
   "id": "9236d98a",
   "metadata": {},
   "source": [
    "### Sepal Length - Setosa"
   ]
  },
  {
   "cell_type": "code",
   "execution_count": 155,
   "id": "e14c2903",
   "metadata": {},
   "outputs": [
    {
     "data": {
      "text/plain": [
       "array([5.1, 4.9, 4.7, 4.6, 5. , 5.4, 4.6, 5. , 4.4, 4.9, 5.4, 4.8, 4.8,\n",
       "       4.3, 5.8, 5.7, 5.4, 5.1, 5.7, 5.1, 5.4, 5.1, 4.6, 5.1, 4.8, 5. ,\n",
       "       5. , 5.2, 5.2, 4.7, 4.8, 5.4, 5.2, 5.5, 4.9, 5. , 5.5, 4.9, 4.4,\n",
       "       5.1, 5. , 4.5, 4.4, 5. , 5.1, 4.8, 5.1, 4.6, 5.3])"
      ]
     },
     "execution_count": 155,
     "metadata": {},
     "output_type": "execute_result"
    }
   ],
   "source": [
    "# Remove the column header and rename as something that makes sense\n",
    "sepal_length_setosa = sepal_length_setosa.astype(np.float64)\n",
    "sepal_length_setosa\n",
    "#type(sepal_length_setosa)"
   ]
  },
  {
   "cell_type": "code",
   "execution_count": 156,
   "id": "e29c72b6",
   "metadata": {},
   "outputs": [
    {
     "data": {
      "text/plain": [
       "array([4.3, 4.4, 4.4, 4.4, 4.5, 4.6, 4.6, 4.6, 4.6, 4.7, 4.7, 4.8, 4.8,\n",
       "       4.8, 4.8, 4.8, 4.9, 4.9, 4.9, 4.9, 5. , 5. , 5. , 5. , 5. , 5. ,\n",
       "       5. , 5.1, 5.1, 5.1, 5.1, 5.1, 5.1, 5.1, 5.1, 5.2, 5.2, 5.2, 5.3,\n",
       "       5.4, 5.4, 5.4, 5.4, 5.4, 5.5, 5.5, 5.7, 5.7, 5.8])"
      ]
     },
     "execution_count": 156,
     "metadata": {},
     "output_type": "execute_result"
    }
   ],
   "source": [
    "# The sepal length values, but sorted in order.\n",
    "np.sort(sepal_length_setosa)"
   ]
  },
  {
   "cell_type": "code",
   "execution_count": 177,
   "id": "a752b454",
   "metadata": {},
   "outputs": [
    {
     "data": {
      "text/plain": [
       "4.3999999999999995"
      ]
     },
     "execution_count": 177,
     "metadata": {},
     "output_type": "execute_result"
    }
   ],
   "source": [
    "# Calculate mean, median, inter-quartile range, abbreviate as sls_<name>\n",
    "# mean- abbreviate as sls_mean\n",
    "sls_mean = np.mean(sepal_length_setosa)\n",
    "sls_mean\n",
    "\n",
    "# median\n",
    "sls_median = np.median(sepal_length_setosa)\n",
    "\n",
    "# Inter-quartile range.\n",
    "sls_iqr = np.percentile(sepal_length_setosa, 75) - np.percentile(sepal_length_setosa, 25)\n",
    "\n",
    "# Upper Quartile value\n",
    "sls_q3 = np.percentile(sepal_length_setosa, 75)\n",
    "\n",
    "# lower quartile value:\n",
    "sls_q1 = np.percentile(sepal_length_setosa, 25)\n",
    "\n",
    "# Max upper whisker:\n",
    "sls_q3 + sls_iqr\n",
    "\n",
    "# Min lower whisker:\n",
    "sls_q1 - sls_iqr"
   ]
  },
  {
   "cell_type": "markdown",
   "id": "216be0b1",
   "metadata": {},
   "source": [
    "### Sepal Length - Versicolor"
   ]
  },
  {
   "cell_type": "code",
   "execution_count": 160,
   "id": "653deaa4",
   "metadata": {},
   "outputs": [
    {
     "data": {
      "text/plain": [
       "array([4.9, 5. , 5. , 5. , 5.1, 5.2, 5.4, 5.5, 5.5, 5.5, 5.5, 5.5, 5.6,\n",
       "       5.6, 5.6, 5.6, 5.6, 5.7, 5.7, 5.7, 5.7, 5.8, 5.8, 5.8, 5.9, 5.9,\n",
       "       6. , 6. , 6. , 6. , 6.1, 6.1, 6.1, 6.1, 6.2, 6.2, 6.3, 6.3, 6.3,\n",
       "       6.4, 6.4, 6.5, 6.6, 6.6, 6.7, 6.7, 6.7, 6.8, 6.9, 7. ])"
      ]
     },
     "execution_count": 160,
     "metadata": {},
     "output_type": "execute_result"
    }
   ],
   "source": [
    "# Change data type to float\n",
    "sepal_length_versicolor = sepal_length_versicolor.astype(np.float64)\n",
    "#print(type(sepal_length_versicolor))\n",
    "\n",
    "# The sepal length values, but sorted in order.\n",
    "np.sort(sepal_length_versicolor)"
   ]
  },
  {
   "cell_type": "code",
   "execution_count": 162,
   "id": "8b188695",
   "metadata": {},
   "outputs": [
    {
     "data": {
      "text/plain": [
       "4.8999999999999995"
      ]
     },
     "execution_count": 162,
     "metadata": {},
     "output_type": "execute_result"
    }
   ],
   "source": [
    "# Calculate mean, median, inter-quartile range, abbreviate as slve_<name>\n",
    "# mean- abbreviate as slve_mean\n",
    "slve_mean = np.mean(sepal_length_versicolor)\n",
    "\n",
    "# median\n",
    "slve_median = np.median(sepal_length_versicolor)\n",
    "\n",
    "# Inter-quartile range.\n",
    "slve_iqr = np.percentile(sepal_length_versicolor, 75) - np.percentile(sepal_length_versicolor, 25)\n",
    "\n",
    "# Upper Quartile value\n",
    "slve_q3 = np.percentile(sepal_length_versicolor, 75)\n",
    "\n",
    "# lower quartile value:\n",
    "slve_q1 = np.percentile(sepal_length_versicolor, 25)\n",
    "\n",
    "# Max upper whisker:\n",
    "slve_q3 + slve_iqr\n",
    "\n",
    "# Min lower whisker:\n",
    "slve_q1 - slve_iqr"
   ]
  },
  {
   "cell_type": "markdown",
   "id": "81f42b3a",
   "metadata": {},
   "source": [
    "### Sepal Length - Virginica"
   ]
  },
  {
   "cell_type": "code",
   "execution_count": 163,
   "id": "87b337bd",
   "metadata": {},
   "outputs": [
    {
     "data": {
      "text/plain": [
       "array([4.9, 5.6, 5.7, 5.7, 5.8, 5.8, 5.8, 6. , 6. , 6.1, 6.1, 6.2, 6.2,\n",
       "       6.3, 6.3, 6.3, 6.3, 6.3, 6.3, 6.4, 6.4, 6.4, 6.4, 6.4, 6.5, 6.5,\n",
       "       6.5, 6.5, 6.7, 6.7, 6.7, 6.7, 6.7, 6.8, 6.8, 6.9, 6.9, 6.9, 7.1,\n",
       "       7.2, 7.2, 7.2, 7.3, 7.4, 7.6, 7.7, 7.7, 7.7, 7.7, 7.9])"
      ]
     },
     "execution_count": 163,
     "metadata": {},
     "output_type": "execute_result"
    }
   ],
   "source": [
    "# Change data type to float\n",
    "sepal_length_virginica = sepal_length_virginica.astype(np.float64)\n",
    "\n",
    "# The sepal length values, but sorted in order.\n",
    "np.sort(sepal_length_virginica)"
   ]
  },
  {
   "cell_type": "code",
   "execution_count": 164,
   "id": "568db6b6",
   "metadata": {},
   "outputs": [
    {
     "data": {
      "text/plain": [
       "5.549999999999999"
      ]
     },
     "execution_count": 164,
     "metadata": {},
     "output_type": "execute_result"
    }
   ],
   "source": [
    "# Calculate mean, median, inter-quartile range, abbreviate as slvi_<name>\n",
    "# mean- abbreviate as slvi_mean\n",
    "\n",
    "slvi_mean = np.mean(sepal_length_virginica)\n",
    "\n",
    "# median\n",
    "slvi_median = np.median(sepal_length_virginica)\n",
    "\n",
    "# Inter-quartile range.\n",
    "slvi_iqr = np.percentile(sepal_length_virginica, 75) - np.percentile(sepal_length_virginica, 25)\n",
    "\n",
    "# Upper Quartile value\n",
    "slvi_q3 = np.percentile(sepal_length_virginica, 75)\n",
    "\n",
    "# lower quartile value:\n",
    "slvi_q1 = np.percentile(sepal_length_virginica, 25)\n",
    "\n",
    "# Max upper whisker:\n",
    "slvi_q3 + slvi_iqr\n",
    "\n",
    "# Min lower whisker:\n",
    "slvi_q1 - slvi_iqr"
   ]
  },
  {
   "cell_type": "markdown",
   "id": "ce14b244",
   "metadata": {},
   "source": [
    "## Box plots of the sepal lengths of the three species"
   ]
  },
  {
   "cell_type": "code",
   "execution_count": 178,
   "id": "38572c48",
   "metadata": {},
   "outputs": [
    {
     "data": {
      "image/png": "[encoded data removed]",
      "text/plain": [
       "<Figure size 1000x600 with 1 Axes>"
      ]
     },
     "metadata": {},
     "output_type": "display_data"
    }
   ],
   "source": [
    "# Another way to plot the box plots \n",
    "data1 = [sepal_length_setosa, sepal_length_versicolor, sepal_length_virginica]\n",
    "\n",
    "# Bigger plot\n",
    "fig = plt.figure(figsize = (10, 6))\n",
    " \n",
    "# Creating axes instance\n",
    "ax = fig.add_axes([0, 0, 1, 1])\n",
    "\n",
    "# Add the data for Sepal Length, Setosa:\n",
    "ax.plot([1.0, 1.0], [sls_q1 - sls_iqr, sls_q3 + sls_iqr], 'bx')\n",
    "\n",
    "# Add the data for Sepal Length, Versicolor:\n",
    "ax.plot([2.0, 2.0], [slve_q1 - slve_iqr, slve_q3 + slve_iqr], 'bx')\n",
    "\n",
    "# Add the data for Sepal Length, Virginica:\n",
    "ax.plot([3.0, 3.0], [slvi_q1 - slvi_iqr, slvi_q3 + slvi_iqr], 'bx')\n",
    "\n",
    "# Creating plot\n",
    "irs_bp = ax.boxplot(data1)\n",
    "\n",
    "# Title\n",
    "ax.set_title('Sepal Length of the three species')\n",
    "\n",
    "plt.xticks([1, 2, 3], [\"Setosa\", \"Versicolor\", \"Virginica\"])\n",
    "# show plot\n",
    "plt.show()"
   ]
  },
  {
   "cell_type": "markdown",
   "id": "54746599",
   "metadata": {},
   "source": [
    "### Sepal Width - Setosa\n"
   ]
  },
  {
   "cell_type": "code",
   "execution_count": 220,
   "id": "cfa42f76",
   "metadata": {},
   "outputs": [
    {
     "data": {
      "text/plain": [
       "array([2.3, 2.9, 3. , 3. , 3. , 3. , 3. , 3. , 3.1, 3.1, 3.1, 3.1, 3.2,\n",
       "       3.2, 3.2, 3.2, 3.2, 3.3, 3.4, 3.4, 3.4, 3.4, 3.4, 3.4, 3.4, 3.4,\n",
       "       3.4, 3.5, 3.5, 3.5, 3.5, 3.5, 3.5, 3.6, 3.6, 3.6, 3.7, 3.7, 3.7,\n",
       "       3.8, 3.8, 3.8, 3.8, 3.9, 3.9, 4. , 4.1, 4.2, 4.4])"
      ]
     },
     "execution_count": 220,
     "metadata": {},
     "output_type": "execute_result"
    }
   ],
   "source": [
    "# Change data type to float\n",
    "sepal_width_setosa = sepal_width_setosa.astype(np.float64)\n",
    "\n",
    "# The sepal width values, but sorted in order.\n",
    "np.sort(sepal_width_setosa)"
   ]
  },
  {
   "cell_type": "code",
   "execution_count": 221,
   "id": "42e9c39a",
   "metadata": {},
   "outputs": [
    {
     "data": {
      "text/plain": [
       "2.7"
      ]
     },
     "execution_count": 221,
     "metadata": {},
     "output_type": "execute_result"
    }
   ],
   "source": [
    "# Calculate mean, median, inter-quartile range, abbreviate as sws_<name>\n",
    "# mean- abbreviate as sws_mean\n",
    "sws_mean = np.mean(sepal_width_setosa)\n",
    "\n",
    "# median\n",
    "sws_median = np.median(sepal_width_setosa)\n",
    "\n",
    "# Inter-quartile range.\n",
    "sws_iqr = np.percentile(sepal_width_setosa, 75) - np.percentile(sepal_width_setosa, 25)\n",
    "\n",
    "# Upper Quartile value\n",
    "sws_q3 = np.percentile(sepal_width_setosa, 75)\n",
    "\n",
    "# lower quartile value:\n",
    "sws_q1 = np.percentile(sepal_width_setosa, 25)\n",
    "\n",
    "# Max upper whisker:\n",
    "sws_q3 + sws_iqr\n",
    "\n",
    "# Min lower whisker:\n",
    "sws_q1 - sws_iqr"
   ]
  },
  {
   "cell_type": "markdown",
   "id": "109e804e",
   "metadata": {},
   "source": [
    "### Sepal Width - Versicolor"
   ]
  },
  {
   "cell_type": "code",
   "execution_count": 222,
   "id": "2c8e3481",
   "metadata": {},
   "outputs": [
    {
     "data": {
      "text/plain": [
       "array([2. , 2.2, 2.2, 2.3, 2.3, 2.3, 2.4, 2.4, 2.4, 2.5, 2.5, 2.5, 2.5,\n",
       "       2.6, 2.6, 2.6, 2.7, 2.7, 2.7, 2.7, 2.7, 2.8, 2.8, 2.8, 2.8, 2.8,\n",
       "       2.9, 2.9, 2.9, 2.9, 2.9, 2.9, 2.9, 3. , 3. , 3. , 3. , 3. , 3. ,\n",
       "       3. , 3. , 3.1, 3.1, 3.1, 3.2, 3.2, 3.2, 3.3, 3.3, 3.4])"
      ]
     },
     "execution_count": 222,
     "metadata": {},
     "output_type": "execute_result"
    }
   ],
   "source": [
    "# Change data type to float\n",
    "sepal_width_versicolor = sepal_width_versicolor.astype(np.float64)\n",
    "\n",
    "# The sepal width values, but sorted in order.\n",
    "np.sort(sepal_width_versicolor)"
   ]
  },
  {
   "cell_type": "code",
   "execution_count": 223,
   "id": "910b9285",
   "metadata": {},
   "outputs": [
    {
     "data": {
      "text/plain": [
       "2.05"
      ]
     },
     "execution_count": 223,
     "metadata": {},
     "output_type": "execute_result"
    }
   ],
   "source": [
    "# Calculate mean, median, inter-quartile range, abbreviate as swv_<name>\n",
    "# mean- abbreviate as swv_mean\n",
    "swv_mean = np.mean(sepal_width_versicolor)\n",
    "\n",
    "# median\n",
    "swv_median = np.median(sepal_width_versicolor)\n",
    "\n",
    "# Inter-quartile range.\n",
    "swv_iqr = np.percentile(sepal_width_versicolor, 75) - np.percentile(sepal_width_versicolor, 25)\n",
    "\n",
    "# Upper Quartile value\n",
    "swv_q3 = np.percentile(sepal_width_versicolor, 75)\n",
    "\n",
    "# lower quartile value:\n",
    "swv_q1 = np.percentile(sepal_width_versicolor, 25)\n",
    "\n",
    "# Max upper whisker:\n",
    "swv_q3 + swv_iqr\n",
    "\n",
    "# Min lower whisker:\n",
    "swv_q1 - swv_iqr"
   ]
  },
  {
   "cell_type": "markdown",
   "id": "fe99cbf8",
   "metadata": {},
   "source": [
    "### Sepal Width - Virginica"
   ]
  },
  {
   "cell_type": "code",
   "execution_count": 224,
   "id": "78d9b56e",
   "metadata": {},
   "outputs": [
    {
     "data": {
      "text/plain": [
       "array([2.2, 2.5, 2.5, 2.5, 2.5, 2.6, 2.6, 2.7, 2.7, 2.7, 2.7, 2.8, 2.8,\n",
       "       2.8, 2.8, 2.8, 2.8, 2.8, 2.8, 2.8, 2.9, 2.9, 3. , 3. , 3. , 3. ,\n",
       "       3. , 3. , 3. , 3. , 3. , 3. , 3. , 3.1, 3.1, 3.1, 3.1, 3.2, 3.2,\n",
       "       3.2, 3.2, 3.2, 3.3, 3.3, 3.3, 3.4, 3.4, 3.6, 3.8, 3.8])"
      ]
     },
     "execution_count": 224,
     "metadata": {},
     "output_type": "execute_result"
    }
   ],
   "source": [
    "# Change data type to float\n",
    "sepal_width_virginica = sepal_width_virginica.astype(np.float64)\n",
    "\n",
    "# The sepal width values, but sorted in order.\n",
    "np.sort(sepal_width_virginica)"
   ]
  },
  {
   "cell_type": "code",
   "execution_count": 225,
   "id": "7a67dfe3",
   "metadata": {},
   "outputs": [
    {
     "data": {
      "text/plain": [
       "2.4249999999999994"
      ]
     },
     "execution_count": 225,
     "metadata": {},
     "output_type": "execute_result"
    }
   ],
   "source": [
    "# Calculate mean, median, inter-quartile range, abbreviate as swvi_<name>\n",
    "# mean- abbreviate as swvi_mean\n",
    "swvi_mean = np.mean(sepal_width_virginica)\n",
    "\n",
    "# median\n",
    "swvi_median = np.median(sepal_width_virginica)\n",
    "\n",
    "# Inter-quartile range.\n",
    "swvi_iqr = np.percentile(sepal_width_virginica, 75) - np.percentile(sepal_width_virginica, 25)\n",
    "\n",
    "# Upper Quartile value\n",
    "swvi_q3 = np.percentile(sepal_width_virginica, 75)\n",
    "\n",
    "# lower quartile value:\n",
    "swvi_q1 = np.percentile(sepal_width_virginica, 25)\n",
    "\n",
    "# Max upper whisker:\n",
    "swvi_q3 + swvi_iqr\n",
    "\n",
    "# Min lower whisker:\n",
    "swvi_q1 - swvi_iqr"
   ]
  },
  {
   "cell_type": "markdown",
   "id": "9f192b83",
   "metadata": {},
   "source": [
    "## Box plots of the sepal widths of the three species"
   ]
  },
  {
   "cell_type": "code",
   "execution_count": 226,
   "id": "d82b4be0",
   "metadata": {},
   "outputs": [
    {
     "data": {
      "image/png": "[encoded data removed]",
      "text/plain": [
       "<Figure size 1000x600 with 1 Axes>"
      ]
     },
     "metadata": {},
     "output_type": "display_data"
    }
   ],
   "source": [
    "# Another way to plot the box plots \n",
    "data2 = [sepal_width_setosa, sepal_width_versicolor, sepal_width_virginica]\n",
    "\n",
    "# Bigger plot\n",
    "fig = plt.figure(figsize = (10, 6))\n",
    " \n",
    "# Creating axes instance\n",
    "ax = fig.add_axes([0, 0, 1, 1])\n",
    "\n",
    "# Add the data for Sepal Width, Setosa:\n",
    "ax.plot([1.0, 1.0], [sws_q1 - sws_iqr, sws_q3 + sws_iqr], 'bx')\n",
    "\n",
    "# Add the data for Sepal Width, Versicolor:\n",
    "ax.plot([2.0, 2.0], [swv_q1 - swv_iqr, swv_q3 + swv_iqr], 'bx')\n",
    "\n",
    "# Add the data for Sepal Length, Virginica:\n",
    "ax.plot([3.0, 3.0], [swvi_q1 - swvi_iqr, swvi_q3 + swvi_iqr], 'bx')\n",
    "\n",
    "# Creating plot\n",
    "irs_bp = ax.boxplot(data2)\n",
    "\n",
    "# Title\n",
    "ax.set_title('Sepal Width of the three species')\n",
    "\n",
    "plt.xticks([1, 2, 3], [\"Setosa\", \"Versicolor\", \"Virginica\"])\n",
    "# show plot\n",
    "plt.show()"
   ]
  },
  {
   "cell_type": "markdown",
   "id": "75110976",
   "metadata": {},
   "source": [
    "### Petal Length - Setosa"
   ]
  },
  {
   "cell_type": "code",
   "execution_count": 227,
   "id": "31667479",
   "metadata": {},
   "outputs": [
    {
     "data": {
      "text/plain": [
       "array([1. , 1.1, 1.2, 1.2, 1.3, 1.3, 1.3, 1.3, 1.3, 1.3, 1.3, 1.4, 1.4,\n",
       "       1.4, 1.4, 1.4, 1.4, 1.4, 1.4, 1.4, 1.4, 1.4, 1.4, 1.5, 1.5, 1.5,\n",
       "       1.5, 1.5, 1.5, 1.5, 1.5, 1.5, 1.5, 1.5, 1.5, 1.5, 1.6, 1.6, 1.6,\n",
       "       1.6, 1.6, 1.6, 1.6, 1.7, 1.7, 1.7, 1.7, 1.9, 1.9])"
      ]
     },
     "execution_count": 227,
     "metadata": {},
     "output_type": "execute_result"
    }
   ],
   "source": [
    "# Change data type to float\n",
    "petal_length_setosa = petal_length_setosa.astype(np.float64)\n",
    "\n",
    "# The sepal width values, but sorted in order.\n",
    "np.sort(petal_length_setosa)"
   ]
  },
  {
   "cell_type": "code",
   "execution_count": 228,
   "id": "81b862da",
   "metadata": {},
   "outputs": [
    {
     "data": {
      "text/plain": [
       "1.1999999999999997"
      ]
     },
     "execution_count": 228,
     "metadata": {},
     "output_type": "execute_result"
    }
   ],
   "source": [
    "# Calculate mean, median, inter-quartile range, abbreviate as pls_<name>\n",
    "# mean- abbreviate as pls_mean\n",
    "pls_mean = np.mean(petal_length_setosa)\n",
    "\n",
    "# median\n",
    "pls_median = np.median(petal_length_setosa)\n",
    "\n",
    "# Inter-quartile range.\n",
    "pls_iqr = np.percentile(petal_length_setosa, 75) - np.percentile(petal_length_setosa, 25)\n",
    "\n",
    "# Upper Quartile value\n",
    "pls_q3 = np.percentile(petal_length_setosa, 75)\n",
    "\n",
    "# lower quartile value:\n",
    "pls_q1 = np.percentile(petal_length_setosa, 25)\n",
    "\n",
    "# Max upper whisker:\n",
    "pls_q3 + pls_iqr\n",
    "\n",
    "# Min lower whisker:\n",
    "pls_q1 - pls_iqr"
   ]
  },
  {
   "cell_type": "markdown",
   "id": "9884868a",
   "metadata": {},
   "source": [
    "### Petal Length - Versicolor"
   ]
  },
  {
   "cell_type": "code",
   "execution_count": 229,
   "id": "2738713a",
   "metadata": {},
   "outputs": [
    {
     "data": {
      "text/plain": [
       "array([1.4, 3. , 3.3, 3.3, 3.5, 3.5, 3.6, 3.7, 3.8, 3.9, 3.9, 3.9, 4. ,\n",
       "       4. , 4. , 4. , 4. , 4.1, 4.1, 4.2, 4.2, 4.2, 4.2, 4.3, 4.3, 4.4,\n",
       "       4.4, 4.4, 4.4, 4.5, 4.5, 4.5, 4.5, 4.5, 4.5, 4.5, 4.6, 4.6, 4.6,\n",
       "       4.7, 4.7, 4.7, 4.7, 4.7, 4.8, 4.8, 4.9, 4.9, 5. , 5.1])"
      ]
     },
     "execution_count": 229,
     "metadata": {},
     "output_type": "execute_result"
    }
   ],
   "source": [
    "# Change data type to float\n",
    "petal_length_versicolor = petal_length_versicolor.astype(np.float64)\n",
    "\n",
    "# The sepal width values, but sorted in order.\n",
    "np.sort(petal_length_versicolor)"
   ]
  },
  {
   "cell_type": "code",
   "execution_count": 230,
   "id": "9a5f916e",
   "metadata": {},
   "outputs": [
    {
     "data": {
      "text/plain": [
       "3.4000000000000004"
      ]
     },
     "execution_count": 230,
     "metadata": {},
     "output_type": "execute_result"
    }
   ],
   "source": [
    "# Calculate mean, median, inter-quartile range, abbreviate as plv_<name>\n",
    "# mean- abbreviate as plv_mean\n",
    "plv_mean = np.mean(petal_length_versicolor)\n",
    "\n",
    "# median\n",
    "plv_median = np.median(petal_length_versicolor)\n",
    "\n",
    "# Inter-quartile range.\n",
    "plv_iqr = np.percentile(petal_length_versicolor, 75) - np.percentile(petal_length_versicolor, 25)\n",
    "\n",
    "# Upper Quartile value\n",
    "plv_q3 = np.percentile(petal_length_versicolor, 75)\n",
    "\n",
    "# lower quartile value:\n",
    "plv_q1 = np.percentile(petal_length_versicolor, 25)\n",
    "\n",
    "# Max upper whisker:\n",
    "plv_q3 + plv_iqr\n",
    "\n",
    "# Min lower whisker:\n",
    "plv_q1 - plv_iqr"
   ]
  },
  {
   "cell_type": "markdown",
   "id": "9431b0d5",
   "metadata": {},
   "source": [
    "### Petal Length - Virginica"
   ]
  },
  {
   "cell_type": "code",
   "execution_count": 231,
   "id": "e9b5ef04",
   "metadata": {},
   "outputs": [
    {
     "data": {
      "text/plain": [
       "array([4.1, 4.5, 4.8, 4.8, 4.9, 4.9, 4.9, 5. , 5. , 5. , 5.1, 5.1, 5.1,\n",
       "       5.1, 5.1, 5.1, 5.2, 5.2, 5.3, 5.3, 5.4, 5.4, 5.5, 5.5, 5.5, 5.6,\n",
       "       5.6, 5.6, 5.6, 5.6, 5.6, 5.7, 5.7, 5.7, 5.8, 5.8, 5.8, 5.9, 5.9,\n",
       "       6. , 6. , 6.1, 6.1, 6.1, 6.3, 6.4, 6.6, 6.7, 6.7, 6.9])"
      ]
     },
     "execution_count": 231,
     "metadata": {},
     "output_type": "execute_result"
    }
   ],
   "source": [
    "# Change data type to float\n",
    "petal_length_virginica = petal_length_virginica.astype(np.float64)\n",
    "\n",
    "# The sepal width values, but sorted in order.\n",
    "np.sort(petal_length_virginica)"
   ]
  },
  {
   "cell_type": "code",
   "execution_count": 232,
   "id": "b07f26f5",
   "metadata": {},
   "outputs": [
    {
     "data": {
      "text/plain": [
       "4.324999999999999"
      ]
     },
     "execution_count": 232,
     "metadata": {},
     "output_type": "execute_result"
    }
   ],
   "source": [
    "# Calculate mean, median, inter-quartile range, abbreviate as plvi_<name>\n",
    "# mean- abbreviate as plvi_mean\n",
    "plvi_mean = np.mean(petal_length_virginica)\n",
    "\n",
    "# median\n",
    "plvi_median = np.median(petal_length_virginica)\n",
    "\n",
    "# Inter-quartile range.\n",
    "plvi_iqr = np.percentile(petal_length_virginica, 75) - np.percentile(petal_length_virginica, 25)\n",
    "\n",
    "# Upper Quartile value\n",
    "plvi_q3 = np.percentile(petal_length_virginica, 75)\n",
    "\n",
    "# lower quartile value:\n",
    "plvi_q1 = np.percentile(petal_length_virginica, 25)\n",
    "\n",
    "# Max upper whisker:\n",
    "plvi_q3 + plvi_iqr\n",
    "\n",
    "# Min lower whisker:\n",
    "plvi_q1 - plvi_iqr"
   ]
  },
  {
   "cell_type": "markdown",
   "id": "5ca95c12",
   "metadata": {},
   "source": [
    "### Box plots of the petal lengths of the three species"
   ]
  },
  {
   "cell_type": "code",
   "execution_count": 233,
   "id": "bb37e897",
   "metadata": {},
   "outputs": [
    {
     "data": {
      "image/png": "[encoded data removed]",
      "text/plain": [
       "<Figure size 1000x600 with 1 Axes>"
      ]
     },
     "metadata": {},
     "output_type": "display_data"
    }
   ],
   "source": [
    "# Another way to plot the box plots \n",
    "data3 = [petal_length_setosa, petal_length_versicolor, petal_length_virginica]\n",
    "\n",
    "# Bigger plot\n",
    "fig = plt.figure(figsize = (10, 6))\n",
    " \n",
    "# Creating axes instance\n",
    "ax = fig.add_axes([0, 0, 1, 1])\n",
    "\n",
    "# Add the data for Sepal Width, Setosa:\n",
    "ax.plot([1.0, 1.0], [pls_q1 - pls_iqr, pls_q3 + pls_iqr], 'bx')\n",
    "\n",
    "# Add the data for Sepal Width, Versicolor:\n",
    "ax.plot([2.0, 2.0], [plv_q1 - plv_iqr, plv_q3 + plv_iqr], 'bx')\n",
    "\n",
    "# Add the data for Sepal Length, Virginica:\n",
    "ax.plot([3.0, 3.0], [plvi_q1 - plvi_iqr, plvi_q3 + plvi_iqr], 'bx')\n",
    "\n",
    "# Creating plot\n",
    "irs_bp = ax.boxplot(data3)\n",
    "\n",
    "# Title\n",
    "ax.set_title('Petal Length of the three species')\n",
    "\n",
    "plt.xticks([1, 2, 3], [\"Setosa\", \"Versicolor\", \"Virginica\"])\n",
    "# show plot\n",
    "plt.show()"
   ]
  },
  {
   "cell_type": "markdown",
   "id": "83cfe632",
   "metadata": {},
   "source": [
    "### Petal Width - Setosa"
   ]
  },
  {
   "cell_type": "code",
   "execution_count": 234,
   "id": "d91e8e1f",
   "metadata": {},
   "outputs": [
    {
     "data": {
      "text/plain": [
       "array([0.1, 0.1, 0.1, 0.1, 0.1, 0.2, 0.2, 0.2, 0.2, 0.2, 0.2, 0.2, 0.2,\n",
       "       0.2, 0.2, 0.2, 0.2, 0.2, 0.2, 0.2, 0.2, 0.2, 0.2, 0.2, 0.2, 0.2,\n",
       "       0.2, 0.2, 0.2, 0.2, 0.2, 0.2, 0.2, 0.3, 0.3, 0.3, 0.3, 0.3, 0.3,\n",
       "       0.3, 0.4, 0.4, 0.4, 0.4, 0.4, 0.4, 0.4, 0.5, 0.6])"
      ]
     },
     "execution_count": 234,
     "metadata": {},
     "output_type": "execute_result"
    }
   ],
   "source": [
    "# Change data type to float\n",
    "petal_width_setosa = petal_width_setosa.astype(np.float64)\n",
    "\n",
    "# The sepal width values, but sorted in order.\n",
    "np.sort(petal_width_setosa)"
   ]
  },
  {
   "cell_type": "code",
   "execution_count": 235,
   "id": "95693fcd",
   "metadata": {},
   "outputs": [
    {
     "data": {
      "text/plain": [
       "0.10000000000000003"
      ]
     },
     "execution_count": 235,
     "metadata": {},
     "output_type": "execute_result"
    }
   ],
   "source": [
    "# Calculate mean, median, inter-quartile range, abbreviate as pws_<name>\n",
    "# mean- abbreviate as plvi_mean\n",
    "pws_mean = np.mean(petal_width_setosa)\n",
    "\n",
    "# median\n",
    "pws_median = np.median(petal_width_setosa)\n",
    "\n",
    "# Inter-quartile range.\n",
    "pws_iqr = np.percentile(petal_width_setosa, 75) - np.percentile(petal_width_setosa, 25)\n",
    "\n",
    "# Upper Quartile value\n",
    "pws_q3 = np.percentile(petal_width_setosa, 75)\n",
    "\n",
    "# lower quartile value:\n",
    "pws_q1 = np.percentile(petal_width_setosa, 25)\n",
    "\n",
    "# Max upper whisker:\n",
    "pws_q3 + pws_iqr\n",
    "\n",
    "# Min lower whisker:\n",
    "pws_q1 - pws_iqr"
   ]
  },
  {
   "cell_type": "markdown",
   "id": "e4a4a984",
   "metadata": {},
   "source": [
    "### Petal Width - Versicolor"
   ]
  },
  {
   "cell_type": "code",
   "execution_count": 236,
   "id": "fd9c4be4",
   "metadata": {},
   "outputs": [
    {
     "data": {
      "text/plain": [
       "array([0.2, 1. , 1. , 1. , 1. , 1. , 1. , 1. , 1.1, 1.1, 1.1, 1.2, 1.2,\n",
       "       1.2, 1.2, 1.2, 1.3, 1.3, 1.3, 1.3, 1.3, 1.3, 1.3, 1.3, 1.3, 1.3,\n",
       "       1.3, 1.3, 1.4, 1.4, 1.4, 1.4, 1.4, 1.4, 1.4, 1.5, 1.5, 1.5, 1.5,\n",
       "       1.5, 1.5, 1.5, 1.5, 1.5, 1.5, 1.6, 1.6, 1.6, 1.7, 1.8])"
      ]
     },
     "execution_count": 236,
     "metadata": {},
     "output_type": "execute_result"
    }
   ],
   "source": [
    "# Change data type to float\n",
    "petal_width_versicolor = petal_width_versicolor.astype(np.float64)\n",
    "\n",
    "# The sepal width values, but sorted in order.\n",
    "np.sort(petal_width_versicolor)"
   ]
  },
  {
   "cell_type": "code",
   "execution_count": 237,
   "id": "67360af8",
   "metadata": {},
   "outputs": [
    {
     "data": {
      "text/plain": [
       "0.8999999999999999"
      ]
     },
     "execution_count": 237,
     "metadata": {},
     "output_type": "execute_result"
    }
   ],
   "source": [
    "# Calculate mean, median, inter-quartile range, abbreviate as pwv_<name>\n",
    "# mean- abbreviate as pwv_mean\n",
    "pwv_mean = np.mean(petal_width_versicolor)\n",
    "\n",
    "# median\n",
    "pwv_median = np.median(petal_width_versicolor)\n",
    "\n",
    "# Inter-quartile range.\n",
    "pwv_iqr = np.percentile(petal_width_versicolor, 75) - np.percentile(petal_width_versicolor, 25)\n",
    "\n",
    "# Upper Quartile value\n",
    "pwv_q3 = np.percentile(petal_width_versicolor, 75)\n",
    "\n",
    "# lower quartile value:\n",
    "pwv_q1 = np.percentile(petal_width_versicolor, 25)\n",
    "\n",
    "# Max upper whisker:\n",
    "pwv_q3 + pwv_iqr\n",
    "\n",
    "# Min lower whisker:\n",
    "pwv_q1 - pwv_iqr"
   ]
  },
  {
   "cell_type": "markdown",
   "id": "e230a963",
   "metadata": {},
   "source": [
    "### Petal Width - Virginica"
   ]
  },
  {
   "cell_type": "code",
   "execution_count": 238,
   "id": "6fac5a6b",
   "metadata": {},
   "outputs": [
    {
     "data": {
      "text/plain": [
       "array([1.3, 1.4, 1.5, 1.5, 1.6, 1.7, 1.8, 1.8, 1.8, 1.8, 1.8, 1.8, 1.8,\n",
       "       1.8, 1.8, 1.8, 1.9, 1.9, 1.9, 1.9, 1.9, 2. , 2. , 2. , 2. , 2. ,\n",
       "       2. , 2.1, 2.1, 2.1, 2.1, 2.1, 2.1, 2.2, 2.2, 2.2, 2.3, 2.3, 2.3,\n",
       "       2.3, 2.3, 2.3, 2.3, 2.3, 2.4, 2.4, 2.4, 2.5, 2.5, 2.5])"
      ]
     },
     "execution_count": 238,
     "metadata": {},
     "output_type": "execute_result"
    }
   ],
   "source": [
    "# Change data type to float\n",
    "petal_width_virginica = petal_width_virginica.astype(np.float64)\n",
    "\n",
    "# The sepal width values, but sorted in order.\n",
    "np.sort(petal_width_virginica)"
   ]
  },
  {
   "cell_type": "code",
   "execution_count": 239,
   "id": "5e2e572e",
   "metadata": {},
   "outputs": [
    {
     "data": {
      "text/plain": [
       "1.3000000000000003"
      ]
     },
     "execution_count": 239,
     "metadata": {},
     "output_type": "execute_result"
    }
   ],
   "source": [
    "# Calculate mean, median, inter-quartile range, abbreviate as pwvi_<name>\n",
    "# mean- abbreviate as pwvi_mean\n",
    "pwvi_mean = np.mean(petal_width_virginica)\n",
    "\n",
    "# median\n",
    "pwvi_median = np.median(petal_width_virginica)\n",
    "\n",
    "# Inter-quartile range.\n",
    "pwvi_iqr = np.percentile(petal_width_virginica, 75) - np.percentile(petal_width_virginica, 25)\n",
    "\n",
    "# Upper Quartile value\n",
    "pwvi_q3 = np.percentile(petal_width_virginica, 75)\n",
    "\n",
    "# lower quartile value:\n",
    "pwvi_q1 = np.percentile(petal_width_virginica, 25)\n",
    "\n",
    "# Max upper whisker:\n",
    "pwvi_q3 + pwvi_iqr\n",
    "\n",
    "# Min lower whisker:\n",
    "pwvi_q1 - pwvi_iqr"
   ]
  },
  {
   "cell_type": "markdown",
   "id": "df12adbf",
   "metadata": {},
   "source": [
    "### Box plots of petal widths of the three species"
   ]
  },
  {
   "cell_type": "code",
   "execution_count": 240,
   "id": "80c2262f",
   "metadata": {},
   "outputs": [
    {
     "data": {
      "image/png": "[encoded data removed]",
      "text/plain": [
       "<Figure size 1000x600 with 1 Axes>"
      ]
     },
     "metadata": {},
     "output_type": "display_data"
    }
   ],
   "source": [
    "# Another way to plot the box plots \n",
    "data4 = [petal_width_setosa, petal_width_versicolor, petal_width_virginica]\n",
    "\n",
    "# Bigger plot\n",
    "fig = plt.figure(figsize = (10, 6))\n",
    " \n",
    "# Creating axes instance\n",
    "ax = fig.add_axes([0, 0, 1, 1])\n",
    "\n",
    "# Add the data for Sepal Width, Setosa:\n",
    "ax.plot([1.0, 1.0], [pws_q1 - pws_iqr, pws_q3 + pws_iqr], 'bx')\n",
    "\n",
    "# Add the data for Sepal Width, Versicolor:\n",
    "ax.plot([2.0, 2.0], [pwv_q1 - pwv_iqr, pwv_q3 + pwv_iqr], 'bx')\n",
    "\n",
    "# Add the data for Sepal Length, Virginica:\n",
    "ax.plot([3.0, 3.0], [pwvi_q1 - pwvi_iqr, pwvi_q3 + pwvi_iqr], 'bx')\n",
    "\n",
    "# Creating plot\n",
    "irs_bp = ax.boxplot(data4)\n",
    "\n",
    "# Title\n",
    "ax.set_title('Petal Width of the three species')\n",
    "\n",
    "plt.xticks([1, 2, 3], [\"Setosa\", \"Versicolor\", \"Virginica\"])\n",
    "# show plot\n",
    "plt.show()"
   ]
  },
  {
   "cell_type": "code",
   "execution_count": null,
   "id": "28a04f63",
   "metadata": {},
   "outputs": [],
   "source": []
  },
  {
   "cell_type": "code",
   "execution_count": null,
   "id": "c722498a",
   "metadata": {},
   "outputs": [],
   "source": []
  },
  {
   "cell_type": "markdown",
   "id": "a28cc6a4",
   "metadata": {},
   "source": [
    "## Exercise 3 - Simpson's Paradox\n",
    "\n",
    "Adapt the code from the lecture and plots so that the overall plot is inversely propertional and the individual groups are directly proportional."
   ]
  },
  {
   "cell_type": "markdown",
   "id": "46be61f9",
   "metadata": {},
   "source": [
    "As a straight line can be expressed by:\n",
    "$$y = mx + c$$\n",
    "A negative gradient is needed (negative m)"
   ]
  },
  {
   "cell_type": "code",
   "execution_count": 259,
   "id": "1e1db690",
   "metadata": {},
   "outputs": [],
   "source": [
    "# Create a series of x vectors.\n",
    "xs = np.array([np.linspace(i, i + 2.0, 20) for i in range(10)])\n"
   ]
  },
  {
   "cell_type": "code",
   "execution_count": 303,
   "id": "38bb6e31",
   "metadata": {},
   "outputs": [],
   "source": [
    "import math\n",
    "# Create a corresponding series of y vectors.\n",
    "ys = np.array([1.0 * xs[i] - 2 * i for i in range(len(xs))])\n",
    "\n",
    "# Add some noise.\n",
    "ys = ys + np.random.normal(0.0, 1.0, ys.shape)"
   ]
  },
  {
   "cell_type": "code",
   "execution_count": 304,
   "id": "b589529f",
   "metadata": {},
   "outputs": [],
   "source": [
    "# Create global list of x and y values.\n",
    "x = xs.flatten()\n",
    "y = ys.flatten()"
   ]
  },
  {
   "cell_type": "code",
   "execution_count": 305,
   "id": "ced319b5",
   "metadata": {},
   "outputs": [
    {
     "data": {
      "image/png": "[encoded data removed]",
      "text/plain": [
       "<Figure size 640x480 with 1 Axes>"
      ]
     },
     "metadata": {},
     "output_type": "display_data"
    }
   ],
   "source": [
    "# Plot.\n",
    "plt.plot(x, y, '.');"
   ]
  },
  {
   "cell_type": "markdown",
   "id": "89c4f648",
   "metadata": {},
   "source": [
    "### Best Fit line"
   ]
  },
  {
   "cell_type": "markdown",
   "id": "e865ec01",
   "metadata": {},
   "source": [
    "Draw a line of best fit for the above data."
   ]
  },
  {
   "cell_type": "code",
   "execution_count": 306,
   "id": "fd40dc1e",
   "metadata": {},
   "outputs": [],
   "source": [
    "# Best fit line slope and y intercept.\n",
    "m, c = np.polyfit(x, y, 1)"
   ]
  },
  {
   "cell_type": "code",
   "execution_count": 307,
   "id": "4405d18a",
   "metadata": {},
   "outputs": [],
   "source": [
    "# Create a steadily increasing x range for plotting.\n",
    "xbestfit = np.linspace(x.min(), x.max(), 1000)\n",
    "# Create corresponding y values form best fit line.\n",
    "ybestfit = m * xbestfit + c"
   ]
  },
  {
   "cell_type": "code",
   "execution_count": 308,
   "id": "60b325b6",
   "metadata": {},
   "outputs": [
    {
     "data": {
      "image/png": "[encoded data removed]",
      "text/plain": [
       "<Figure size 640x480 with 1 Axes>"
      ]
     },
     "metadata": {},
     "output_type": "display_data"
    }
   ],
   "source": [
    "# Plot points.\n",
    "plt.plot(x, y, '.')\n",
    "\n",
    "# Plot line.\n",
    "plt.plot(xbestfit, ybestfit);"
   ]
  },
  {
   "cell_type": "markdown",
   "id": "11a530c0",
   "metadata": {},
   "source": [
    "Add colours to see each range of numbers"
   ]
  },
  {
   "cell_type": "code",
   "execution_count": 309,
   "id": "adbce753",
   "metadata": {},
   "outputs": [
    {
     "data": {
      "image/png": "[encoded data removed]",
      "text/plain": [
       "<Figure size 640x480 with 1 Axes>"
      ]
     },
     "metadata": {},
     "output_type": "display_data"
    }
   ],
   "source": [
    "# Plot the same points, but now with a different colour for each range.\n",
    "for i in range(len(xs)):\n",
    "    plt.plot(xs[i], ys[i], '.')"
   ]
  },
  {
   "cell_type": "code",
   "execution_count": 296,
   "id": "dce69d4f",
   "metadata": {},
   "outputs": [
    {
     "data": {
      "image/png": "[encoded data removed]",
      "text/plain": [
       "<Figure size 640x480 with 1 Axes>"
      ]
     },
     "metadata": {},
     "output_type": "display_data"
    }
   ],
   "source": [
    "# Same plot but with best fit lines for each category.\n",
    "for i in range(len(xs)):\n",
    "    # Plot this category.\n",
    "    plt.plot(xs[i], ys[i], '.')\n",
    "    # Fit line to category.\n",
    "    m, c = np.polyfit(xs[i], ys[i], 1)\n",
    "    # Create steadily increasing x range for plot.\n",
    "    xbestfit = np.linspace(xs[i].min(), xs[i].max(), 50)\n",
    "    # Corresponding y values based on best fit line.\n",
    "    ybestfit = m * xbestfit + c\n",
    "    # Plot best fit line for category.\n",
    "    plt.plot(xbestfit, ybestfit, color='lightgrey');"
   ]
  },
  {
   "cell_type": "markdown",
   "id": "41ef0c66",
   "metadata": {},
   "source": [
    "It can be seen from the above that although for the overall data a line of best fit was found, when the data was categorised and a line of best fit plotted for each category, that it was actually the opposite to the previous line of best fit."
   ]
  },
  {
   "cell_type": "markdown",
   "id": "41483409",
   "metadata": {},
   "source": [
    "## References"
   ]
  },
  {
   "cell_type": "markdown",
   "id": "108d0fe9",
   "metadata": {},
   "source": [
    "1. [Ian's notebook on Bias](https://github.com/ianmcloughlin/2223-S1-fund-data-analysis/blob/main/notebooks/04-outliers.ipynb)\n",
    "2. [Simpson's Paradox](https://en.wikipedia.org/wiki/Simpson%27s_paradox)\n",
    "3. [An explanation of the Morley data set](https://stat.ethz.ch/R-manual/R-devel/library/datasets/html/morley.html)\n",
    "4. [Where to get Morley's data set](https://vincentarelbundock.github.io/Rdatasets/articles/data.html)\n",
    "5. [Wikipedia's explanation of box plots](https://en.wikipedia.org/wiki/Box_plot)"
   ]
  }
 ],
 "metadata": {
  "kernelspec": {
   "display_name": "Python 3 (ipykernel)",
   "language": "python",
   "name": "python3"
  },
  "language_info": {
   "codemirror_mode": {
    "name": "ipython",
    "version": 3
   },
   "file_extension": ".py",
   "mimetype": "text/x-python",
   "name": "python",
   "nbconvert_exporter": "python",
   "pygments_lexer": "ipython3",
   "version": "3.9.13"
  }
 },
 "nbformat": 4,
 "nbformat_minor": 5
}
