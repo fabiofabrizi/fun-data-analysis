{
 "cells": [
  {
   "cell_type": "markdown",
   "id": "f59b004f",
   "metadata": {},
   "source": [
    "## This is the project for the 'Fundamentals of Data Analysis' module."
   ]
  },
  {
   "cell_type": "markdown",
   "id": "85fc8d83",
   "metadata": {},
   "source": [
    "## Contents\n",
    "1. [Introduction](#Introduction)<br>\n",
    "    i. [An explanation of the Normal Distribution](#an-explanation-of-the-Normal-Distribution)<br>\n",
    "    ii.[Terms used](#terms-used)<br>\n",
    "2. [The Empirical Rule](#the-Emperical-Rule)<br>\n",
    "3. [The Central Limit Theorem](#The-Central-Limit-Theorem)\n",
    "4. [Construction of a Normal Distribution](#Construction-of-a-Normal-Distribution)"
   ]
  },
  {
   "cell_type": "code",
   "execution_count": 28,
   "id": "86a3de09",
   "metadata": {},
   "outputs": [],
   "source": [
    "# Import required libraries\n",
    "# Numerical analysis, statistics\n",
    "import numpy as np\n",
    "from numpy.random import default_rng\n",
    "from scipy.stats import norm\n",
    "\n",
    "import collections\n",
    "\n",
    "import tensorflow as tf\n",
    "\n",
    "# Plotting\n",
    "import matplotlib.pyplot as plt"
   ]
  },
  {
   "cell_type": "markdown",
   "id": "233b5324",
   "metadata": {},
   "source": [
    "## Introduction"
   ]
  },
  {
   "cell_type": "markdown",
   "id": "eb5ce062",
   "metadata": {},
   "source": [
    "### An explanation of the Normal Distribution "
   ]
  },
  {
   "cell_type": "markdown",
   "id": "3b16e49c",
   "metadata": {},
   "source": [
    "A Normal distribution is also known as a Gaussian distribution. One of the characteristics of the Normal distribution is that it's symetrical about the mean, which means that data near the mean occurs more frequently than data far away from the mean. \n",
    "\n",
    "Because of this, it's more commonly known as a \"bell curve\", because of the visual shape of the plot.\n",
    "\n",
    "Another characteristic of the normal distribution is that the mean is 0 and the standard deviation determines the width of the distribution.\n",
    "Some natural phenomena follow a normal distribution, like the height of a population in a country."
   ]
  },
  {
   "cell_type": "markdown",
   "id": "0467c468",
   "metadata": {},
   "source": [
    "### Terms used"
   ]
  },
  {
   "cell_type": "markdown",
   "id": "9e3dc9ca",
   "metadata": {},
   "source": [
    "mean = average<br>\n",
    "median = midpoint<br>\n",
    "mode = most frequent observation<br>\n",
    "\n",
    "In a Normal distribution, \n",
    "mean = median = mode\n",
    "i.e, they're all equal to one another and they represent the highest point of the distribution.\n",
    "\n",
    "**Variance**\n",
    "The distance of each data point from the mean.\n",
    "\n",
    "**Standard Deviation**\n",
    "The measure of the amount of variation of a dataset.\n",
    "Standard deviation is the square root of variance.\n",
    "\n",
    "**Skewness**\n",
    "This is a term used to measure the degree of symetry about the mean of a Normal distribution.\n",
    "A normal distribution is symmetrical and has a skewness of zero.\n",
    "\n",
    "If the distribution is left-skewed (negative skewness) then the left tail of the distribution is longer than the right tail.\n",
    "Right-skewed distributions have a right tail that is longer than the left tail.\n",
    "\n",
    "**Kurtosis**\n",
    "Kurtosis is a term used to measure the weight of a distribution's tails relative to the median.\n",
    "In a normal distribution, kurtosis = 3.0 and is known as *mesokurtic*. <br>\n",
    "A *Leptokurtic* distribution is also known as having 'fat tails', i.e. kurtosis is greater than 3.0 and will likely have a 'skinny' centre.<br>\n",
    "A *Platykurtic* distribution will have a kurtosis value of less than 3.0, and have 'skinny tails'.\n",
    "\n",
    "**Probability Density Function**\n",
    "More commonly referred to as a PDF, it's used to find the probability of a variable falling within a range of values, as opposed to determining one particular value."
   ]
  },
  {
   "cell_type": "markdown",
   "id": "aa00c7eb",
   "metadata": {},
   "source": [
    "## The Empirical Rule"
   ]
  },
  {
   "cell_type": "markdown",
   "id": "8de232a8",
   "metadata": {},
   "source": [
    "The empirical rule is also known as *the three-sigma rule* or *68-95-99.7 rule*.\n",
    "This rule states that statistically, for a normal distribution, the majority of the data under observation will fall within three standard deviations.\n",
    "- 68% of data observed will fall in the first standard deviation;\n",
    "- 95% of data observed will fall in the first two standard deviations;\n",
    "- 99.7% of data observed will fall in the first three standard deviations.\n",
    "\n",
    "The empirical rule can be used as a way to test how 'normal' a distribution is - i.e. if it looks like a bell curve, but when analysed further, isn't a perfect normal distribution.\n",
    "Outliers can also be found when using the empirical rule, especially if 99.7% of data falls within three standard deviations."
   ]
  },
  {
   "cell_type": "markdown",
   "id": "ad3e3433",
   "metadata": {},
   "source": [
    "The probability density function of the normal distribution is:"
   ]
  },
  {
   "cell_type": "markdown",
   "id": "23a749f0",
   "metadata": {},
   "source": [
    "$p(x)$ = $\\frac{1}{\\sqrt{2\\pi\\sigma^2}}e^-\\frac{(x-\\mu)^2}{2\\sigma}$"
   ]
  },
  {
   "cell_type": "markdown",
   "id": "ab0ce4af",
   "metadata": {},
   "source": [
    "Where:<br>\n",
    "$x$ is the data under consideration;<br>\n",
    "$p(x)$ is the probability function;<br>\n",
    "$\\mu$ is the *mean*;<br>\n",
    "$\\sigma$ is the *standard deviation*."
   ]
  },
  {
   "cell_type": "markdown",
   "id": "c83da55e",
   "metadata": {},
   "source": [
    "## Central Limit Theorem"
   ]
  },
  {
   "cell_type": "markdown",
   "id": "873afcfe",
   "metadata": {},
   "source": [
    "The [central limit theorem](https://en.wikipedia.org/wiki/Central_limit_theorem) states that when many independent variables are summed up, the *normalised* sum tends towards a normal distribution even if the original variables themselves aren't normally distributed.\n",
    "\n",
    "This is regarded as a fundamental concept in probability theory because it infers that probabilistic and statistical methods that can be applied to normal distributions can also be applied to other problems that involve other types of probability distributions."
   ]
  },
  {
   "cell_type": "markdown",
   "id": "97bb4644",
   "metadata": {},
   "source": [
    "## Construction of a Normal Distribution"
   ]
  },
  {
   "cell_type": "markdown",
   "id": "a6a3a2d7",
   "metadata": {},
   "source": [
    "Creating a normal distribution using Numpy:\n",
    "We need to specify $\\mu$ (mean), $\\sigma$ (standard deviation) and the amount of samples."
   ]
  },
  {
   "cell_type": "code",
   "execution_count": 5,
   "id": "a6cfd41c",
   "metadata": {},
   "outputs": [],
   "source": [
    "mu, sigma = 0, 0.1 # mean and standard deviation\n",
    "# 1000 samples\n",
    "s = np.random.normal(mu, sigma, 1000)"
   ]
  },
  {
   "cell_type": "code",
   "execution_count": 6,
   "id": "5105a788",
   "metadata": {},
   "outputs": [
    {
     "data": {
      "text/plain": [
       "8.70991168429922e-05"
      ]
     },
     "execution_count": 6,
     "metadata": {},
     "output_type": "execute_result"
    }
   ],
   "source": [
    "# verify the mean\n",
    "abs(mu - np.mean(s))"
   ]
  },
  {
   "cell_type": "code",
   "execution_count": 7,
   "id": "4e056647",
   "metadata": {},
   "outputs": [
    {
     "data": {
      "text/plain": [
       "4.925041826227272e-05"
      ]
     },
     "execution_count": 7,
     "metadata": {},
     "output_type": "execute_result"
    }
   ],
   "source": [
    "# verify the variance\n",
    "abs(sigma - np.std(s, ddof=1))"
   ]
  },
  {
   "cell_type": "code",
   "execution_count": 12,
   "id": "c6f03746",
   "metadata": {},
   "outputs": [
    {
     "data": {
      "image/png": "[encoded data removed]",
      "text/plain": [
       "<Figure size 640x480 with 1 Axes>"
      ]
     },
     "metadata": {},
     "output_type": "display_data"
    }
   ],
   "source": [
    "count, bins, ignored = plt.hist(s, 100, density=True)\n",
    "plt.plot(bins, 1/(sigma * np.sqrt(2 * np.pi)) *\n",
    "               np.exp( - (bins - mu)**2 / (2 * sigma**2) ),\n",
    "         linewidth=2, color='r')\n",
    "plt.show()"
   ]
  },
  {
   "cell_type": "markdown",
   "id": "ed84e37b",
   "metadata": {},
   "source": [
    "Creating a normal distribution using sci-py:"
   ]
  },
  {
   "cell_type": "code",
   "execution_count": 16,
   "id": "c6be9747",
   "metadata": {},
   "outputs": [
    {
     "data": {
      "text/plain": [
       "[<matplotlib.lines.Line2D at 0x225924a4220>]"
      ]
     },
     "execution_count": 16,
     "metadata": {},
     "output_type": "execute_result"
    },
    {
     "data": {
      "image/png": "[encoded data removed]",
      "text/plain": [
       "<Figure size 640x480 with 1 Axes>"
      ]
     },
     "metadata": {},
     "output_type": "display_data"
    }
   ],
   "source": [
    "# specify the plot size\n",
    "fig, ax = plt.subplots(1, 1)\n",
    "\n",
    "# Calculate the first four moments - note the 'mvsk' letters\n",
    "mean, var, skew, kurt = norm.stats(moments='mvsk')\n",
    "\n",
    "# Display the probability density function (pdf):\n",
    "x = np.linspace(norm.ppf(0.01),\n",
    "                norm.ppf(0.99), 1000)\n",
    "ax.plot(x, norm.pdf(x),\n",
    "       'r-', lw=2, alpha=0.6, label='norm pdf')"
   ]
  },
  {
   "cell_type": "code",
   "execution_count": null,
   "id": "695adabc",
   "metadata": {},
   "outputs": [],
   "source": []
  },
  {
   "cell_type": "code",
   "execution_count": null,
   "id": "29ff180b",
   "metadata": {},
   "outputs": [],
   "source": []
  },
  {
   "cell_type": "markdown",
   "id": "424a618b",
   "metadata": {},
   "source": [
    "### Conclusion"
   ]
  },
  {
   "cell_type": "markdown",
   "id": "a2352ac8",
   "metadata": {},
   "source": [
    "### References"
   ]
  },
  {
   "cell_type": "markdown",
   "id": "e85bd2b1",
   "metadata": {},
   "source": [
    "1. [Numpy's definition of a normal distribution](https://numpy.org/doc/stable/reference/random/generated/numpy.random.Generator.normal.html#numpy.random.Generator.normal)\n",
    "2. [Wikipedia's explanation of Kurtosis](https://en.wikipedia.org/wiki/Kurtosis)\n",
    "3. [The empirical rule](https://www.investopedia.com/terms/e/empirical-rule.asp)\n",
    "4. [The Central LImit Theorem](https://en.wikipedia.org/wiki/Central_limit_theorem)\n"
   ]
  },
  {
   "cell_type": "code",
   "execution_count": null,
   "id": "e4a204fd",
   "metadata": {},
   "outputs": [],
   "source": []
  }
 ],
 "metadata": {
  "kernelspec": {
   "display_name": "Python 3 (ipykernel)",
   "language": "python",
   "name": "python3"
  },
  "language_info": {
   "codemirror_mode": {
    "name": "ipython",
    "version": 3
   },
   "file_extension": ".py",
   "mimetype": "text/x-python",
   "name": "python",
   "nbconvert_exporter": "python",
   "pygments_lexer": "ipython3",
   "version": "3.9.13"
  }
 },
 "nbformat": 4,
 "nbformat_minor": 5
}
