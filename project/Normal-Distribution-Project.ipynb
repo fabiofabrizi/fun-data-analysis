{
 "cells": [
  {
   "cell_type": "markdown",
   "id": "f59b004f",
   "metadata": {},
   "source": [
    "## This is the project for the 'Fundamentals of Data Analysis' module."
   ]
  },
  {
   "cell_type": "markdown",
   "id": "85fc8d83",
   "metadata": {},
   "source": [
    "## Contents\n",
    "1. [Introduction](#Introduction)<br>\n",
    "    i. [An explanation of the Normal Distribution](#an-explanation-of-the-normal-distribution)<br>\n",
    "    ii.[Terms used](#terms-used)\n",
    "2. [The Empirical Rule](#the-emperical-rule)"
   ]
  },
  {
   "cell_type": "markdown",
   "id": "233b5324",
   "metadata": {},
   "source": [
    "## Introduction"
   ]
  },
  {
   "cell_type": "markdown",
   "id": "eb5ce062",
   "metadata": {},
   "source": [
    "### An explanation of the Normal Distribution "
   ]
  },
  {
   "cell_type": "markdown",
   "id": "3b16e49c",
   "metadata": {},
   "source": [
    "A Normal distribution is also known as a Gaussian distribution. One of the characteristics of the Normal distribution is that it's symetrical about the mean, which means that data near the mean occurs more frequently than data far away from the mean. \n",
    "\n",
    "Because of this, it's more commonly known as a \"bell curve\", because of the visual shape of the plot.\n",
    "\n",
    "Another characteristic of the normal distribution is that the mean is 0 and the standard deviation determines the width of the distribution.\n",
    "Some natural phenomena follow a normal distribution, like the height of a population in a country."
   ]
  },
  {
   "cell_type": "markdown",
   "id": "0467c468",
   "metadata": {},
   "source": [
    "### Terms used"
   ]
  },
  {
   "cell_type": "markdown",
   "id": "9e3dc9ca",
   "metadata": {},
   "source": [
    "mean = average<br>\n",
    "median = midpoint<br>\n",
    "mode = most frequent observation<br>\n",
    "\n",
    "In a Normal distribution, \n",
    "mean = median = mode\n",
    "i.e, they're all equal to one another and they represent the highest point of the distribution.\n",
    "\n",
    "**Variance**\n",
    "The distance of each data point from the mean.\n",
    "\n",
    "**Standard Deviation**\n",
    "The measure of the amount of variation of a dataset.\n",
    "Standard deviation is the square root of variance.\n",
    "\n",
    "**Skewness**\n",
    "This is a term used to measure the degree of symetry about the mean of a Normal distribution.\n",
    "A normal distribution is symmetrical and has a skewness of zero.\n",
    "\n",
    "If the distribution is left-skewed (negative skewness) then the left tail of the distribution is longer than the right tail.\n",
    "Right-skewed distributions have a right tail that is longer than the left tail.\n",
    "\n",
    "**Kurtosis**\n",
    "Kurtosis is a term used to measure the weight of a distribution's tails relative to the median.\n",
    "In a normal distribution, kurtosis = 3.0 and is known as *mesokurtic*. <br>\n",
    "A *Leptokurtic* distribution is also known as having 'fat tails', i.e. kurtosis is greater than 3.0 and will likely have a 'skinny' centre.<br>\n",
    "A *Platykurtic* distribution will have a kurtosis value of less than 3.0, and have 'skinny tails'.\n",
    "\n",
    "**Probability Density Function**\n",
    "More commonly referred to as a PDF, it's used to find the probability of a variable falling within a range of values, as opposed to determining one particular value."
   ]
  },
  {
   "cell_type": "markdown",
   "id": "aa00c7eb",
   "metadata": {},
   "source": [
    "## The Empirical Rule"
   ]
  },
  {
   "cell_type": "markdown",
   "id": "8de232a8",
   "metadata": {},
   "source": [
    "The empirical rule is also known as *the three-sigma rule* or *68-95-99.7 rule*.\n",
    "This rule states that statistically, for a normal distribution, the majority of the data under observation will fall within three standard deviations.\n",
    "- 68% of data observed will fall in the first standard deviation;\n",
    "- 95% of data observed will fall in the first two standard deviations;\n",
    "- 99.7% of data observed will fall in the first three standard deviations.\n",
    "\n",
    "The empirical rule can be used as a way to test how 'normal' a distribution is - i.e. if it looks like a bell curve, but when analysed further, isn't a perfect normal distribution.\n",
    "Outliers can also be found when using the empirical rule, especially if 99.7% of data falls within three standard deviations."
   ]
  },
  {
   "cell_type": "markdown",
   "id": "ad3e3433",
   "metadata": {},
   "source": [
    "The probability density function of the normal distribution is:"
   ]
  },
  {
   "cell_type": "markdown",
   "id": "23a749f0",
   "metadata": {},
   "source": [
    "$p(x)$ = $\\frac{1}{\\sqrt{2\\pi\\sigma^2}}e^-\\frac{(x-\\mu)^2}{2\\sigma}$"
   ]
  },
  {
   "cell_type": "markdown",
   "id": "ab0ce4af",
   "metadata": {},
   "source": [
    "Where:<br>\n",
    "$x$ is the data under consideration;<br>\n",
    "$p(x)$ is the probability function;<br>\n",
    "$\\mu$ is the *mean*;<br>\n",
    "$\\sigma$ is the *standard deviation*."
   ]
  },
  {
   "cell_type": "code",
   "execution_count": null,
   "id": "0cf22c16",
   "metadata": {},
   "outputs": [],
   "source": []
  },
  {
   "cell_type": "code",
   "execution_count": null,
   "id": "a6cfd41c",
   "metadata": {},
   "outputs": [],
   "source": []
  },
  {
   "cell_type": "markdown",
   "id": "424a618b",
   "metadata": {},
   "source": [
    "### Conclusion"
   ]
  },
  {
   "cell_type": "markdown",
   "id": "a2352ac8",
   "metadata": {},
   "source": [
    "### References"
   ]
  },
  {
   "cell_type": "markdown",
   "id": "e85bd2b1",
   "metadata": {},
   "source": [
    "1. [Numpy's definition of a normal distribution](https://numpy.org/doc/stable/reference/random/generated/numpy.random.Generator.normal.html#numpy.random.Generator.normal)\n",
    "2. [Wikipedia's explanation of Kurtosis](https://en.wikipedia.org/wiki/Kurtosis)\n",
    "3. [The empirical rule](https://www.investopedia.com/terms/e/empirical-rule.asp)\n"
   ]
  },
  {
   "cell_type": "code",
   "execution_count": null,
   "id": "e4a204fd",
   "metadata": {},
   "outputs": [],
   "source": []
  }
 ],
 "metadata": {
  "kernelspec": {
   "display_name": "Python 3 (ipykernel)",
   "language": "python",
   "name": "python3"
  },
  "language_info": {
   "codemirror_mode": {
    "name": "ipython",
    "version": 3
   },
   "file_extension": ".py",
   "mimetype": "text/x-python",
   "name": "python",
   "nbconvert_exporter": "python",
   "pygments_lexer": "ipython3",
   "version": "3.9.13"
  }
 },
 "nbformat": 4,
 "nbformat_minor": 5
}
