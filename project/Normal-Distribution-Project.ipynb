{
 "cells": [
  {
   "cell_type": "markdown",
   "id": "f59b004f",
   "metadata": {},
   "source": [
    "## Module: Fundamentals of Data Analysis\n",
    "\n",
    "## Project: Normal Distribution"
   ]
  },
  {
   "cell_type": "markdown",
   "id": "85fc8d83",
   "metadata": {},
   "source": [
    "## Contents\n",
    "1. [Introduction](#Introduction)<br>\n",
    "    i. [An explanation of the Normal Distribution](#An-explanation-of-the-Normal-Distribution)<br>\n",
    "    ii. [Terms used](#Terms-used)<br>\n",
    "    iii. [Import libraries](#Import-libraries)\n",
    "2. [Construction of a Normal Distribution](#Construction-of-a-Normal-Distribution)<br>\n",
    "    i. [Using Numpy](#Using-Numpy)<br>\n",
    "    ii.[Using Sci-py](#Using-Sci-py)<br>\n",
    "    iii.[Multiple Normal Distributions](#Multiple-Normal-Distributions)<br>\n",
    "    iv. [Cumulative distribution function (CDF)](#Cumulative-distribution-function-(CDF))<br>\n",
    "    v. [Demonstration of Kurtosis](#Demonstration-of-Kurtosis)<br>\n",
    "    vi. [Demonstration of Skewness](#Demonstration-of-Skewness)<br>\n",
    "3. [The empirical rule](#The-emperical-rule)<br>\n",
    "4. [The Central Limit Theorem](#The-Central-Limit-Theorem)<br>\n",
    "    i. [Standard Error](#Standard-Error)<br>\n",
    "5. [Real-world data](#Real-world-data)<br>\n",
    "    i. [Check folder](#Check-folder)<br>\n",
    "    ii. [Import dataset](#Import-dataset)<br>\n",
    "    iii. [Basic statistics of a variable](#Basic-statistics-of-a-variable)<br>\n",
    "6. [Kurtosis of data using Pandas and Scipy](#Kurtosis-of-data-using-Pandas-and-Scipy)<br>\n",
    "    i. [Correction for statistical bias](#Correction-for-statistical-bias)<br>\n",
    "    ii. [Normalise data and recalculate](#Normalise-data-and-recalculate)<br>\n",
    "7. [Skewness of data using pandas and scipy](#Skewness-of-data-using-pandas-and-scipy)<br>\n",
    "8. [The central limit theorem: real world data](#The-central-limit-theorem:-real-world-data)<br>\n",
    "    i. [Mean of sample size](#Mean-of-sample-size)<br>\n",
    "    ii. [Mean of different sample sizes](#Mean-of-different-sample-sizes)<br>\n",
    "9. [Proof of the Empirical rule](#Proof-of-the-Empirical-rule)<br>\n",
    "    i. [Recap of data](#Recap-of-data)<br>\n",
    "    ii. [Standard deviations about the mean](#Standard-deviations-about-the-mean)<br>\n",
    "    iii. [Plot the standard deviations](#Plot-the-standard-deviations)<br>\n",
    "    iv. [Confirmation of Empirical rule](#Confirmation-of-Empirical-rule)<br>\n",
    "    v. [One standard deviation](#One-standard-deviation)<br>\n",
    "    vi. [Two Standard deviations](#Two-Standard-deviations)<br>\n",
    "    vii.[Three Standard deviations](#Three-Standard-deviations)<br>\n",
    "10. [Conclusion](#Conclusion)<br>\n",
    "11. [References](#References)<br>"
   ]
  },
  {
   "cell_type": "markdown",
   "id": "233b5324",
   "metadata": {},
   "source": [
    "## Introduction"
   ]
  },
  {
   "cell_type": "markdown",
   "id": "eb5ce062",
   "metadata": {},
   "source": [
    "### An explanation of the Normal Distribution "
   ]
  },
  {
   "cell_type": "markdown",
   "id": "3b16e49c",
   "metadata": {},
   "source": [
    "A Normal distribution is also known as a Gaussian distribution. One of the characteristics of the Normal distribution is that it's symetrical about the mean, which means that data near the mean occurs more frequently than data far away from the mean. \n",
    "\n",
    "Because of this, it's more commonly known as a \"bell curve\", because of the visual shape of the plot.\n",
    "\n",
    "Another characteristic of the normal distribution is that the mean is 0 and the standard deviation determines the width of the distribution.\n",
    "Some natural phenomena follow a normal distribution, like the height of a population in a country."
   ]
  },
  {
   "cell_type": "markdown",
   "id": "0467c468",
   "metadata": {},
   "source": [
    "### Terms used"
   ]
  },
  {
   "cell_type": "markdown",
   "id": "9e3dc9ca",
   "metadata": {},
   "source": [
    "mean = average<br>\n",
    "median = midpoint<br>\n",
    "mode = most frequent observation<br>\n",
    "\n",
    "In a Normal distribution, \n",
    "mean = median = mode\n",
    "i.e, they're all equal to one another and they represent the highest point of the distribution.\n",
    "\n",
    "**Variance**\n",
    "The distance of each data point from the mean.\n",
    "\n",
    "**Standard Deviation**\n",
    "The measure of the amount of variation of a dataset.\n",
    "Standard deviation is the square root of variance.\n",
    "\n",
    "**Skewness**\n",
    "This is a term used to measure the degree of symetry about the mean of a Normal distribution.\n",
    "A normal distribution is symmetrical and has a skewness of zero.\n",
    "\n",
    "If the distribution is left-skewed (negative skewness) then the left tail of the distribution is longer than the right tail.\n",
    "Right-skewed distributions have a right tail that is longer than the left tail.\n",
    "\n",
    "**Kurtosis**\n",
    "Kurtosis is a term used to measure the weight of a distribution's tails relative to the median.\n",
    "In a normal distribution, kurtosis = 3.0 and is known as *mesokurtic*. <br>\n",
    "A *Leptokurtic* distribution is also known as having 'fat tails', i.e. kurtosis is greater than 3.0 and will likely have a 'skinny' centre.<br>\n",
    "A *Platykurtic* distribution will have a kurtosis value of less than 3.0, and have 'skinny tails'.\n",
    "\n",
    "**Probability Density Function**\n",
    "More commonly referred to as a PDF, it's used to find the probability of a variable falling within a range of values, as opposed to determining one particular value."
   ]
  },
  {
   "cell_type": "markdown",
   "id": "f9247e74",
   "metadata": {},
   "source": [
    "### Import libraries"
   ]
  },
  {
   "cell_type": "code",
   "execution_count": 1,
   "id": "c6cdecc4",
   "metadata": {},
   "outputs": [],
   "source": [
    "# Import required libraries\n",
    "# Numerical analysis, statistics\n",
    "import numpy as np\n",
    "from numpy.random import default_rng\n",
    "from scipy.stats import norm, kurtosis, skew, skewtest\n",
    "import pandas as pd\n",
    "import os\n",
    "\n",
    "import collections\n",
    "\n",
    "import tensorflow as tf\n",
    "\n",
    "# Plotting\n",
    "import matplotlib.pyplot as plt\n",
    "import seaborn as sns"
   ]
  },
  {
   "cell_type": "markdown",
   "id": "259595a3",
   "metadata": {},
   "source": [
    "## Construction of a Normal Distribution"
   ]
  },
  {
   "cell_type": "markdown",
   "id": "b79d616b",
   "metadata": {},
   "source": [
    "### Using Numpy"
   ]
  },
  {
   "cell_type": "markdown",
   "id": "642db43e",
   "metadata": {},
   "source": [
    "Creating a normal distribution using Numpy:\n",
    "We need to specify $\\mu$ (mean), $\\sigma$ (standard deviation) and the amount of samples."
   ]
  },
  {
   "cell_type": "code",
   "execution_count": 2,
   "id": "c0e9b8bf",
   "metadata": {},
   "outputs": [],
   "source": [
    "mu, sigma = 0, 0.1 # mean and standard deviation\n",
    "# 1000 samples\n",
    "s = np.random.normal(mu, sigma, 1000)"
   ]
  },
  {
   "cell_type": "code",
   "execution_count": 3,
   "id": "187b65bb",
   "metadata": {},
   "outputs": [
    {
     "data": {
      "text/plain": [
       "0.0003861912675131822"
      ]
     },
     "execution_count": 3,
     "metadata": {},
     "output_type": "execute_result"
    }
   ],
   "source": [
    "# verify the mean\n",
    "abs(mu - np.mean(s))"
   ]
  },
  {
   "cell_type": "code",
   "execution_count": 4,
   "id": "cbd2e2cc",
   "metadata": {},
   "outputs": [
    {
     "data": {
      "text/plain": [
       "0.003470247521888181"
      ]
     },
     "execution_count": 4,
     "metadata": {},
     "output_type": "execute_result"
    }
   ],
   "source": [
    "# verify the variance\n",
    "abs(sigma - np.std(s, ddof=1))"
   ]
  },
  {
   "cell_type": "code",
   "execution_count": 5,
   "id": "4f157f5a",
   "metadata": {},
   "outputs": [
    {
     "data": {
      "image/png": "[encoded data removed]",
      "text/plain": [
       "<Figure size 640x480 with 1 Axes>"
      ]
     },
     "metadata": {},
     "output_type": "display_data"
    }
   ],
   "source": [
    "count, bins, ignored = plt.hist(s, 100, density=True)\n",
    "plt.plot(bins, 1/(sigma * np.sqrt(2 * np.pi)) *\n",
    "               np.exp( - (bins - mu)**2 / (2 * sigma**2) ),\n",
    "         linewidth=2, color='r')\n",
    "plt.show()"
   ]
  },
  {
   "cell_type": "markdown",
   "id": "4b3a6521",
   "metadata": {},
   "source": [
    "### Using Sci-py"
   ]
  },
  {
   "cell_type": "markdown",
   "id": "162e9ef7",
   "metadata": {},
   "source": [
    "Creating a normal distribution using sci-py:"
   ]
  },
  {
   "cell_type": "code",
   "execution_count": 6,
   "id": "3d91d2f9",
   "metadata": {
    "scrolled": false
   },
   "outputs": [
    {
     "data": {
      "text/plain": [
       "[<matplotlib.lines.Line2D at 0x1e96a375b80>]"
      ]
     },
     "execution_count": 6,
     "metadata": {},
     "output_type": "execute_result"
    },
    {
     "data": {
      "image/png": "[encoded data removed]",
      "text/plain": [
       "<Figure size 640x480 with 1 Axes>"
      ]
     },
     "metadata": {},
     "output_type": "display_data"
    }
   ],
   "source": [
    "# specify the plot size\n",
    "fig, ax = plt.subplots(1, 1)\n",
    "\n",
    "# Calculate the first four moments - note the 'mvsk' letters\n",
    "mean, var, skew, kurt = norm.stats(moments='mvsk')\n",
    "\n",
    "# Display the probability density function (pdf):\n",
    "x = np.linspace(norm.ppf(0.01),\n",
    "                norm.ppf(0.99), 1000)\n",
    "ax.plot(x, norm.pdf(x),\n",
    "       'r-', lw=2, alpha=0.6, label='norm pdf')"
   ]
  },
  {
   "cell_type": "markdown",
   "id": "2c201fbc",
   "metadata": {},
   "source": [
    "### Multiple Normal Distributions"
   ]
  },
  {
   "cell_type": "markdown",
   "id": "753be0d1",
   "metadata": {},
   "source": [
    "The normal distributions below have the same means (0) but different standard deviations ranging from 1 to 3."
   ]
  },
  {
   "cell_type": "code",
   "execution_count": 7,
   "id": "c96bd595",
   "metadata": {},
   "outputs": [],
   "source": [
    "# Generate range of x values from -10 to 10 in 0.001 steps\n",
    "x = np.arange(-10, 10, 0.001)"
   ]
  },
  {
   "cell_type": "code",
   "execution_count": 8,
   "id": "3f212955",
   "metadata": {},
   "outputs": [],
   "source": [
    "# Generate probability density functions (pdfs with mean of 0, and std from 1 to 3)\n",
    "x1 = norm.pdf(x, 0, 1)\n",
    "x2 = norm.pdf(x, 0, 2)\n",
    "x3 = norm.pdf(x, 0, 3)"
   ]
  },
  {
   "cell_type": "code",
   "execution_count": 46,
   "id": "67a14fd7",
   "metadata": {
    "scrolled": false
   },
   "outputs": [
    {
     "data": {
      "image/png": "[encoded data removed]",
      "text/plain": [
       "<Figure size 1200x800 with 1 Axes>"
      ]
     },
     "metadata": {},
     "output_type": "display_data"
    }
   ],
   "source": [
    "# Set seaborn plot style\n",
    "sns.set_style(\"whitegrid\")\n",
    "sns.set_context(\"paper\", font_scale=2)\n",
    "plt.figure(figsize=(12, 8))\n",
    "\n",
    "# Input data\n",
    "ax = sns.lineplot(x = x, y=x1, label='μ: 0, σ: 1')\n",
    "ax = sns.lineplot(x = x, y=x2, label='μ:0, σ: 2')\n",
    "ax = sns.lineplot(x = x, y=x3, label='μ:0, σ: 3')\n",
    "\n",
    "# X and Y axis labels\n",
    "ax.set(xlabel = \"x values\", ylabel = \"probability density\")\n",
    "# To get rid of the text at top of the graph\n",
    "plt.show()"
   ]
  },
  {
   "cell_type": "markdown",
   "id": "c753f7a0",
   "metadata": {},
   "source": [
    "So from examining the plots above, the larger standard deviation shows that the data is spread out more.<br>\n",
    "The plot with a $\\mu$ of 0 and $\\sigma$ of 1 is known as a *standardised normal distribution*.\n",
    "<br>\n",
    "<br>"
   ]
  },
  {
   "cell_type": "markdown",
   "id": "b2dba373",
   "metadata": {},
   "source": [
    "### Cumulative distribution function (CDF)"
   ]
  },
  {
   "cell_type": "markdown",
   "id": "09c246f4",
   "metadata": {},
   "source": [
    "The [Cumulative distribution function (CDF](https://www.statology.org/cdf-vs-pdf/) shows not only the range of values in the data, but also the probability or likelihood of that data point occuring.<br>\n",
    "Below are plots for CDFs for x1, x2 and x3.<br>\n",
    "As the standard deviation $\\sigma$ represents the variability of data points, the larger $\\sigma$ gets, the straighter the line becomes."
   ]
  },
  {
   "cell_type": "code",
   "execution_count": 63,
   "id": "d90154e0",
   "metadata": {},
   "outputs": [
    {
     "data": {
      "image/png": "[encoded data removed]",
      "text/plain": [
       "<Figure size 1200x800 with 1 Axes>"
      ]
     },
     "metadata": {},
     "output_type": "display_data"
    }
   ],
   "source": [
    "# Set seaborn plot style\n",
    "sns.set_style(\"whitegrid\")\n",
    "sns.set_context(\"paper\", font_scale=2)\n",
    "plt.figure(figsize=(12, 8))\n",
    "\n",
    "cdf_1 = np.cumsum(x1)\n",
    "cdf_2 = np.cumsum(x2)\n",
    "cdf_3 = np.cumsum(x3)\n",
    "# Input data\n",
    "ax = sns.ecdfplot(data=x, y=x1, label='μ: 0, σ: 1')\n",
    "ax = sns.ecdfplot(data=x, y=x2, label='μ:0, σ: 2')\n",
    "ax = sns.ecdfplot(data=x, y=x3, label='μ:0, σ: 3')\n",
    "\n",
    "# X and Y axis labels\n",
    "ax.set(xlabel = \"x values\", ylabel = \"probability density\")\n",
    "# To get rid of the text at top of the graph\n",
    "plt.show()"
   ]
  },
  {
   "cell_type": "code",
   "execution_count": null,
   "id": "349a6c14",
   "metadata": {},
   "outputs": [],
   "source": []
  },
  {
   "cell_type": "code",
   "execution_count": 79,
   "id": "aa5efcf7",
   "metadata": {},
   "outputs": [
    {
     "data": {
      "text/plain": [
       "Text(0.5, 0, 'x')"
      ]
     },
     "execution_count": 79,
     "metadata": {},
     "output_type": "execute_result"
    },
    {
     "data": {
      "image/png": "[encoded data removed]",
      "text/plain": [
       "<Figure size 640x480 with 1 Axes>"
      ]
     },
     "metadata": {},
     "output_type": "display_data"
    }
   ],
   "source": [
    "#sort data\n",
    "x1_sorted = np.sort(x1)\n",
    "x2_sorted = np.sort(x2)\n",
    "x3_sorted = np.sort(x3)\n",
    "\n",
    "#calculate CDF values\n",
    "y_cdf1 = norm.cdf(x1_sorted)\n",
    "y_cdf2 = norm.cdf(x2_sorted)\n",
    "y_cdf3 = norm.cdf(x3_sorted)\n",
    "\n",
    "#plot CDF\n",
    "plt.plot(x, y)\n",
    "\n",
    "#plot CDF\n",
    "plt.plot(x1_sorted, y_cdf1)\n",
    "plt.plot(x2_sorted, y_cdf2)\n",
    "plt.xlabel('x')"
   ]
  },
  {
   "cell_type": "code",
   "execution_count": 101,
   "id": "d83d7bcd",
   "metadata": {},
   "outputs": [
    {
     "ename": "ValueError",
     "evalue": "x and y must have same first dimension, but have shapes (1000,) and (20000,)",
     "output_type": "error",
     "traceback": [
      "\u001b[1;31m---------------------------------------------------------------------------\u001b[0m",
      "\u001b[1;31mValueError\u001b[0m                                Traceback (most recent call last)",
      "Cell \u001b[1;32mIn [101], line 16\u001b[0m\n\u001b[0;32m     11\u001b[0m \u001b[38;5;66;03m#plot CDF\u001b[39;00m\n\u001b[0;32m     12\u001b[0m \u001b[38;5;66;03m#plt.plot(data_sorted, norm_cdf)\u001b[39;00m\n\u001b[0;32m     13\u001b[0m \n\u001b[0;32m     14\u001b[0m \u001b[38;5;66;03m#plot CDF\u001b[39;00m\n\u001b[0;32m     15\u001b[0m plt\u001b[38;5;241m.\u001b[39mplot(x, y)\n\u001b[1;32m---> 16\u001b[0m \u001b[43mplt\u001b[49m\u001b[38;5;241;43m.\u001b[39;49m\u001b[43mplot\u001b[49m\u001b[43m(\u001b[49m\u001b[43mx\u001b[49m\u001b[43m,\u001b[49m\u001b[43m \u001b[49m\u001b[43my2\u001b[49m\u001b[43m)\u001b[49m\n\u001b[0;32m     17\u001b[0m plt\u001b[38;5;241m.\u001b[39mxlabel(\u001b[38;5;124m'\u001b[39m\u001b[38;5;124mx\u001b[39m\u001b[38;5;124m'\u001b[39m)\n",
      "File \u001b[1;32m~\\anaconda3\\lib\\site-packages\\matplotlib\\pyplot.py:2767\u001b[0m, in \u001b[0;36mplot\u001b[1;34m(scalex, scaley, data, *args, **kwargs)\u001b[0m\n\u001b[0;32m   2765\u001b[0m \u001b[38;5;129m@_copy_docstring_and_deprecators\u001b[39m(Axes\u001b[38;5;241m.\u001b[39mplot)\n\u001b[0;32m   2766\u001b[0m \u001b[38;5;28;01mdef\u001b[39;00m \u001b[38;5;21mplot\u001b[39m(\u001b[38;5;241m*\u001b[39margs, scalex\u001b[38;5;241m=\u001b[39m\u001b[38;5;28;01mTrue\u001b[39;00m, scaley\u001b[38;5;241m=\u001b[39m\u001b[38;5;28;01mTrue\u001b[39;00m, data\u001b[38;5;241m=\u001b[39m\u001b[38;5;28;01mNone\u001b[39;00m, \u001b[38;5;241m*\u001b[39m\u001b[38;5;241m*\u001b[39mkwargs):\n\u001b[1;32m-> 2767\u001b[0m     \u001b[38;5;28;01mreturn\u001b[39;00m gca()\u001b[38;5;241m.\u001b[39mplot(\n\u001b[0;32m   2768\u001b[0m         \u001b[38;5;241m*\u001b[39margs, scalex\u001b[38;5;241m=\u001b[39mscalex, scaley\u001b[38;5;241m=\u001b[39mscaley,\n\u001b[0;32m   2769\u001b[0m         \u001b[38;5;241m*\u001b[39m\u001b[38;5;241m*\u001b[39m({\u001b[38;5;124m\"\u001b[39m\u001b[38;5;124mdata\u001b[39m\u001b[38;5;124m\"\u001b[39m: data} \u001b[38;5;28;01mif\u001b[39;00m data \u001b[38;5;129;01mis\u001b[39;00m \u001b[38;5;129;01mnot\u001b[39;00m \u001b[38;5;28;01mNone\u001b[39;00m \u001b[38;5;28;01melse\u001b[39;00m {}), \u001b[38;5;241m*\u001b[39m\u001b[38;5;241m*\u001b[39mkwargs)\n",
      "File \u001b[1;32m~\\anaconda3\\lib\\site-packages\\matplotlib\\axes\\_axes.py:1635\u001b[0m, in \u001b[0;36mAxes.plot\u001b[1;34m(self, scalex, scaley, data, *args, **kwargs)\u001b[0m\n\u001b[0;32m   1393\u001b[0m \u001b[38;5;124;03m\"\"\"\u001b[39;00m\n\u001b[0;32m   1394\u001b[0m \u001b[38;5;124;03mPlot y versus x as lines and/or markers.\u001b[39;00m\n\u001b[0;32m   1395\u001b[0m \n\u001b[1;32m   (...)\u001b[0m\n\u001b[0;32m   1632\u001b[0m \u001b[38;5;124;03m(``'green'``) or hex strings (``'#008000'``).\u001b[39;00m\n\u001b[0;32m   1633\u001b[0m \u001b[38;5;124;03m\"\"\"\u001b[39;00m\n\u001b[0;32m   1634\u001b[0m kwargs \u001b[38;5;241m=\u001b[39m cbook\u001b[38;5;241m.\u001b[39mnormalize_kwargs(kwargs, mlines\u001b[38;5;241m.\u001b[39mLine2D)\n\u001b[1;32m-> 1635\u001b[0m lines \u001b[38;5;241m=\u001b[39m [\u001b[38;5;241m*\u001b[39m\u001b[38;5;28mself\u001b[39m\u001b[38;5;241m.\u001b[39m_get_lines(\u001b[38;5;241m*\u001b[39margs, data\u001b[38;5;241m=\u001b[39mdata, \u001b[38;5;241m*\u001b[39m\u001b[38;5;241m*\u001b[39mkwargs)]\n\u001b[0;32m   1636\u001b[0m \u001b[38;5;28;01mfor\u001b[39;00m line \u001b[38;5;129;01min\u001b[39;00m lines:\n\u001b[0;32m   1637\u001b[0m     \u001b[38;5;28mself\u001b[39m\u001b[38;5;241m.\u001b[39madd_line(line)\n",
      "File \u001b[1;32m~\\anaconda3\\lib\\site-packages\\matplotlib\\axes\\_base.py:312\u001b[0m, in \u001b[0;36m_process_plot_var_args.__call__\u001b[1;34m(self, data, *args, **kwargs)\u001b[0m\n\u001b[0;32m    310\u001b[0m     this \u001b[38;5;241m+\u001b[39m\u001b[38;5;241m=\u001b[39m args[\u001b[38;5;241m0\u001b[39m],\n\u001b[0;32m    311\u001b[0m     args \u001b[38;5;241m=\u001b[39m args[\u001b[38;5;241m1\u001b[39m:]\n\u001b[1;32m--> 312\u001b[0m \u001b[38;5;28;01myield from\u001b[39;00m \u001b[38;5;28;43mself\u001b[39;49m\u001b[38;5;241;43m.\u001b[39;49m\u001b[43m_plot_args\u001b[49m\u001b[43m(\u001b[49m\u001b[43mthis\u001b[49m\u001b[43m,\u001b[49m\u001b[43m \u001b[49m\u001b[43mkwargs\u001b[49m\u001b[43m)\u001b[49m\n",
      "File \u001b[1;32m~\\anaconda3\\lib\\site-packages\\matplotlib\\axes\\_base.py:498\u001b[0m, in \u001b[0;36m_process_plot_var_args._plot_args\u001b[1;34m(self, tup, kwargs, return_kwargs)\u001b[0m\n\u001b[0;32m    495\u001b[0m     \u001b[38;5;28mself\u001b[39m\u001b[38;5;241m.\u001b[39maxes\u001b[38;5;241m.\u001b[39myaxis\u001b[38;5;241m.\u001b[39mupdate_units(y)\n\u001b[0;32m    497\u001b[0m \u001b[38;5;28;01mif\u001b[39;00m x\u001b[38;5;241m.\u001b[39mshape[\u001b[38;5;241m0\u001b[39m] \u001b[38;5;241m!=\u001b[39m y\u001b[38;5;241m.\u001b[39mshape[\u001b[38;5;241m0\u001b[39m]:\n\u001b[1;32m--> 498\u001b[0m     \u001b[38;5;28;01mraise\u001b[39;00m \u001b[38;5;167;01mValueError\u001b[39;00m(\u001b[38;5;124mf\u001b[39m\u001b[38;5;124m\"\u001b[39m\u001b[38;5;124mx and y must have same first dimension, but \u001b[39m\u001b[38;5;124m\"\u001b[39m\n\u001b[0;32m    499\u001b[0m                      \u001b[38;5;124mf\u001b[39m\u001b[38;5;124m\"\u001b[39m\u001b[38;5;124mhave shapes \u001b[39m\u001b[38;5;132;01m{\u001b[39;00mx\u001b[38;5;241m.\u001b[39mshape\u001b[38;5;132;01m}\u001b[39;00m\u001b[38;5;124m and \u001b[39m\u001b[38;5;132;01m{\u001b[39;00my\u001b[38;5;241m.\u001b[39mshape\u001b[38;5;132;01m}\u001b[39;00m\u001b[38;5;124m\"\u001b[39m)\n\u001b[0;32m    500\u001b[0m \u001b[38;5;28;01mif\u001b[39;00m x\u001b[38;5;241m.\u001b[39mndim \u001b[38;5;241m>\u001b[39m \u001b[38;5;241m2\u001b[39m \u001b[38;5;129;01mor\u001b[39;00m y\u001b[38;5;241m.\u001b[39mndim \u001b[38;5;241m>\u001b[39m \u001b[38;5;241m2\u001b[39m:\n\u001b[0;32m    501\u001b[0m     \u001b[38;5;28;01mraise\u001b[39;00m \u001b[38;5;167;01mValueError\u001b[39;00m(\u001b[38;5;124mf\u001b[39m\u001b[38;5;124m\"\u001b[39m\u001b[38;5;124mx and y can be no greater than 2D, but have \u001b[39m\u001b[38;5;124m\"\u001b[39m\n\u001b[0;32m    502\u001b[0m                      \u001b[38;5;124mf\u001b[39m\u001b[38;5;124m\"\u001b[39m\u001b[38;5;124mshapes \u001b[39m\u001b[38;5;132;01m{\u001b[39;00mx\u001b[38;5;241m.\u001b[39mshape\u001b[38;5;132;01m}\u001b[39;00m\u001b[38;5;124m and \u001b[39m\u001b[38;5;132;01m{\u001b[39;00my\u001b[38;5;241m.\u001b[39mshape\u001b[38;5;132;01m}\u001b[39;00m\u001b[38;5;124m\"\u001b[39m)\n",
      "\u001b[1;31mValueError\u001b[0m: x and y must have same first dimension, but have shapes (1000,) and (20000,)"
     ]
    },
    {
     "data": {
      "image/png": "[encoded data removed]",
      "text/plain": [
       "<Figure size 640x480 with 1 Axes>"
      ]
     },
     "metadata": {},
     "output_type": "display_data"
    }
   ],
   "source": [
    "#generate data from normal distribution\n",
    "data = np.random.randn(1000)\n",
    "\n",
    "#sort data\n",
    "x = np.sort(data)\n",
    "\n",
    "#calculate CDF values\n",
    "y = norm.cdf(x, loc=1, scale=1)\n",
    "y1 = norm.cdf(x, loc=2, scale=1)\n",
    "\n",
    "#plot CDF\n",
    "#plt.plot(data_sorted, norm_cdf)\n",
    "\n",
    "#plot CDF\n",
    "plt.plot(x, y)\n",
    "plt.plot(x, y2)\n",
    "plt.xlabel('x')"
   ]
  },
  {
   "cell_type": "markdown",
   "id": "4242e9b1",
   "metadata": {},
   "source": [
    "### Demonstration of Kurtosis"
   ]
  },
  {
   "cell_type": "markdown",
   "id": "78d94f0d",
   "metadata": {},
   "source": [
    "The kurtosis of the three distributions above can be determined either with pandas or with scipy.<br>\n",
    "Both will be used as a comparison.<br>\n",
    "Note that a normal distribution will have a kurtosis value of 3;<br>\n",
    "A *platykurtic* distribution will have a kurtosis value of less than 3 and produce few and less extreme outliers;<br>\n",
    "A *leptokurtic* distribution will have a kurtosis value of greater than 3 and produce more outliers than a normal distribution."
   ]
  },
  {
   "cell_type": "markdown",
   "id": "86d5c617",
   "metadata": {},
   "source": [
    "### standard deviation of 1"
   ]
  },
  {
   "cell_type": "code",
   "execution_count": null,
   "id": "efbdd584",
   "metadata": {
    "scrolled": true
   },
   "outputs": [],
   "source": [
    "# scipy\n",
    "type(x1)\n",
    "kurtosis(x1)"
   ]
  },
  {
   "cell_type": "code",
   "execution_count": null,
   "id": "a1228223",
   "metadata": {},
   "outputs": [],
   "source": [
    "# Using pandas\n",
    "# convert array to dataframe first\n",
    "df_x1 = pd.DataFrame(data=x1)\n",
    "df_x1.kurtosis()"
   ]
  },
  {
   "cell_type": "markdown",
   "id": "92a3398f",
   "metadata": {},
   "source": [
    "Using Scipy produces an answer with greater precision, but the conclusion is the same: Leptokurtic kurtosis."
   ]
  },
  {
   "cell_type": "markdown",
   "id": "ec6d4c09",
   "metadata": {},
   "source": [
    "### standard deviation of 2"
   ]
  },
  {
   "cell_type": "code",
   "execution_count": null,
   "id": "67a160d8",
   "metadata": {},
   "outputs": [],
   "source": [
    "# scipy\n",
    "kurtosis(x2)"
   ]
  },
  {
   "cell_type": "code",
   "execution_count": null,
   "id": "9f355a00",
   "metadata": {},
   "outputs": [],
   "source": [
    "# Using pandas\n",
    "# convert array to dataframe first\n",
    "df_x2 = pd.DataFrame(data=x2)\n",
    "df_x2.kurtosis()"
   ]
  },
  {
   "cell_type": "markdown",
   "id": "61372a50",
   "metadata": {},
   "source": [
    "Using both Scipy and Pandas shows that the kurtosis is negative - this means that the data has a flatter peak and less data points are on the tails."
   ]
  },
  {
   "cell_type": "markdown",
   "id": "7069e591",
   "metadata": {},
   "source": [
    "### standard deviation of 3"
   ]
  },
  {
   "cell_type": "code",
   "execution_count": null,
   "id": "204e7e13",
   "metadata": {},
   "outputs": [],
   "source": [
    "# scipy\n",
    "kurtosis(x3)"
   ]
  },
  {
   "cell_type": "code",
   "execution_count": null,
   "id": "ee6b70f7",
   "metadata": {},
   "outputs": [],
   "source": [
    "# Using pandas\n",
    "# convert array to dataframe first\n",
    "df_x3 = pd.DataFrame(data=x3)\n",
    "df_x3.kurtosis()"
   ]
  },
  {
   "cell_type": "markdown",
   "id": "77756193",
   "metadata": {},
   "source": [
    "Both tools show that the kurtosis has an increased negative value - an even flatter peak, that can be confirmed from the plot above."
   ]
  },
  {
   "cell_type": "markdown",
   "id": "ee01c0db",
   "metadata": {},
   "source": [
    "### Demonstration of Skewness"
   ]
  },
  {
   "cell_type": "markdown",
   "id": "34e30a89",
   "metadata": {},
   "source": [
    "Skewness is a measure of asymmetry of the distribution relative to the mean.<br>\n",
    "As the distributions were created to be perfectly symetrical about the mean, it can be expected that the three distributions above (x1, x2 and x3) will have a skewness of 0.<br>"
   ]
  },
  {
   "cell_type": "code",
   "execution_count": null,
   "id": "a786f7bd",
   "metadata": {},
   "outputs": [],
   "source": [
    "# using scipy\n",
    "skew(x1)"
   ]
  },
  {
   "cell_type": "code",
   "execution_count": null,
   "id": "a433483a",
   "metadata": {},
   "outputs": [],
   "source": [
    "# Using pandas\n",
    "df_x1.skew()"
   ]
  },
  {
   "cell_type": "code",
   "execution_count": null,
   "id": "84843223",
   "metadata": {},
   "outputs": [],
   "source": [
    "# using scipy\n",
    "skew(x2)"
   ]
  },
  {
   "cell_type": "code",
   "execution_count": null,
   "id": "f5d480da",
   "metadata": {},
   "outputs": [],
   "source": [
    "# using pandas\n",
    "df_x2.skew()"
   ]
  },
  {
   "cell_type": "code",
   "execution_count": null,
   "id": "ac6ca9cb",
   "metadata": {},
   "outputs": [],
   "source": [
    "# using scipy\n",
    "skew(x3)"
   ]
  },
  {
   "cell_type": "code",
   "execution_count": null,
   "id": "b835ba78",
   "metadata": {},
   "outputs": [],
   "source": [
    "# using pandas\n",
    "df_x3.skew()"
   ]
  },
  {
   "cell_type": "markdown",
   "id": "37c08f26",
   "metadata": {},
   "source": [
    "Clearly the skewness is not 0. The calculations will be repeated for real-world data later in this notebook.<br>\n",
    "Calculations from [this website](https://corporatefinanceinstitute.com/resources/data-science/skewness/) will be used to test, using Pearson mode skewness and Pearson median skewness.\n",
    "\n",
    "**Pearson mode skewness**<br>\n",
    "$skewness = \\frac{\\overline{X} - M_0}{s}$\n",
    "\n",
    "\n",
    "**Pearson median skewness**<br>\n",
    "$skewness = \\frac{3\\overline{X} - M_d}{s}$\n",
    "\n",
    "<br>\n",
    "\n",
    "Where:\n",
    "- $X$ = mean value\n",
    "- $M_0$ = Mode value\n",
    "- $s$ = standard deviation of sample\n",
    "- $M_d$ = median value"
   ]
  },
  {
   "cell_type": "code",
   "execution_count": null,
   "id": "58432f8d",
   "metadata": {},
   "outputs": [],
   "source": [
    "# Pearson mode skewness"
   ]
  },
  {
   "cell_type": "code",
   "execution_count": null,
   "id": "bc5daff8",
   "metadata": {},
   "outputs": [],
   "source": [
    "df_x1.median()"
   ]
  },
  {
   "cell_type": "code",
   "execution_count": null,
   "id": "22b4a898",
   "metadata": {},
   "outputs": [],
   "source": [
    "df_x1.mean()\n",
    "df_x1.mode()\n",
    "df_x1.std()\n",
    "skewness_x1 = (df_x1.mean() - df_x1.mode()) / df_x1.std()\n",
    "skewness_x1"
   ]
  },
  {
   "cell_type": "code",
   "execution_count": null,
   "id": "2566703a",
   "metadata": {
    "scrolled": true
   },
   "outputs": [],
   "source": [
    "# Pearson median skewness\n",
    "skewness_x1_2 = ((3 * df_x1.mean()) - df_x1.median()) / df_x1.std()\n",
    "skewness_x1_2"
   ]
  },
  {
   "cell_type": "markdown",
   "id": "d312848e",
   "metadata": {},
   "source": [
    "So using the Pearson median skewness calculation gives a different value to scipy's default calculation.<br>\n",
    "Use a skewtest to determine "
   ]
  },
  {
   "cell_type": "code",
   "execution_count": null,
   "id": "15b6a490",
   "metadata": {},
   "outputs": [],
   "source": [
    "# Run skewtest on x1\n",
    "skewtest(x1, alternative='two-sided')"
   ]
  },
  {
   "cell_type": "markdown",
   "id": "b9df42a0",
   "metadata": {},
   "source": [
    "The [skewtest](https://docs.scipy.org/doc/scipy/reference/generated/scipy.stats.skewtest.html#scipy.stats.skewtest) returns a z-score and a p-value.<br>\n",
    "It shows that because the p value is 0, there is no skewness.<br>\n",
    "\n",
    "The skewtest can be repeated for *x1* and *x2* before using scipy and doing the calculation manually."
   ]
  },
  {
   "cell_type": "code",
   "execution_count": null,
   "id": "c772a2c0",
   "metadata": {},
   "outputs": [],
   "source": [
    "# Skew test for second distribution with a standard deviation of 2\n",
    "skewtest(x2, alternative='two-sided')"
   ]
  },
  {
   "cell_type": "code",
   "execution_count": null,
   "id": "6f302f5a",
   "metadata": {},
   "outputs": [],
   "source": [
    "# Skew test for third distribution with a standard deviation of 3\n",
    "skewtest(x3, alternative='two-sided')"
   ]
  },
  {
   "cell_type": "markdown",
   "id": "babd1c6d",
   "metadata": {},
   "source": [
    "The skew tests confirm that the distributions are not skewed."
   ]
  },
  {
   "cell_type": "code",
   "execution_count": null,
   "id": "40019508",
   "metadata": {},
   "outputs": [],
   "source": [
    "# pandas\n",
    "df_x2.skew()"
   ]
  },
  {
   "cell_type": "code",
   "execution_count": null,
   "id": "566f1eb3",
   "metadata": {},
   "outputs": [],
   "source": [
    "# scipy\n",
    "skew(x2)"
   ]
  },
  {
   "cell_type": "code",
   "execution_count": null,
   "id": "e6ddab03",
   "metadata": {},
   "outputs": [],
   "source": [
    "# Pearson median calculations for x2\n",
    "df_x2.mean()\n",
    "df_x2.mode()\n",
    "df_x2.std()\n",
    "skewness_x2 = ((3 * df_x2.mean()) - df_x2.median()) / df_x2.std()\n",
    "skewness_x2"
   ]
  },
  {
   "cell_type": "code",
   "execution_count": null,
   "id": "a5e486fd",
   "metadata": {},
   "outputs": [],
   "source": [
    "# pandas\n",
    "df_x3.skew()"
   ]
  },
  {
   "cell_type": "code",
   "execution_count": null,
   "id": "96f87954",
   "metadata": {},
   "outputs": [],
   "source": [
    "# scipy\n",
    "skew(x3)"
   ]
  },
  {
   "cell_type": "markdown",
   "id": "8e494502",
   "metadata": {},
   "source": [
    "The calculations will be repeated later in this notebook for a variable taken from a real dataset."
   ]
  },
  {
   "cell_type": "markdown",
   "id": "aa00c7eb",
   "metadata": {},
   "source": [
    "## The empirical rule"
   ]
  },
  {
   "cell_type": "markdown",
   "id": "8de232a8",
   "metadata": {},
   "source": [
    "The empirical rule is also known as *the three-sigma rule* or *68-95-99.7 rule*.\n",
    "This rule states that statistically, for a normal distribution, the majority of the data under observation will fall within three standard deviations.\n",
    "- 68% of data observed will fall in the first standard deviation;\n",
    "- 95% of data observed will fall in the first two standard deviations;\n",
    "- 99.7% of data observed will fall in the first three standard deviations.\n",
    "\n",
    "The empirical rule can be used as a way to test how 'normal' a distribution is - i.e. if it looks like a bell curve, but when analysed further, isn't a perfect normal distribution.\n",
    "Outliers can also be found when using the empirical rule, especially if 99.7% of data falls within three standard deviations."
   ]
  },
  {
   "cell_type": "markdown",
   "id": "ad3e3433",
   "metadata": {},
   "source": [
    "The probability density function of the normal distribution is:"
   ]
  },
  {
   "cell_type": "markdown",
   "id": "23a749f0",
   "metadata": {},
   "source": [
    "$p(x)$ = $\\frac{1}{\\sqrt{2\\pi\\sigma^2}}e^-\\frac{(x-\\mu)^2}{2\\sigma}$"
   ]
  },
  {
   "cell_type": "markdown",
   "id": "ab0ce4af",
   "metadata": {},
   "source": [
    "Where:<br>\n",
    "$x$ is the data under consideration;<br>\n",
    "$p(x)$ is the probability function;<br>\n",
    "$\\mu$ is the *mean*;<br>\n",
    "$\\sigma$ is the *standard deviation*."
   ]
  },
  {
   "cell_type": "markdown",
   "id": "c83da55e",
   "metadata": {},
   "source": [
    "## The Central Limit Theorem"
   ]
  },
  {
   "cell_type": "markdown",
   "id": "873afcfe",
   "metadata": {},
   "source": [
    "The [central limit theorem](https://en.wikipedia.org/wiki/Central_limit_theorem) states that when many independent variables are summed up, the *normalised* sum tends towards a normal distribution even if the original variables themselves aren't normally distributed.\n",
    "\n",
    "This is regarded as a fundamental concept in probability theory because it infers that probabilistic and statistical methods that can be applied to normal distributions can also be applied to other problems that involve other types of probability distributions.\n",
    "\n",
    "This can be defined mathematically as follows:\n"
   ]
  },
  {
   "cell_type": "markdown",
   "id": "82d8c907",
   "metadata": {},
   "source": [
    "The mean of the sampling distribution will be equal to the mean of the population distribution:<br>\n",
    "\n",
    "$$\\mu{_{\\overline{x}}} = \\mu$$"
   ]
  },
  {
   "cell_type": "markdown",
   "id": "f7537e4b",
   "metadata": {},
   "source": [
    "The variance of the sampling distribution will be equal to the variance of the population distribution, divided by sample size:\n",
    "<br>\n",
    "\n",
    "\n",
    "$${\\sigma_{\\overline x}}^2 = \\frac{\\sigma^2}{n}$$\n",
    "\n",
    "\n"
   ]
  },
  {
   "cell_type": "markdown",
   "id": "4eb9b985",
   "metadata": {},
   "source": [
    "### Standard Error\n",
    "\n",
    "From the above, the *standard error* can be obtained by solving for $\\sigma{_{\\overline{x}}}$, where $n$ is the sample size.\n",
    "\n",
    "$$\\sigma{_{\\overline{x}}} = \\frac{\\sigma}{\\sqrt{n}} $$\n",
    "\n",
    "<br>\n",
    "\n",
    "The *standard error* of a statistic is the standard deviation $\\sigma$ of a sample distribution, where the sample distribution of the population mean is generated by repeatedly sampling and noting the means.<br>\n",
    "These means will then form a distribution  - note that this distribution will have it's own mean $\\mu$ and standard deviation $\\sigma$.<br>\n",
    "\n",
    "As the sample size increases, the sample means gets closer to the population mean."
   ]
  },
  {
   "cell_type": "markdown",
   "id": "fb8371e9",
   "metadata": {},
   "source": [
    "## Real-world data"
   ]
  },
  {
   "cell_type": "markdown",
   "id": "5163d919",
   "metadata": {},
   "source": [
    "For this, a dataset from the UCI Machine Learning Repository will be used - The [Wisconsin Breast Cancer dataset](https://archive.ics.uci.edu/ml/datasets/Breast+Cancer+Wisconsin+%28Diagnostic%29)."
   ]
  },
  {
   "cell_type": "markdown",
   "id": "90edcdb3",
   "metadata": {},
   "source": [
    "### Check folder"
   ]
  },
  {
   "cell_type": "code",
   "execution_count": null,
   "id": "4c4daba1",
   "metadata": {},
   "outputs": [],
   "source": [
    "# Print out what's in the same folder as this notebook. \n",
    "# 'dataset' should be a folder in there, and within that, the wisconsin breast cancer dataset.\n",
    "print(os.listdir(\"../project\"))"
   ]
  },
  {
   "cell_type": "markdown",
   "id": "39b7b048",
   "metadata": {},
   "source": [
    "### Import dataset"
   ]
  },
  {
   "cell_type": "code",
   "execution_count": null,
   "id": "1f9c77c9",
   "metadata": {},
   "outputs": [],
   "source": [
    "# Import the dataset and list variables.\n",
    "df = pd.read_csv(\"../project/dataset/wisconsin.csv\")\n",
    "df.info()"
   ]
  },
  {
   "cell_type": "markdown",
   "id": "e3367bf5",
   "metadata": {},
   "source": [
    "### Basic statistics of a variable"
   ]
  },
  {
   "cell_type": "code",
   "execution_count": null,
   "id": "1e7bb32c",
   "metadata": {},
   "outputs": [],
   "source": [
    "# Look at one variable - 'smoothness mean' of the tumours recorded.\n",
    "df_sm = df['smoothness_mean']\n",
    "# Looking the statisc of 'smoothness mean'\n",
    "df_sm.describe()"
   ]
  },
  {
   "cell_type": "code",
   "execution_count": null,
   "id": "c01852e2",
   "metadata": {},
   "outputs": [],
   "source": [
    "# Look at the mean of the smoothness mean\n",
    "df_sm.mean()"
   ]
  },
  {
   "cell_type": "code",
   "execution_count": null,
   "id": "afaedcd9",
   "metadata": {},
   "outputs": [],
   "source": [
    "# Plot the variable 'smoothness_mean' with a vertical red line for the mean.\n",
    "sns.set_context(\"paper\", font_scale=2)\n",
    "plt.figure(figsize=(20, 12))\n",
    "plt.axvline(x=df_sm.mean(),color='r')\n",
    "sns.histplot(df['smoothness_mean'],color='blue', bins=100, kde=True)\n",
    "plt.show()"
   ]
  },
  {
   "cell_type": "markdown",
   "id": "b5df0a0e",
   "metadata": {},
   "source": [
    "## Kurtosis of data using Pandas and Scipy"
   ]
  },
  {
   "cell_type": "markdown",
   "id": "fc28e6db",
   "metadata": {},
   "source": [
    "Kurtosis is a measure of how 'fat' the tails are in a distribution.<br>\n",
    "The higher the value for kurtosis, the wider the tails are.<br>\n",
    "A negative value for kurtosis would indicate that the majority of data points are grouped closely around the mean with few outliers."
   ]
  },
  {
   "cell_type": "code",
   "execution_count": null,
   "id": "d8a131fb",
   "metadata": {},
   "outputs": [],
   "source": [
    "# Kurtosis using pandas\n",
    "df_sm.kurtosis()"
   ]
  },
  {
   "cell_type": "code",
   "execution_count": null,
   "id": "52c20fab",
   "metadata": {},
   "outputs": [],
   "source": [
    "# Kurtosis using scipy stats\n",
    "kurtosis(df_sm)"
   ]
  },
  {
   "cell_type": "markdown",
   "id": "d7ebbadd",
   "metadata": {},
   "source": [
    "it can be seen that there's some disparity in the kurtosis results between pandas and scipy.<br>\n",
    "[Pandas](https://pandas.pydata.org/docs/reference/api/pandas.DataFrame.kurtosis.html) uses Fisher's definition of kurtosis, whereas scipy can use either Fisher's or Pearson's definition of kurtosis.<br>\n",
    "\n",
    "From the reference documents, scipy has a boolean option to correct the calculation for statistical bias."
   ]
  },
  {
   "cell_type": "markdown",
   "id": "42e5cff4",
   "metadata": {},
   "source": [
    "### Correction for statistical bias"
   ]
  },
  {
   "cell_type": "code",
   "execution_count": null,
   "id": "834a04c2",
   "metadata": {},
   "outputs": [],
   "source": [
    "# Correct for statistical bias\n",
    "kurtosis(df_sm, bias=False)"
   ]
  },
  {
   "cell_type": "markdown",
   "id": "5aab11bb",
   "metadata": {},
   "source": [
    "So it can be seen that the scipy calculation is exactly the same as the pandas calculation when corrected for statistical bias."
   ]
  },
  {
   "cell_type": "markdown",
   "id": "e069258c",
   "metadata": {},
   "source": [
    "### Normalise data and recalculate"
   ]
  },
  {
   "cell_type": "code",
   "execution_count": null,
   "id": "06c055d6",
   "metadata": {},
   "outputs": [],
   "source": [
    "## Normalise data about 0\n",
    "x = (df_sm - df_sm.mean()) / df_sm.std()\n",
    "x"
   ]
  },
  {
   "cell_type": "code",
   "execution_count": null,
   "id": "e393a667",
   "metadata": {},
   "outputs": [],
   "source": [
    "sns.set_context(\"paper\", font_scale=2)\n",
    "plt.figure(figsize=(20, 12))\n",
    "# Left vertical line for consistency, but mean is 0.\n",
    "plt.axvline(x=x.mean(),color='r')\n",
    "sns.histplot(x,color='blue', bins=100, kde=True)\n",
    "plt.show()"
   ]
  },
  {
   "cell_type": "code",
   "execution_count": null,
   "id": "2e8fd768",
   "metadata": {},
   "outputs": [],
   "source": [
    "# pandas\n",
    "x.kurtosis()"
   ]
  },
  {
   "cell_type": "code",
   "execution_count": null,
   "id": "de0bab1b",
   "metadata": {},
   "outputs": [],
   "source": [
    "# scipy\n",
    "kurtosis(x, bias=False)"
   ]
  },
  {
   "cell_type": "markdown",
   "id": "6e42b45d",
   "metadata": {},
   "source": [
    "So normalising the data about 0 has no effect on the calculations for kurtosis."
   ]
  },
  {
   "cell_type": "markdown",
   "id": "cb341aae",
   "metadata": {},
   "source": [
    "## Skewness of data using pandas and scipy"
   ]
  },
  {
   "cell_type": "code",
   "execution_count": null,
   "id": "cd9ffd6a",
   "metadata": {},
   "outputs": [],
   "source": [
    "# Run a skew test on input variable\n",
    "skewtest(df_sm)"
   ]
  },
  {
   "cell_type": "code",
   "execution_count": null,
   "id": "c43d1c04",
   "metadata": {},
   "outputs": [],
   "source": [
    "# Pandas \n",
    "df_sm.skew()"
   ]
  },
  {
   "cell_type": "code",
   "execution_count": null,
   "id": "7dcef092",
   "metadata": {},
   "outputs": [],
   "source": [
    "# Scipy\n",
    "skew(df_sm)"
   ]
  },
  {
   "cell_type": "markdown",
   "id": "d655c13d",
   "metadata": {},
   "source": [
    "Both tools show that the variable is slightly positively skewed. This should indicate that:\n",
    "- The mean ($\\mu$) is greater than the median<br>\n",
    "- The mode occurs at the highest frequency.<br>\n",
    "\n",
    "This can be confirmed or disproven using pandas: <br>"
   ]
  },
  {
   "cell_type": "code",
   "execution_count": null,
   "id": "6223904d",
   "metadata": {},
   "outputs": [],
   "source": [
    "print(f'The mean value is: {df_sm.mean()}')\n",
    "print(f'The median value is: {df_sm.median()}')\n",
    "print(f'The mode is: {df_sm.mode()}')"
   ]
  },
  {
   "cell_type": "markdown",
   "id": "57625874",
   "metadata": {},
   "source": [
    "So the mean is indeed higher than the median, just, and the value for the mode has also been determined.<br>\n",
    "The variable data can be re-plotted with these values."
   ]
  },
  {
   "cell_type": "code",
   "execution_count": null,
   "id": "a06fd3cf",
   "metadata": {
    "scrolled": false
   },
   "outputs": [],
   "source": [
    "# Plot the variable 'smoothness_mean' with a vertical red line for the mean.\n",
    "sns.set_context(\"paper\", font_scale=2)\n",
    "plt.figure(figsize=(20, 12))\n",
    "# Plot the mean\n",
    "plt.axvline(x=df_sm.mean(),color='r')\n",
    "# Plot the median\n",
    "plt.axvline(x=df_sm.median(), color='g')\n",
    "# Plot the mode\n",
    "plt.axvline(x=0.1007, color='gray', linestyle='dashed')\n",
    "sns.histplot(df['smoothness_mean'],color='blue', bins=100, kde=True)\n",
    "plt.show()"
   ]
  },
  {
   "cell_type": "markdown",
   "id": "6061cdbc",
   "metadata": {},
   "source": [
    "In this case, plotting the data with the kernel density estimation (kde) was a good indicator for how normal the distribution was and whether it was skewed - note the slight 'bump' at the top of the plot that corresponds to the value for the mode."
   ]
  },
  {
   "cell_type": "markdown",
   "id": "19655320",
   "metadata": {},
   "source": [
    "## The central limit theorem: real world data"
   ]
  },
  {
   "cell_type": "markdown",
   "id": "2f01abe5",
   "metadata": {},
   "source": [
    "### Mean of sample size"
   ]
  },
  {
   "cell_type": "code",
   "execution_count": null,
   "id": "bfce4e9d",
   "metadata": {},
   "outputs": [],
   "source": [
    "# Take sample size=10, samples=300\n",
    "# Calculate mean and plot the mean of sample 300 times\n",
    "\n",
    "array = []\n",
    "n = 300\n",
    "for i in range(1,n):\n",
    "    array.append(df_sm.sample(n=30,replace= True).mean())\n",
    "\n",
    "sns.set_context(\"paper\", font_scale=2)\n",
    "plt.figure(figsize=(20, 12))\n",
    "plt.axvline(x=np.mean(array),color='r') # for giving mean line\n",
    "sns.histplot(array,color='blue', bins=100, kde=True)\n",
    "plt.show()\n",
    "\n",
    "# Print the mean of the array\n",
    "print(np.mean(array))"
   ]
  },
  {
   "cell_type": "markdown",
   "id": "90c2799e",
   "metadata": {},
   "source": [
    "So from the large amount of samples, the mean is very close the mean of the variable itself.<br>\n",
    "Now the sample size will increase to see how the mean of the sample size approaches the mean of the population data (the variable 'smoothness_mean' in this case)."
   ]
  },
  {
   "cell_type": "markdown",
   "id": "5357f817",
   "metadata": {},
   "source": [
    "### Mean of different sample sizes"
   ]
  },
  {
   "cell_type": "code",
   "execution_count": null,
   "id": "a0ad58cd",
   "metadata": {
    "scrolled": false
   },
   "outputs": [],
   "source": [
    "# Trying to get multiple plots in seaborn\n",
    "array1 = []\n",
    "array2 = []\n",
    "array3 = []\n",
    "array4 = []\n",
    "n = 300\n",
    "for i in range(1,n):\n",
    "    array1.append(df_sm.sample(n=30,replace= True).mean())\n",
    "    array2.append(df_sm.sample(n=60,replace= True).mean())\n",
    "    array3.append(df_sm.sample(n=120,replace= True).mean())\n",
    "    array4.append(df_sm.sample(n=240,replace= True).mean())\n",
    "\n",
    "# Set figure size\n",
    "sns.set_context(\"paper\", font_scale=2)\n",
    "plt.figure(figsize=(20, 12))\n",
    "if len(array1):\n",
    "    #sns.set_context(\"paper\", font_scale=2)\n",
    "    #plt.figure(figsize=(20, 12))\n",
    "    # the mean line\n",
    "    plt.axvline(x=np.mean(array1),color='r') \n",
    "    sns.histplot(array1,color='blue',bins=100, kde=True).set(title=\"Sample size = 30\")\n",
    "    print(f'The mean of array 1 (sample size = 30) is: {np.mean(array1)}')\n",
    "\n",
    "if len(array2):\n",
    "    sns.set_context(\"paper\", font_scale=2)\n",
    "    plt.figure(figsize=(20, 12))\n",
    "    # the mean line\n",
    "    plt.axvline(x=np.mean(array2),color='r') \n",
    "    sns.histplot(array2, color='orange',bins=100, kde=True).set(title=\"Sample size = 60\")\n",
    "    print(f'The mean of array 2 (sample size = 60) is: {np.mean(array2)}')\n",
    "\n",
    "if len(array3):\n",
    "    sns.set_context(\"paper\", font_scale=2)\n",
    "    plt.figure(figsize=(20, 12))\n",
    "    # the mean line\n",
    "    plt.axvline(x=np.mean(array3),color='r') \n",
    "    sns.histplot(array3, color='green',bins=100, kde=True).set(title=\"Sample size = 120\")\n",
    "    print(f'The mean of array 3 (sample size = 120) is: {np.mean(array3)}')\n",
    "\n",
    "if len(array4):\n",
    "    sns.set_context(\"paper\", font_scale=2)\n",
    "    plt.figure(figsize=(20, 12))\n",
    "    # the mean line\n",
    "    plt.axvline(x=np.mean(array4),color='r') \n",
    "    sns.histplot(array4, color='gray',bins=100, kde=True).set(title=\"Sample size = 240\")\n",
    "    print(f'The mean of array 4 (sample size = 240) is: {np.mean(array4)}')\n"
   ]
  },
  {
   "cell_type": "markdown",
   "id": "84838d92",
   "metadata": {},
   "source": [
    "So as the sample size increases, the sample mean approaches the mean of the population mean (the 'smoothness_mean' variable in this case)."
   ]
  },
  {
   "cell_type": "markdown",
   "id": "a67d8c7f",
   "metadata": {},
   "source": [
    "To recap:<br>\n",
    "- A dataset (well studied) was chosen and a variable within that dataset was plotted.\n",
    "- The variable was found to have a normal distribution\n",
    "- The mean of the variable was found (population mean)\n",
    "- various sample sizes were taken and compared with the population mean\n",
    "- As sample size increases, the sample mean can be approximated with the population mean."
   ]
  },
  {
   "cell_type": "markdown",
   "id": "c5bca716",
   "metadata": {},
   "source": [
    "## Proof of the Empirical rule"
   ]
  },
  {
   "cell_type": "markdown",
   "id": "6884b6e7",
   "metadata": {},
   "source": [
    "Continuing to use the variable from the breast cancer dataset, the Empirical rule can be used to estimate the variables spread.\n",
    "To recap:\n",
    "- 68.26% of the variable's data falls within one standard deviation of the mean ($\\mu \\pm1\\sigma$)\n",
    "- 95.44% of the variable's data falls within two standard deviations of the mean ($\\mu \\pm2\\sigma$)\n",
    "- 99.7% of the variable's data falls within three standard deviations of the mean ($\\mu \\pm3\\sigma$)\n",
    "\n",
    "<br>\n",
    "\n",
    "\n",
    "To work through the empirical rule, there can be a recap of the data and then variables for $\\mu \\pm1\\sigma$, $\\mu \\pm2\\sigma$ and $\\mu \\pm3\\sigma$ can be created so calculations are easier to work with.\n",
    "The plot of the variable data can then be plotted again ('smoothness_mean') with the above variables added to it.\n",
    "\n",
    "<br>\n",
    "After plotting the vertical lines for the standard deviations, pandas can be used to count the data from the mean to ($\\pm1\\sigma$) to see whether the empirical rule is a good example of the variable."
   ]
  },
  {
   "cell_type": "markdown",
   "id": "5512aec6",
   "metadata": {},
   "source": [
    "### Recap of data"
   ]
  },
  {
   "cell_type": "code",
   "execution_count": null,
   "id": "048b4466",
   "metadata": {},
   "outputs": [],
   "source": [
    "# Basic statistics of the variable 'smoothness_mean'\n",
    "df_sm.describe()"
   ]
  },
  {
   "cell_type": "code",
   "execution_count": null,
   "id": "62833ace",
   "metadata": {},
   "outputs": [],
   "source": [
    "# Get the standard deviation again.\n",
    "df_sm.std()"
   ]
  },
  {
   "cell_type": "markdown",
   "id": "3f00ad4f",
   "metadata": {},
   "source": [
    "### Standard deviations about the mean"
   ]
  },
  {
   "cell_type": "markdown",
   "id": "11d04cda",
   "metadata": {},
   "source": [
    "Create variables for the standard deviations about the mean and display the values.<br>\n",
    "The variables will be later used to plot the standard deviations with the original data.                                                                                     "
   ]
  },
  {
   "cell_type": "code",
   "execution_count": null,
   "id": "7e6f7c73",
   "metadata": {},
   "outputs": [],
   "source": [
    "# Create variables to plot:\n",
    "# 1sd, 2sd, 3sd \n",
    "one_sd = df_sm.std() + df_sm.mean()\n",
    "print(f'The mean + 1 standard deviation is: {one_sd}')\n",
    "\n",
    "one_sd_minus = df_sm.mean() - df_sm.std()\n",
    "print(f'The mean - 1 standard deviation is: {one_sd_minus}')\n",
    "\n",
    "two_sd = (2 * df_sm.std()) + df_sm.mean()\n",
    "print(f'\\nThe mean + 2 standard deviations is: {two_sd}')\n",
    "\n",
    "two_sd_minus = df_sm.mean() - (2 * df_sm.std())\n",
    "print(f'The mean - 2 standard deviations is: {two_sd_minus}')\n",
    "\n",
    "three_sd = (3 * df_sm.std()) + df_sm.mean()\n",
    "print(f'\\nThe mean + 3 standard deviations is: {three_sd}')\n",
    "three_sd_minus = df_sm.mean() - (3 * df_sm.std())\n",
    "print(f'The mean - 3 standard deviations is: {three_sd_minus}')"
   ]
  },
  {
   "cell_type": "markdown",
   "id": "25acc64f",
   "metadata": {},
   "source": [
    "### Plot the standard deviations"
   ]
  },
  {
   "cell_type": "markdown",
   "id": "bc2c0352",
   "metadata": {},
   "source": [
    "The standard deviations will be plotted against the original data as follows:<br>\n",
    "- ($\\mu \\pm1\\sigma$)\n",
    "- ($\\mu \\pm2\\sigma$)\n",
    "- ($\\mu \\pm3\\sigma$)\n",
    "<br>\n",
    "\n",
    "Where ($\\mu +1\\sigma$) up to ($\\mu +3\\sigma$) will have solid lines and<br>\n",
    "($\\mu -1\\sigma$) up to ($\\mu -3\\sigma$) will have dashed lines.<br>"
   ]
  },
  {
   "cell_type": "code",
   "execution_count": null,
   "id": "42576969",
   "metadata": {},
   "outputs": [],
   "source": [
    "# Dashed lines are the standard deviations away from the mean.\n",
    "# Plot the variable 'smoothness_mean' with a vertical red line for the mean.\n",
    "sns.set_context(\"paper\", font_scale=2)\n",
    "plt.figure(figsize=(20, 12))\n",
    "# Plot the mean\n",
    "plt.axvline(x=df_sm.mean(),color='r')\n",
    "# Plot 1 sd away from mean\n",
    "plt.axvline(x=one_sd,color='g')\n",
    "plt.axvline(x=one_sd_minus,color='g', linestyle='dashed')\n",
    "\n",
    "# Plot 2 sd away from mean\n",
    "plt.axvline(x=two_sd,color='b')\n",
    "plt.axvline(x=two_sd_minus,color='b', linestyle='dashed')\n",
    "\n",
    "# Plot 3 sd away from mean\n",
    "plt.axvline(x=three_sd,color='y')\n",
    "plt.axvline(x=three_sd_minus,color='y', linestyle='dashed')\n",
    "\n",
    "# Plot histogram\n",
    "sns.histplot(df['smoothness_mean'],color='blue', bins=100, kde=True)\n",
    "plt.legend(labels=[\"mean\", \"one_sd\", \"one_sd_minus\", \"two_sd\", \"two_sd_minus\", \"three_sd\", \"three_sd_minus\"])\n",
    "#plt.legend(True)\n",
    "plt.show()"
   ]
  },
  {
   "cell_type": "markdown",
   "id": "b6bea844",
   "metadata": {},
   "source": [
    "Now count the values from the mean to the first standard deviation, either way from the mean.<br>\n",
    "From looking at the graph, there actually appears to be a higher number of values between $\\mu -1\\sigma$ and  $\\mu -2\\sigma$ <br>\n",
    "Let the calculations confirm or disprove."
   ]
  },
  {
   "cell_type": "markdown",
   "id": "f3a5168e",
   "metadata": {},
   "source": [
    "### Confirmation of Empirical rule"
   ]
  },
  {
   "cell_type": "markdown",
   "id": "dae07fcf",
   "metadata": {},
   "source": [
    "Now work through each standard deviation and see whether the following is true:<br>\n",
    "- 68.26% of the data falls within ($\\mu \\pm1\\sigma$)  \n",
    "- 95.44% of the data falls within ($\\mu \\pm2\\sigma$)\n",
    "- 99.7% of the data falls within ($\\mu \\pm3\\sigma$)\n",
    "\n",
    "Although the figures above are for a *perfect* normal distribution, where the data is symetrical about the mean, and real-world data is being analysed.\n",
    "\n",
    "The process will be:\n",
    "- Count the data for each standard deviation away from the mean, both positive and negative;\n",
    "- Calculate the percentage of the data between the mean and standard deviation;\n",
    "- See how it compares to the empirical rule."
   ]
  },
  {
   "cell_type": "markdown",
   "id": "68c68427",
   "metadata": {},
   "source": [
    "### One standard deviation"
   ]
  },
  {
   "cell_type": "code",
   "execution_count": null,
   "id": "65a6275c",
   "metadata": {},
   "outputs": [],
   "source": [
    "# Count from mean + 1 sd\n",
    "count_one_sd = df_sm[(df_sm > df_sm.mean()) & (df_sm < one_sd)].count()\n",
    "print(f'Count of mean to +1 standard deviation: {count_one_sd}')"
   ]
  },
  {
   "cell_type": "code",
   "execution_count": null,
   "id": "cfe3e8af",
   "metadata": {
    "scrolled": true
   },
   "outputs": [],
   "source": [
    "# Get the percentage to see how much of the data falls within plus/minus 1 sd of the mean\n",
    "one_sigma = ((count_one_sd / df_sm.count()) * 100)\n",
    "print(f'{one_sigma:.4f}')"
   ]
  },
  {
   "cell_type": "code",
   "execution_count": null,
   "id": "d70934de",
   "metadata": {},
   "outputs": [],
   "source": [
    "# count from mean - 1 sd\n",
    "count_one_sd_minus = df_sm[(df_sm > one_sd_minus) & (df_sm < df_sm.mean())].count()\n",
    "print(f'Count of (mean - 1 standard deviation) to mean: {count_one_sd_minus}')"
   ]
  },
  {
   "cell_type": "code",
   "execution_count": null,
   "id": "58df65e2",
   "metadata": {},
   "outputs": [],
   "source": [
    "# percentage of -1 sigma\n",
    "one_sigma_minus = ((count_one_sd_minus / df_sm.count()) * 100)\n",
    "print(f'{one_sigma_minus:.4f}')"
   ]
  },
  {
   "cell_type": "code",
   "execution_count": null,
   "id": "ad250bd7",
   "metadata": {},
   "outputs": [],
   "source": [
    "# Add (mean + 1sd) and (mean - 1sd) to see wether it matches empirical rule.\n",
    "print(f'Total percentage for plus/minus one standard deviation from the mean: {one_sigma + one_sigma_minus:.4f}%')"
   ]
  },
  {
   "cell_type": "markdown",
   "id": "b49b92f9",
   "metadata": {},
   "source": [
    "So 69.6% versus 68.26% for the empirical rule. Good enough to proceed with the calculation for the count between the mean and the second standard deviation."
   ]
  },
  {
   "cell_type": "markdown",
   "id": "79453d01",
   "metadata": {},
   "source": [
    "### Two Standard deviations"
   ]
  },
  {
   "cell_type": "code",
   "execution_count": null,
   "id": "8e2c74c5",
   "metadata": {},
   "outputs": [],
   "source": [
    "# Count the value from the first standard deviation to the second standard deviation\n",
    "count_two_sd = df_sm[(df_sm > df_sm.mean() + df_sm.std()) & (df_sm < two_sd)].count()\n",
    "print(f'The count from the first standard deviation to the second standard deviation: {count_two_sd}')"
   ]
  },
  {
   "cell_type": "code",
   "execution_count": null,
   "id": "efc08569",
   "metadata": {},
   "outputs": [],
   "source": [
    "# Count the value from (mean - 2sd) to mean - 1sd\n",
    "#count_one_sd_minus = df_sm[(df_sm > one_sd_minus) & (df_sm < df_sm.mean())].count()\n",
    "count_two_sd_minus = df_sm[(df_sm > two_sd_minus) & (df_sm < one_sd_minus)].count()\n",
    "count_two_sd_minus\n",
    "print(f'The count from (mean - 2 sd) to (mean - 1 sd): {count_two_sd_minus}')"
   ]
  },
  {
   "cell_type": "code",
   "execution_count": null,
   "id": "ce759c9b",
   "metadata": {},
   "outputs": [],
   "source": [
    "# Get the percentage value of the count between the first and second standard deviation.\n",
    "two_sigma = ((count_two_sd / df_sm.count()) * 100)\n",
    "print(f'{two_sigma:.4f}%')"
   ]
  },
  {
   "cell_type": "code",
   "execution_count": null,
   "id": "2257a6de",
   "metadata": {},
   "outputs": [],
   "source": [
    "# Get the percentage of the count between the second and first standard deviation\n",
    "two_sigma_minus = ((count_two_sd_minus / df_sm.count()) * 100)\n",
    "print(f'{two_sigma_minus:.4f}%')"
   ]
  },
  {
   "cell_type": "code",
   "execution_count": null,
   "id": "471e32f9",
   "metadata": {},
   "outputs": [],
   "source": [
    "# Add the values for one_sigma and two_sigma together to see whether data conforms to the empirical rule.\n",
    "print(f'Positive two standard deviations: {one_sigma + two_sigma:.4f}%')\n",
    "print(f'Negative two standard deviations: {one_sigma_minus + two_sigma_minus:.4f}%')\n",
    "print(f'\\nTotal positive and negative: {one_sigma + two_sigma + one_sigma_minus + two_sigma_minus:.4f}%')"
   ]
  },
  {
   "cell_type": "markdown",
   "id": "9c0f4a29",
   "metadata": {},
   "source": [
    "Not quite the 95.44% that was stated at the start; however, the data wasn't centred about 0 and this is data from real data set, not theoretical values.<br>\n",
    "Also note that 'Negative two standard deviations' is not actuall negative as the data is not centred about 0, but rather <br>\n",
    "$\\mu \\pm2\\sigma$ <br>\n",
    "\n",
    "\n",
    "The final calculation will be the third standard deviation."
   ]
  },
  {
   "cell_type": "markdown",
   "id": "1f573182",
   "metadata": {},
   "source": [
    "### Three standard deviations"
   ]
  },
  {
   "cell_type": "code",
   "execution_count": null,
   "id": "ece03ceb",
   "metadata": {},
   "outputs": [],
   "source": [
    "# Count the value from the second standard deviation to the third standard deviation\n",
    "count_three_sd = df_sm[(df_sm > df_sm.mean() + (2 * df_sm.std())) & (df_sm < three_sd)].count()\n",
    "print(f'The count from the second standard deviation to the third standard deviation: {count_three_sd}')"
   ]
  },
  {
   "cell_type": "code",
   "execution_count": null,
   "id": "71aca826",
   "metadata": {},
   "outputs": [],
   "source": [
    "# Get the percentage value of the count between the second and third standard deviations.\n",
    "three_sigma = ((count_three_sd / df_sm.count()) * 100)\n",
    "print(f'{three_sigma:.4f}%')"
   ]
  },
  {
   "cell_type": "code",
   "execution_count": null,
   "id": "84fa25c8",
   "metadata": {},
   "outputs": [],
   "source": [
    "# Count from (mean - 3 sd) to (mean - 2 sd)\n",
    "count_three_sd_minus = df_sm[(df_sm > three_sd_minus) & (df_sm < two_sd_minus)].count()\n",
    "count_three_sd_minus\n",
    "print(f'The count from the third standard deviation to the second standard deviation: {count_three_sd_minus}')"
   ]
  },
  {
   "cell_type": "code",
   "execution_count": null,
   "id": "42449060",
   "metadata": {},
   "outputs": [],
   "source": [
    "# Get the percentage value of the count between the third and second standard deviations.\n",
    "three_sigma_minus = ((count_three_sd_minus / df_sm.count()) * 100)\n",
    "print(f'{three_sigma_minus:.4f}%')"
   ]
  },
  {
   "cell_type": "code",
   "execution_count": null,
   "id": "48609c73",
   "metadata": {},
   "outputs": [],
   "source": [
    "# Add the percentage values from each of the standard deviations\n",
    "print(f'Positive three standard deviations: {one_sigma + two_sigma + three_sigma:.4f}%')\n",
    "print(f'Negative three standard deviations: {one_sigma_minus + two_sigma_minus + three_sigma_minus:.4f}%')"
   ]
  },
  {
   "cell_type": "markdown",
   "id": "cbbcd831",
   "metadata": {},
   "source": [
    "$\\mu \\pm3\\sigma$"
   ]
  },
  {
   "cell_type": "code",
   "execution_count": null,
   "id": "d03d15d4",
   "metadata": {
    "scrolled": true
   },
   "outputs": [],
   "source": [
    "print(f'Total positive and negative: {one_sigma + two_sigma + three_sigma + one_sigma_minus + two_sigma_minus + three_sigma_minus:.4f}%')"
   ]
  },
  {
   "cell_type": "markdown",
   "id": "3d915bd0",
   "metadata": {},
   "source": [
    "So, 99.12% versus 99.7% for the empirical rule.<br>\n",
    "In the real world, data isn't perfectly distributed, so this is a good example of using the empirical rule to confirm that the data conforms to statistical calculations."
   ]
  },
  {
   "cell_type": "markdown",
   "id": "424a618b",
   "metadata": {},
   "source": [
    "### Conclusion"
   ]
  },
  {
   "cell_type": "markdown",
   "id": "eec93a58",
   "metadata": {},
   "source": []
  },
  {
   "cell_type": "markdown",
   "id": "a2352ac8",
   "metadata": {},
   "source": [
    "### References"
   ]
  },
  {
   "cell_type": "markdown",
   "id": "e85bd2b1",
   "metadata": {},
   "source": [
    "1. [Numpy's definition of a normal distribution](https://numpy.org/doc/stable/reference/random/generated/numpy.random.Generator.normal.html#numpy.random.Generator.normal)\n",
    "2. [Wikipedia's explanation of Kurtosis](https://en.wikipedia.org/wiki/Kurtosis)\n",
    "3. [The empirical rule](https://www.investopedia.com/terms/e/empirical-rule.asp)\n",
    "4. [The Central LImit Theorem](https://en.wikipedia.org/wiki/Central_limit_theorem)\n",
    "5. [The Central Limit Theorem (Medium)](https://medium.com/analytics-vidhya/central-limit-theorem-and-machine-learning-part-1-af3b65dc9d32)<br>\n",
    "6. [Scipy normal distribution (Python Guides)](https://pythonguides.com/scipy-normal-distribution/)<br>\n",
    "7. [Wikipedia's definition of the Normal distribution](https://en.wikipedia.org/wiki/Normal_distribution)<br>\n",
    "8. [Normalize data in pandas](https://www.statology.org/normalize-columns-pandas-dataframe/#:~:text=How%20to%20Normalize%20Columns%20in%20a%20Pandas%20DataFrame,%3D%20%28value%20%E2%80%93%20min%29%20%2F%20%28max%20%E2%80%93%20min%29)<br>\n",
    "9. [Fixing Pandas error](https://www.statology.org/module-pandas-has-no-attribute-dataframe/)<br>\n",
    "10.[Pearson's coefficient of skewness](https://www.statisticshowto.com/probability-and-statistics/statistics-definitions/pearsons-coefficient-of-skewness/)<br>\n",
    "11.[Wikipedia's definition of skewness](https://en.wikipedia.org/wiki/Skewness)<br>\n",
    "12.[scipy stats skew](https://docs.scipy.org/doc/scipy/reference/generated/scipy.stats.skew.html)<br>\n",
    "13.[scipy stats skewtest](https://docs.scipy.org/doc/scipy/reference/generated/scipy.stats.skewtest.html#scipy.stats.skewtest)<br>\n",
    "14.[Pandas reference for kurtosis](https://pandas.pydata.org/docs/reference/api/pandas.DataFrame.kurtosis.html)<br>\n",
    "15.[Scipy reference for kurtosis](https://docs.scipy.org/doc/scipy/reference/generated/scipy.stats.kurtosis.html)<br>\n",
    "16.[Kernel density estimation (kde)](https://www.statsmodels.org/stable/examples/notebooks/generated/kernel_density.html)<br>\n",
    "17.[Pearson mode and median skewness](https://corporatefinanceinstitute.com/resources/data-science/skewness/)<br>\n",
    "18.[Calculating kurtosis in python](https://pyshark.com/kurtosis-in-python/#how-to-calculate-kurtosis)<br>\n",
    "19.[Standard deviations and distribution of data](https://www.datasciencecentral.com/how-to-differentiate-dataset-if-it-has-normal-distribution/)<br>\n",
    "20.[Mathematical notation in markdown](https://upyesp.org/posts/makrdown-vscode-math-notation/)<br>\n",
    "21.[LaTeX guide](https://www.fabriziomusacchio.com/teaching/LaTeX_Guide/#calculus)<br>\n",
    "22.[How to use LaTeX in markdown](https://www.fabriziomusacchio.com/blog/2021-08-10-How_to_use_LaTeX_in_Markdown/)<br>\n",
    "23.[Central limit theorem](https://www.statology.org/central-limit-theorem/)<br>\n",
    "24.[]()<br>\n",
    "25.[]()<br>\n",
    "17.[]()<br>\n",
    "17.[]()<br>\n",
    "17.[]()<br>\n",
    "17.[]()<br>\n",
    "17.[]()<br>\n",
    "\n",
    "\n"
   ]
  }
 ],
 "metadata": {
  "kernelspec": {
   "display_name": "Python 3 (ipykernel)",
   "language": "python",
   "name": "python3"
  },
  "language_info": {
   "codemirror_mode": {
    "name": "ipython",
    "version": 3
   },
   "file_extension": ".py",
   "mimetype": "text/x-python",
   "name": "python",
   "nbconvert_exporter": "python",
   "pygments_lexer": "ipython3",
   "version": "3.9.13"
  }
 },
 "nbformat": 4,
 "nbformat_minor": 5
}
